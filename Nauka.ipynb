{
 "cells": [
  {
   "cell_type": "markdown",
   "metadata": {},
   "source": [
    "# "
   ]
  },
  {
   "cell_type": "code",
   "execution_count": 1,
   "metadata": {
    "collapsed": true
   },
   "outputs": [],
   "source": [
    "a=1\n",
    "b=3\n",
    "c=5"
   ]
  },
  {
   "cell_type": "code",
   "execution_count": 2,
   "metadata": {},
   "outputs": [
    {
     "data": {
      "text/plain": [
       "8"
      ]
     },
     "execution_count": 2,
     "metadata": {},
     "output_type": "execute_result"
    }
   ],
   "source": [
    "b+c"
   ]
  },
  {
   "cell_type": "code",
   "execution_count": 35,
   "metadata": {
    "collapsed": true
   },
   "outputs": [],
   "source": [
    "d=[1,2,3,4,5,6,7]"
   ]
  },
  {
   "cell_type": "code",
   "execution_count": 36,
   "metadata": {},
   "outputs": [
    {
     "data": {
      "text/plain": [
       "[1, 2, 3, 4, 5, 6, 7]"
      ]
     },
     "execution_count": 36,
     "metadata": {},
     "output_type": "execute_result"
    }
   ],
   "source": [
    "d"
   ]
  },
  {
   "cell_type": "code",
   "execution_count": 41,
   "metadata": {},
   "outputs": [
    {
     "data": {
      "text/plain": [
       "[1, 3, 5]"
      ]
     },
     "execution_count": 41,
     "metadata": {},
     "output_type": "execute_result"
    }
   ],
   "source": [
    "d[:5:2]"
   ]
  },
  {
   "cell_type": "code",
   "execution_count": 45,
   "metadata": {},
   "outputs": [
    {
     "data": {
      "text/plain": [
       "list"
      ]
     },
     "execution_count": 45,
     "metadata": {},
     "output_type": "execute_result"
    }
   ],
   "source": [
    "type(d)"
   ]
  },
  {
   "cell_type": "code",
   "execution_count": 46,
   "metadata": {},
   "outputs": [
    {
     "data": {
      "text/plain": [
       "[7, 6, 5, 4, 3, 2, 1]"
      ]
     },
     "execution_count": 46,
     "metadata": {},
     "output_type": "execute_result"
    }
   ],
   "source": []
  },
  {
   "cell_type": "code",
   "execution_count": 48,
   "metadata": {},
   "outputs": [
    {
     "data": {
      "text/plain": [
       "[6, 5]"
      ]
     },
     "execution_count": 48,
     "metadata": {},
     "output_type": "execute_result"
    }
   ],
   "source": [
    "d[::-1][1:3]"
   ]
  },
  {
   "cell_type": "code",
   "execution_count": 49,
   "metadata": {
    "collapsed": true
   },
   "outputs": [],
   "source": [
    "?d.append"
   ]
  },
  {
   "cell_type": "code",
   "execution_count": 50,
   "metadata": {},
   "outputs": [
    {
     "data": {
      "text/plain": [
       "[1, 2, 3, 4, 5, 6, 7]"
      ]
     },
     "execution_count": 50,
     "metadata": {},
     "output_type": "execute_result"
    }
   ],
   "source": [
    "d"
   ]
  },
  {
   "cell_type": "code",
   "execution_count": 51,
   "metadata": {
    "collapsed": true
   },
   "outputs": [],
   "source": [
    "d.append(8)"
   ]
  },
  {
   "cell_type": "code",
   "execution_count": 52,
   "metadata": {},
   "outputs": [
    {
     "data": {
      "text/plain": [
       "[1, 2, 3, 4, 5, 6, 7, 8]"
      ]
     },
     "execution_count": 52,
     "metadata": {},
     "output_type": "execute_result"
    }
   ],
   "source": [
    "d"
   ]
  },
  {
   "cell_type": "code",
   "execution_count": 53,
   "metadata": {
    "collapsed": true
   },
   "outputs": [],
   "source": [
    "e=1,2,3,4,5"
   ]
  },
  {
   "cell_type": "code",
   "execution_count": 54,
   "metadata": {},
   "outputs": [
    {
     "data": {
      "text/plain": [
       "(1, 2, 3, 4, 5)"
      ]
     },
     "execution_count": 54,
     "metadata": {},
     "output_type": "execute_result"
    }
   ],
   "source": [
    "e"
   ]
  },
  {
   "cell_type": "code",
   "execution_count": 43,
   "metadata": {
    "collapsed": true
   },
   "outputs": [],
   "source": [
    "d.append(9)"
   ]
  },
  {
   "cell_type": "code",
   "execution_count": 45,
   "metadata": {},
   "outputs": [
    {
     "data": {
      "text/plain": [
       "8"
      ]
     },
     "execution_count": 45,
     "metadata": {},
     "output_type": "execute_result"
    }
   ],
   "source": [
    "len(d)"
   ]
  },
  {
   "cell_type": "code",
   "execution_count": 52,
   "metadata": {
    "collapsed": true
   },
   "outputs": [],
   "source": [
    "?d.remove"
   ]
  },
  {
   "cell_type": "code",
   "execution_count": 48,
   "metadata": {},
   "outputs": [
    {
     "data": {
      "text/plain": [
       "[1, 2, 3, 4, 5, 6, 7, 9, 10]"
      ]
     },
     "execution_count": 48,
     "metadata": {},
     "output_type": "execute_result"
    }
   ],
   "source": [
    "d"
   ]
  },
  {
   "cell_type": "code",
   "execution_count": 60,
   "metadata": {},
   "outputs": [
    {
     "data": {
      "text/plain": [
       "{1, 2, 3, 4, 6}"
      ]
     },
     "execution_count": 60,
     "metadata": {},
     "output_type": "execute_result"
    }
   ],
   "source": [
    "f"
   ]
  },
  {
   "cell_type": "code",
   "execution_count": 10,
   "metadata": {
    "collapsed": true
   },
   "outputs": [],
   "source": [
    "słownik={'imię':'Kinga', 'nazwisko':'Kuźmiak'}"
   ]
  },
  {
   "cell_type": "code",
   "execution_count": 11,
   "metadata": {},
   "outputs": [
    {
     "data": {
      "text/plain": [
       "{'imię': 'Kinga', 'nazwisko': 'Kuźmiak'}"
      ]
     },
     "execution_count": 11,
     "metadata": {},
     "output_type": "execute_result"
    }
   ],
   "source": [
    "słownik"
   ]
  },
  {
   "cell_type": "code",
   "execution_count": 25,
   "metadata": {
    "collapsed": true
   },
   "outputs": [],
   "source": [
    "słownik.update({'imię': 'Teresa', 'nazwisko':'Kołodziej'})"
   ]
  },
  {
   "cell_type": "code",
   "execution_count": 29,
   "metadata": {},
   "outputs": [
    {
     "data": {
      "text/plain": [
       "{'imię': 'Teresa', 'nazwisko': 'Kołodziej'}"
      ]
     },
     "execution_count": 29,
     "metadata": {},
     "output_type": "execute_result"
    }
   ],
   "source": [
    "słownik"
   ]
  },
  {
   "cell_type": "code",
   "execution_count": 31,
   "metadata": {
    "collapsed": true
   },
   "outputs": [],
   "source": [
    "?słownik."
   ]
  },
  {
   "cell_type": "markdown",
   "metadata": {},
   "source": [
    "# LISTY"
   ]
  },
  {
   "cell_type": "code",
   "execution_count": 27,
   "metadata": {
    "collapsed": true
   },
   "outputs": [],
   "source": [
    "f=['kinga', 'piotr', 'monika', 'teresa']"
   ]
  },
  {
   "cell_type": "code",
   "execution_count": 28,
   "metadata": {},
   "outputs": [
    {
     "data": {
      "text/plain": [
       "['kinga', 'piotr', 'monika', 'teresa']"
      ]
     },
     "execution_count": 28,
     "metadata": {},
     "output_type": "execute_result"
    }
   ],
   "source": [
    "f"
   ]
  },
  {
   "cell_type": "code",
   "execution_count": 51,
   "metadata": {
    "collapsed": true
   },
   "outputs": [],
   "source": [
    "f.append('zygmunt')"
   ]
  },
  {
   "cell_type": "code",
   "execution_count": 52,
   "metadata": {},
   "outputs": [
    {
     "data": {
      "text/plain": [
       "['kinga', 'piotr', 'monika', 'teresa', 'zygmunt']"
      ]
     },
     "execution_count": 52,
     "metadata": {},
     "output_type": "execute_result"
    }
   ],
   "source": [
    "f"
   ]
  },
  {
   "cell_type": "code",
   "execution_count": 23,
   "metadata": {},
   "outputs": [
    {
     "data": {
      "text/plain": [
       "['Kinga', 'Piotr', 'Monika', 'Teresa', 'Zygmunt']"
      ]
     },
     "execution_count": 23,
     "metadata": {},
     "output_type": "execute_result"
    }
   ],
   "source": [
    "[x.title() for x in f]"
   ]
  },
  {
   "cell_type": "code",
   "execution_count": 53,
   "metadata": {},
   "outputs": [
    {
     "data": {
      "text/plain": [
       "'zygmunt'"
      ]
     },
     "execution_count": 53,
     "metadata": {},
     "output_type": "execute_result"
    }
   ],
   "source": [
    "f.pop()"
   ]
  },
  {
   "cell_type": "code",
   "execution_count": 54,
   "metadata": {},
   "outputs": [
    {
     "data": {
      "text/plain": [
       "['kinga', 'piotr', 'monika', 'teresa']"
      ]
     },
     "execution_count": 54,
     "metadata": {},
     "output_type": "execute_result"
    }
   ],
   "source": [
    "f"
   ]
  },
  {
   "cell_type": "code",
   "execution_count": 3,
   "metadata": {},
   "outputs": [
    {
     "data": {
      "text/plain": [
       "2"
      ]
     },
     "execution_count": 3,
     "metadata": {},
     "output_type": "execute_result"
    }
   ],
   "source": [
    "2%3"
   ]
  },
  {
   "cell_type": "code",
   "execution_count": 4,
   "metadata": {},
   "outputs": [
    {
     "data": {
      "text/plain": [
       "2"
      ]
     },
     "execution_count": 4,
     "metadata": {},
     "output_type": "execute_result"
    }
   ],
   "source": [
    "2%4"
   ]
  },
  {
   "cell_type": "code",
   "execution_count": 5,
   "metadata": {},
   "outputs": [
    {
     "data": {
      "text/plain": [
       "2"
      ]
     },
     "execution_count": 5,
     "metadata": {},
     "output_type": "execute_result"
    }
   ],
   "source": [
    "2%5"
   ]
  },
  {
   "cell_type": "code",
   "execution_count": 6,
   "metadata": {},
   "outputs": [
    {
     "data": {
      "text/plain": [
       "1"
      ]
     },
     "execution_count": 6,
     "metadata": {},
     "output_type": "execute_result"
    }
   ],
   "source": [
    "5%2"
   ]
  },
  {
   "cell_type": "code",
   "execution_count": 7,
   "metadata": {},
   "outputs": [
    {
     "data": {
      "text/plain": [
       "0"
      ]
     },
     "execution_count": 7,
     "metadata": {},
     "output_type": "execute_result"
    }
   ],
   "source": [
    "6%3"
   ]
  },
  {
   "cell_type": "code",
   "execution_count": 8,
   "metadata": {},
   "outputs": [
    {
     "data": {
      "text/plain": [
       "8"
      ]
     },
     "execution_count": 8,
     "metadata": {},
     "output_type": "execute_result"
    }
   ],
   "source": [
    "2**3"
   ]
  },
  {
   "cell_type": "code",
   "execution_count": 9,
   "metadata": {},
   "outputs": [
    {
     "data": {
      "text/plain": [
       "1"
      ]
     },
     "execution_count": 9,
     "metadata": {},
     "output_type": "execute_result"
    }
   ],
   "source": [
    "3//2"
   ]
  },
  {
   "cell_type": "code",
   "execution_count": 10,
   "metadata": {},
   "outputs": [
    {
     "data": {
      "text/plain": [
       "3"
      ]
     },
     "execution_count": 10,
     "metadata": {},
     "output_type": "execute_result"
    }
   ],
   "source": [
    "7//2"
   ]
  },
  {
   "cell_type": "code",
   "execution_count": 11,
   "metadata": {},
   "outputs": [
    {
     "data": {
      "text/plain": [
       "35"
      ]
     },
     "execution_count": 11,
     "metadata": {},
     "output_type": "execute_result"
    }
   ],
   "source": [
    "2017-1982"
   ]
  },
  {
   "cell_type": "code",
   "execution_count": 13,
   "metadata": {},
   "outputs": [
    {
     "ename": "SyntaxError",
     "evalue": "invalid syntax (<ipython-input-13-cd9f577e2c4d>, line 1)",
     "output_type": "error",
     "traceback": [
      "\u001b[0;36m  File \u001b[0;32m\"<ipython-input-13-cd9f577e2c4d>\"\u001b[0;36m, line \u001b[0;32m1\u001b[0m\n\u001b[0;31m    (2017.11.27)-(1982.06.09)\u001b[0m\n\u001b[0m              ^\u001b[0m\n\u001b[0;31mSyntaxError\u001b[0m\u001b[0;31m:\u001b[0m invalid syntax\n"
     ]
    }
   ],
   "source": [
    "(2017.11.27)-(1982.06.09)"
   ]
  },
  {
   "cell_type": "code",
   "execution_count": 15,
   "metadata": {
    "collapsed": true
   },
   "outputs": [],
   "source": [
    "from datetime import datetime"
   ]
  },
  {
   "cell_type": "code",
   "execution_count": 16,
   "metadata": {},
   "outputs": [
    {
     "data": {
      "text/plain": [
       "datetime.datetime(2017, 11, 27, 21, 2, 28, 423143)"
      ]
     },
     "execution_count": 16,
     "metadata": {},
     "output_type": "execute_result"
    }
   ],
   "source": [
    "datetime.now()"
   ]
  },
  {
   "cell_type": "code",
   "execution_count": 24,
   "metadata": {
    "collapsed": true
   },
   "outputs": [],
   "source": [
    "ciag = 5"
   ]
  },
  {
   "cell_type": "code",
   "execution_count": 25,
   "metadata": {},
   "outputs": [
    {
     "data": {
      "text/plain": [
       "int"
      ]
     },
     "execution_count": 25,
     "metadata": {},
     "output_type": "execute_result"
    }
   ],
   "source": [
    "type(ciag)"
   ]
  },
  {
   "cell_type": "code",
   "execution_count": 27,
   "metadata": {},
   "outputs": [
    {
     "data": {
      "text/plain": [
       "str"
      ]
     },
     "execution_count": 27,
     "metadata": {},
     "output_type": "execute_result"
    }
   ],
   "source": [
    "type(str(ciag))"
   ]
  },
  {
   "cell_type": "code",
   "execution_count": 31,
   "metadata": {},
   "outputs": [
    {
     "data": {
      "text/plain": [
       "2.0"
      ]
     },
     "execution_count": 31,
     "metadata": {},
     "output_type": "execute_result"
    }
   ],
   "source": [
    "(1+2+3)/3"
   ]
  },
  {
   "cell_type": "code",
   "execution_count": 3,
   "metadata": {
    "collapsed": true
   },
   "outputs": [],
   "source": [
    "lista= [1,2,3,4]"
   ]
  },
  {
   "cell_type": "code",
   "execution_count": 4,
   "metadata": {},
   "outputs": [
    {
     "data": {
      "text/plain": [
       "list"
      ]
     },
     "execution_count": 4,
     "metadata": {},
     "output_type": "execute_result"
    }
   ],
   "source": [
    "type(lista)"
   ]
  },
  {
   "cell_type": "code",
   "execution_count": 7,
   "metadata": {},
   "outputs": [
    {
     "data": {
      "text/plain": [
       "2.5"
      ]
     },
     "execution_count": 7,
     "metadata": {},
     "output_type": "execute_result"
    }
   ],
   "source": [
    "(lista[0]+lista[1]+lista[2]+lista[3])/len(lista)"
   ]
  },
  {
   "cell_type": "code",
   "execution_count": 6,
   "metadata": {},
   "outputs": [
    {
     "data": {
      "text/plain": [
       "2.5"
      ]
     },
     "execution_count": 6,
     "metadata": {},
     "output_type": "execute_result"
    }
   ],
   "source": [
    "sum(lista)/len(lista)"
   ]
  },
  {
   "cell_type": "code",
   "execution_count": 1,
   "metadata": {
    "collapsed": true
   },
   "outputs": [],
   "source": [
    "lista_stron = [23, 5, 43, 0, 0, 5, 0, 32, 67]"
   ]
  },
  {
   "cell_type": "code",
   "execution_count": 3,
   "metadata": {},
   "outputs": [
    {
     "data": {
      "text/plain": [
       "32"
      ]
     },
     "execution_count": 3,
     "metadata": {},
     "output_type": "execute_result"
    }
   ],
   "source": [
    "lista_stron[-2]"
   ]
  },
  {
   "cell_type": "code",
   "execution_count": 4,
   "metadata": {},
   "outputs": [
    {
     "data": {
      "text/plain": [
       "[32, 67]"
      ]
     },
     "execution_count": 4,
     "metadata": {},
     "output_type": "execute_result"
    }
   ],
   "source": [
    "lista_stron[-2:]"
   ]
  },
  {
   "cell_type": "code",
   "execution_count": 10,
   "metadata": {
    "collapsed": true
   },
   "outputs": [],
   "source": [
    "moi_znajomi = [\"Agnieszka Kowalik\", \"Ela Majewska\"]"
   ]
  },
  {
   "cell_type": "code",
   "execution_count": 11,
   "metadata": {},
   "outputs": [
    {
     "data": {
      "text/plain": [
       "True"
      ]
     },
     "execution_count": 11,
     "metadata": {},
     "output_type": "execute_result"
    }
   ],
   "source": [
    "\"Ela Majewska\" in moi_znajomi"
   ]
  },
  {
   "cell_type": "code",
   "execution_count": 12,
   "metadata": {},
   "outputs": [
    {
     "data": {
      "text/plain": [
       "False"
      ]
     },
     "execution_count": 12,
     "metadata": {},
     "output_type": "execute_result"
    }
   ],
   "source": [
    "\"Kasia Czubak\" in moi_znajomi"
   ]
  },
  {
   "cell_type": "code",
   "execution_count": 13,
   "metadata": {},
   "outputs": [
    {
     "name": "stdout",
     "output_type": "stream",
     "text": [
      "['Agnieszka Kowalik', 'Ela Majewska', 'Kasia Czubak']\n"
     ]
    }
   ],
   "source": [
    "moi_znajomi.append(\"Kasia Czubak\")\n",
    "print (moi_znajomi)"
   ]
  },
  {
   "cell_type": "code",
   "execution_count": 15,
   "metadata": {},
   "outputs": [
    {
     "name": "stdout",
     "output_type": "stream",
     "text": [
      "['Agnieszka Kowalik', 'Ela Majewska']\n"
     ]
    }
   ],
   "source": [
    "del moi_znajomi[2]\n",
    "print (moi_znajomi)"
   ]
  },
  {
   "cell_type": "markdown",
   "metadata": {},
   "source": [
    "        moi_"
   ]
  },
  {
   "cell_type": "code",
   "execution_count": 16,
   "metadata": {
    "collapsed": true
   },
   "outputs": [],
   "source": [
    "moi_znajomi.remove(\"Agnieszka Kowalik\")"
   ]
  },
  {
   "cell_type": "code",
   "execution_count": 17,
   "metadata": {},
   "outputs": [
    {
     "data": {
      "text/plain": [
       "['Ela Majewska']"
      ]
     },
     "execution_count": 17,
     "metadata": {},
     "output_type": "execute_result"
    }
   ],
   "source": [
    "moi_znajomi"
   ]
  },
  {
   "cell_type": "code",
   "execution_count": 20,
   "metadata": {},
   "outputs": [
    {
     "name": "stdout",
     "output_type": "stream",
     "text": [
      "['Ela Majewska', 'Kasia Kowalska', 'Kasia Durowicz']\n"
     ]
    }
   ],
   "source": [
    "moi_znajomi.extend([\"Kasia Kowalska\", \"Kasia Durowicz\"])\n",
    "print (moi_znajomi)"
   ]
  },
  {
   "cell_type": "code",
   "execution_count": 8,
   "metadata": {
    "collapsed": true
   },
   "outputs": [],
   "source": [
    "filmy=[\"Casablanca\", \"Ojciec Chrzestny\", \"Mary Poppins\"]"
   ]
  },
  {
   "cell_type": "code",
   "execution_count": 9,
   "metadata": {},
   "outputs": [
    {
     "name": "stdout",
     "output_type": "stream",
     "text": [
      "podaj nowy tytuł filmuMarry\n"
     ]
    }
   ],
   "source": [
    "nowy_film=input(\"podaj nowy tytuł filmu\")\n",
    "\n",
    "if nowy_film not in filmy:\n",
    "    filmy.append(nowy_film)\n",
    "else:\n",
    "    print (\"Film jest już na liście\")\n",
    "    "
   ]
  },
  {
   "cell_type": "code",
   "execution_count": 10,
   "metadata": {},
   "outputs": [
    {
     "data": {
      "text/plain": [
       "['Casablanca', 'Ojciec Chrzestny', 'Mary Poppins', 'Marry']"
      ]
     },
     "execution_count": 10,
     "metadata": {},
     "output_type": "execute_result"
    }
   ],
   "source": [
    "filmy"
   ]
  },
  {
   "cell_type": "code",
   "execution_count": 11,
   "metadata": {},
   "outputs": [
    {
     "name": "stdout",
     "output_type": "stream",
     "text": [
      "Bieżąca litera:  P\n",
      "Bieżąca litera:  y\n",
      "Bieżąca litera:  t\n",
      "Bieżąca litera:  h\n",
      "Bieżąca litera:  o\n",
      "Bieżąca litera:  n\n"
     ]
    }
   ],
   "source": [
    "for letter in 'Python':\n",
    "    print ('Bieżąca litera: ', letter)"
   ]
  },
  {
   "cell_type": "code",
   "execution_count": 13,
   "metadata": {},
   "outputs": [
    {
     "name": "stdout",
     "output_type": "stream",
     "text": [
      "10\n",
      "11\n",
      "12\n",
      "13\n",
      "14\n",
      "15\n",
      "16\n",
      "17\n",
      "18\n",
      "19\n"
     ]
    }
   ],
   "source": [
    "for num in range(10,20): #od 10 do 19\n",
    "    print (num)"
   ]
  },
  {
   "cell_type": "code",
   "execution_count": 20,
   "metadata": {
    "collapsed": true
   },
   "outputs": [],
   "source": [
    "moi_znajomi = [\"Maciek Nowak”, “Ania Kowalska”, “Michu Bogacki”, “Marta Kacprzak”, “Staszek Piotrowski”, “Paweł Nowaczyk\"] "
   ]
  },
  {
   "cell_type": "code",
   "execution_count": 31,
   "metadata": {},
   "outputs": [
    {
     "ename": "SyntaxError",
     "evalue": "EOL while scanning string literal (<ipython-input-31-6d653ad950de>, line 1)",
     "output_type": "error",
     "traceback": [
      "\u001b[0;36m  File \u001b[0;32m\"<ipython-input-31-6d653ad950de>\"\u001b[0;36m, line \u001b[0;32m1\u001b[0m\n\u001b[0;31m    osoby =[\"Monika\", \"Wojciech”, “Jan”, “Piotr”,“Agata”]\u001b[0m\n\u001b[0m                                                         ^\u001b[0m\n\u001b[0;31mSyntaxError\u001b[0m\u001b[0;31m:\u001b[0m EOL while scanning string literal\n"
     ]
    }
   ],
   "source": [
    "osoby =[\"Monika\", \"Wojciech”, “Jan”, “Piotr”,“Agata”]"
   ]
  },
  {
   "cell_type": "code",
   "execution_count": 32,
   "metadata": {
    "collapsed": true
   },
   "outputs": [],
   "source": [
    "osoby= [\"Kinga\", \"Kasia\", \"Mikołak\"]"
   ]
  },
  {
   "cell_type": "code",
   "execution_count": 34,
   "metadata": {},
   "outputs": [
    {
     "name": "stdout",
     "output_type": "stream",
     "text": [
      "Wesołych ŚWiąt  Kinga\n",
      "Wesołych ŚWiąt  Kasia\n",
      "Wesołych ŚWiąt  Mikołak\n"
     ]
    }
   ],
   "source": [
    "for osoba in osoby:\n",
    "    print(\"Wesołych ŚWiąt \", osoba)"
   ]
  },
  {
   "cell_type": "code",
   "execution_count": 37,
   "metadata": {},
   "outputs": [
    {
     "name": "stdout",
     "output_type": "stream",
     "text": [
      "2\n",
      "4\n",
      "6\n",
      "8\n",
      "10\n",
      "12\n",
      "14\n",
      "16\n",
      "18\n",
      "20\n",
      "22\n",
      "24\n"
     ]
    }
   ],
   "source": [
    "for liczba in range (2,26):\n",
    "    if liczba %2==0:\n",
    "        print (liczba)\n",
    "    "
   ]
  },
  {
   "cell_type": "code",
   "execution_count": 6,
   "metadata": {
    "collapsed": true
   },
   "outputs": [],
   "source": [
    "zdanie=\"Ala ma 6 koty\""
   ]
  },
  {
   "cell_type": "code",
   "execution_count": 7,
   "metadata": {},
   "outputs": [
    {
     "data": {
      "text/plain": [
       "False"
      ]
     },
     "execution_count": 7,
     "metadata": {},
     "output_type": "execute_result"
    }
   ],
   "source": [
    "zdanie.isdigit()"
   ]
  },
  {
   "cell_type": "code",
   "execution_count": 25,
   "metadata": {},
   "outputs": [
    {
     "name": "stdout",
     "output_type": "stream",
     "text": [
      "7\n"
     ]
    }
   ],
   "source": [
    "for x in zdanie:\n",
    "    if x.isdigit():\n",
    "        print(zdanie.index(x))"
   ]
  },
  {
   "cell_type": "code",
   "execution_count": 9,
   "metadata": {},
   "outputs": [
    {
     "data": {
      "text/plain": [
       "13"
      ]
     },
     "execution_count": 9,
     "metadata": {},
     "output_type": "execute_result"
    }
   ],
   "source": []
  },
  {
   "cell_type": "code",
   "execution_count": 31,
   "metadata": {},
   "outputs": [
    {
     "name": "stdout",
     "output_type": "stream",
     "text": [
      "7\n"
     ]
    }
   ],
   "source": [
    "for x in range(len(zdanie)):\n",
    "    if zdanie[x].isdigit():\n",
    "        print(x)"
   ]
  },
  {
   "cell_type": "code",
   "execution_count": 23,
   "metadata": {},
   "outputs": [
    {
     "data": {
      "text/plain": [
       "0"
      ]
     },
     "execution_count": 23,
     "metadata": {},
     "output_type": "execute_result"
    }
   ],
   "source": [
    "zdanie.index('A')"
   ]
  },
  {
   "cell_type": "code",
   "execution_count": 17,
   "metadata": {},
   "outputs": [
    {
     "data": {
      "text/plain": [
       "range(0, 13)"
      ]
     },
     "execution_count": 17,
     "metadata": {},
     "output_type": "execute_result"
    }
   ],
   "source": [
    "range(13)"
   ]
  },
  {
   "cell_type": "code",
   "execution_count": 19,
   "metadata": {
    "collapsed": true
   },
   "outputs": [],
   "source": [
    "lista = [1,2,3,4]"
   ]
  },
  {
   "cell_type": "code",
   "execution_count": 20,
   "metadata": {},
   "outputs": [
    {
     "data": {
      "text/plain": [
       "2"
      ]
     },
     "execution_count": 20,
     "metadata": {},
     "output_type": "execute_result"
    }
   ],
   "source": [
    "lista[1]"
   ]
  },
  {
   "cell_type": "code",
   "execution_count": 36,
   "metadata": {},
   "outputs": [
    {
     "name": "stdout",
     "output_type": "stream",
     "text": [
      "imię nowego znajomegoKinga\n",
      "imię nowego znajomegoKasia\n",
      "imię nowego znajomegoRobert\n",
      "imię nowego znajomegoMonika\n",
      "imię nowego znajomegogrzgorz\n",
      "['Kinga', 'Kasia', 'Robert', 'Monika', 'grzgorz']\n"
     ]
    }
   ],
   "source": [
    "znajomi=[]\n",
    "licznik = 0\n",
    "while licznik < 5:\n",
    "    nowy_znajomy=input(\"imię nowego znajomego\")\n",
    "    licznik +=1\n",
    "    znajomi.append(nowy_znajomy)\n",
    "print (znajomi)"
   ]
  },
  {
   "cell_type": "code",
   "execution_count": 7,
   "metadata": {},
   "outputs": [
    {
     "name": "stdout",
     "output_type": "stream",
     "text": [
      "podaj wynagrodzenie1000\n",
      "podaj wynagrodzenie2000\n",
      "podaj wynagrodzenie3000\n",
      "podaj wynagrodzenie1000\n",
      "podaj wynagrodzenie2000\n",
      "podaj wynagrodzenie1000\n",
      "podaj wynagrodzenie2000\n",
      "podaj wynagrodzenie1000\n",
      "podaj wynagrodzenie2000\n",
      "podaj wynagrodzenie1000\n",
      "podaj wynagrodzenie20001\n",
      "podaj wynagrodzenie1000\n",
      "[1000, 2000, 3000, 1000, 2000, 1000, 2000, 1000, 2000, 1000, 20001, 1000]\n",
      "średnie wynagrodzenie:  3083\n"
     ]
    }
   ],
   "source": [
    "wynagrodzenie_roczne=[]\n",
    "licznik=0\n",
    "while licznik <12:\n",
    "    wynagrodzenie=input(\"podaj wynagrodzenie\")\n",
    "    licznik+=1\n",
    "    wynagrodzenie_roczne.append(int(wynagrodzenie))\n",
    "print(wynagrodzenie_roczne)\n",
    "print(\"średnie wynagrodzenie: \", round(sum(wynagrodzenie_roczne)/ len(wynagrodzenie_roczne)))"
   ]
  },
  {
   "cell_type": "markdown",
   "metadata": {},
   "source": []
  },
  {
   "cell_type": "code",
   "execution_count": 40,
   "metadata": {},
   "outputs": [
    {
     "data": {
      "text/plain": [
       "12"
      ]
     },
     "execution_count": 40,
     "metadata": {},
     "output_type": "execute_result"
    }
   ],
   "source": [
    "len(wynagrodzenie_roczne)"
   ]
  },
  {
   "cell_type": "code",
   "execution_count": 3,
   "metadata": {},
   "outputs": [
    {
     "data": {
      "text/plain": [
       "18000"
      ]
     },
     "execution_count": 3,
     "metadata": {},
     "output_type": "execute_result"
    }
   ],
   "source": [
    "sum(wynagrodzenie_roczne)"
   ]
  },
  {
   "cell_type": "code",
   "execution_count": 47,
   "metadata": {},
   "outputs": [
    {
     "data": {
      "text/plain": [
       "list"
      ]
     },
     "execution_count": 47,
     "metadata": {},
     "output_type": "execute_result"
    }
   ],
   "source": [
    "type(wynagrodzenie_roczne[0])"
   ]
  },
  {
   "cell_type": "code",
   "execution_count": 15,
   "metadata": {},
   "outputs": [
    {
     "ename": "SyntaxError",
     "evalue": "EOL while scanning string literal (<ipython-input-15-e374c968374b>, line 2)",
     "output_type": "error",
     "traceback": [
      "\u001b[0;36m  File \u001b[0;32m\"<ipython-input-15-e374c968374b>\"\u001b[0;36m, line \u001b[0;32m2\u001b[0m\n\u001b[0;31m    liczba = int(input(\"Podaj liczbę: “))\u001b[0m\n\u001b[0m                                         ^\u001b[0m\n\u001b[0;31mSyntaxError\u001b[0m\u001b[0;31m:\u001b[0m EOL while scanning string literal\n"
     ]
    }
   ],
   "source": [
    "while True:\n",
    "    liczba = int(input(\"Podaj liczbę: “))\n",
    "    print(liczba)\n",
    "    if liczba == 0:\n",
    "    break"
   ]
  },
  {
   "cell_type": "code",
   "execution_count": 19,
   "metadata": {},
   "outputs": [
    {
     "name": "stdout",
     "output_type": "stream",
     "text": [
      "Podaj liczbę: 100\n",
      "Podaj liczbę: 200\n",
      "Podaj liczbę: 100\n",
      "Podaj liczbę: 0\n"
     ]
    }
   ],
   "source": [
    "while True:\n",
    "    liczba=int(input(\"Podaj liczbę: \"))\n",
    "    if liczba == 0:\n",
    "        break"
   ]
  },
  {
   "cell_type": "code",
   "execution_count": 22,
   "metadata": {},
   "outputs": [
    {
     "name": "stdout",
     "output_type": "stream",
     "text": [
      "Liczba parzysta 2\n",
      "Liczba parzysta 4\n",
      "Liczba parzysta 6\n",
      "Liczba parzysta 8\n",
      "Liczba nieparzysta 8\n"
     ]
    }
   ],
   "source": [
    "for num in range(2, 9):\n",
    "    if num % 2 == 0:\n",
    "        print (\"Liczba parzysta\", num)\n",
    "        continue\n",
    "print (\"Liczba nieparzysta\", num)"
   ]
  },
  {
   "cell_type": "code",
   "execution_count": 55,
   "metadata": {},
   "outputs": [
    {
     "name": "stdout",
     "output_type": "stream",
     "text": [
      "podajbudżet brutto 5000\n"
     ]
    }
   ],
   "source": [
    "budzet_brutto=float(input (\"podajbudżet brutto \"))\n",
    "ZUS = 1172.56\n",
    "ceny_prezentow=[]"
   ]
  },
  {
   "cell_type": "code",
   "execution_count": 56,
   "metadata": {},
   "outputs": [
    {
     "name": "stdout",
     "output_type": "stream",
     "text": [
      " podaj cenę prezentu1000\n",
      " podaj cenę prezentu200\n",
      " podaj cenę prezentu500\n",
      " podaj cenę prezentu2000\n",
      " podaj cenę prezentu0\n",
      "[1000.0, 200.0, 500.0, 2000.0]\n",
      "laczny_koszt_prezentow:  3700.0\n",
      "mieścisz się w budżecie\n"
     ]
    }
   ],
   "source": [
    "licznik=1\n",
    "while licznik>0:\n",
    "    cena_prezentu=float(input(\" podaj cenę prezentu\"))\n",
    "    licznik+=1\n",
    "    if cena_prezentu ==0:\n",
    "        break\n",
    "    ceny_prezentow.append(cena_prezentu)\n",
    "print(ceny_prezentow)\n",
    "print(\"laczny_koszt_prezentow: \" , sum(ceny_prezentow))\n",
    "\n",
    "if sum(ceny_prezentow )< (budzet_brutto - ZUS):\n",
    "    print(\"mieścisz się w budżecie\")\n",
    "else:\n",
    "    print (\" przekroczyłeś budżet\")"
   ]
  },
  {
   "cell_type": "code",
   "execution_count": 44,
   "metadata": {
    "collapsed": true
   },
   "outputs": [],
   "source": [
    "del licznik"
   ]
  },
  {
   "cell_type": "code",
   "execution_count": 61,
   "metadata": {},
   "outputs": [
    {
     "ename": "SyntaxError",
     "evalue": "invalid syntax (<ipython-input-61-a16087ad3fcf>, line 1)",
     "output_type": "error",
     "traceback": [
      "\u001b[0;36m  File \u001b[0;32m\"<ipython-input-61-a16087ad3fcf>\"\u001b[0;36m, line \u001b[0;32m1\u001b[0m\n\u001b[0;31m    home(/kinga/python/unpacking.py)\u001b[0m\n\u001b[0m         ^\u001b[0m\n\u001b[0;31mSyntaxError\u001b[0m\u001b[0;31m:\u001b[0m invalid syntax\n"
     ]
    }
   ],
   "source": [
    "/home/kinga/python/unpacking.py"
   ]
  },
  {
   "cell_type": "code",
   "execution_count": 65,
   "metadata": {},
   "outputs": [
    {
     "data": {
      "text/plain": [
       "'AlaAla'"
      ]
     },
     "execution_count": 65,
     "metadata": {},
     "output_type": "execute_result"
    }
   ],
   "source": [
    "x = 2\n",
    "y = \"Ala\"\n",
    "x*y"
   ]
  },
  {
   "cell_type": "code",
   "execution_count": 66,
   "metadata": {},
   "outputs": [
    {
     "ename": "SyntaxError",
     "evalue": "unexpected EOF while parsing (<ipython-input-66-1f181ebfb633>, line 1)",
     "output_type": "error",
     "traceback": [
      "\u001b[0;36m  File \u001b[0;32m\"<ipython-input-66-1f181ebfb633>\"\u001b[0;36m, line \u001b[0;32m1\u001b[0m\n\u001b[0;31m    while x>0 and x<10:\u001b[0m\n\u001b[0m                       ^\u001b[0m\n\u001b[0;31mSyntaxError\u001b[0m\u001b[0;31m:\u001b[0m unexpected EOF while parsing\n"
     ]
    }
   ],
   "source": [
    "while x>0 and x<10:"
   ]
  },
  {
   "cell_type": "code",
   "execution_count": 68,
   "metadata": {},
   "outputs": [
    {
     "data": {
      "text/plain": [
       "True"
      ]
     },
     "execution_count": 68,
     "metadata": {},
     "output_type": "execute_result"
    }
   ],
   "source": [
    "\"kot\" and True or [1, 2, 3]"
   ]
  },
  {
   "cell_type": "code",
   "execution_count": 77,
   "metadata": {},
   "outputs": [
    {
     "name": "stdout",
     "output_type": "stream",
     "text": [
      "Nice, you have won a TV!\n",
      "6\n"
     ]
    }
   ],
   "source": [
    "import random\n",
    "number = random.choice(range(1, 101))\n",
    "if 1 < number <= 5:\n",
    "    print(\"Congrats, you have won a car\")\n",
    "elif 5 < number <= 20:\n",
    "    print(\"Nice, you have won a TV!\")\n",
    "else:\n",
    "    print(\"Sorry, you have won nothing this time :(\")\n",
    "print (number)"
   ]
  },
  {
   "cell_type": "code",
   "execution_count": 83,
   "metadata": {},
   "outputs": [
    {
     "data": {
      "text/plain": [
       "5"
      ]
     },
     "execution_count": 83,
     "metadata": {},
     "output_type": "execute_result"
    }
   ],
   "source": [
    "random.randint(1,5)"
   ]
  },
  {
   "cell_type": "code",
   "execution_count": 84,
   "metadata": {},
   "outputs": [
    {
     "data": {
      "text/plain": [
       "['Ala', 'ma', 'kota']"
      ]
     },
     "execution_count": 84,
     "metadata": {},
     "output_type": "execute_result"
    }
   ],
   "source": [
    "zdanie= \"Ala ma kota\"\n",
    "zdanie.split(' ')"
   ]
  },
  {
   "cell_type": "code",
   "execution_count": 86,
   "metadata": {
    "collapsed": true
   },
   "outputs": [],
   "source": [
    "list1 = [1, 2, 3]\n",
    "list2 = list1[:]"
   ]
  },
  {
   "cell_type": "raw",
   "metadata": {},
   "source": [
    "list2"
   ]
  },
  {
   "cell_type": "markdown",
   "metadata": {
    "collapsed": true
   },
   "source": []
  },
  {
   "cell_type": "code",
   "execution_count": 5,
   "metadata": {
    "collapsed": true
   },
   "outputs": [],
   "source": [
    "haslo = \"kot\""
   ]
  },
  {
   "cell_type": "code",
   "execution_count": 17,
   "metadata": {},
   "outputs": [
    {
     "name": "stdout",
     "output_type": "stream",
     "text": [
      "podaj hasłokot\n",
      "podaj hasłokinga\n"
     ]
    }
   ],
   "source": [
    "licznik=0\n",
    "while licznik <3:\n",
    "    podaj_haslo=input(\"podaj hasło\")\n",
    "    licznik+=1\n",
    "    if podaj_haslo != haslo:\n",
    "        break\n",
    "        print(\"hasło nieprawidłowe\")\n",
    "    "
   ]
  },
  {
   "cell_type": "code",
   "execution_count": 11,
   "metadata": {},
   "outputs": [
    {
     "name": "stdout",
     "output_type": "stream",
     "text": [
      "write a sentence: Ala ma kota\n",
      "a\n",
      "a\n",
      "o\n",
      "a\n"
     ]
    }
   ],
   "source": [
    "vowels=[\"a\",\"ą\",\"e\",\"ę\",\"o\",\"ó\",\"u\",\"y\",\"i\"]\n",
    "sentence=input(\"write a sentence: \" )\n",
    "vowels_in_sentence=[]\n",
    "\n",
    "for letter in sentence:\n",
    "    if letter in vowels:\n",
    "        print (letter)"
   ]
  },
  {
   "cell_type": "code",
   "execution_count": 1,
   "metadata": {
    "collapsed": true
   },
   "outputs": [],
   "source": [
    "friends_home={\"Kinga\": \"Poznań\", \"Maria\":\"Warszawa\"}"
   ]
  },
  {
   "cell_type": "code",
   "execution_count": 9,
   "metadata": {},
   "outputs": [
    {
     "name": "stdout",
     "output_type": "stream",
     "text": [
      "{'Kinga': 'Kijów', 'Maria': 'Warszawa'}\n"
     ]
    }
   ],
   "source": [
    "friends_home[\"Kinga\"]=\"Kijów\"\n",
    "print(friends_home)"
   ]
  },
  {
   "cell_type": "code",
   "execution_count": 14,
   "metadata": {},
   "outputs": [
    {
     "name": "stdout",
     "output_type": "stream",
     "text": [
      "Michał\n",
      "Ola\n",
      "Bartek\n",
      "Tomek\n",
      "Ola\n"
     ]
    }
   ],
   "source": [
    "friends = {\n",
    "'michu86': { 'name': 'Michał', 'city': 'Poznań' },\n",
    "'olenka': { 'name': 'Ola', 'city': 'Kraków' },\n",
    "'frodo92': { 'name': 'Bartek', 'city': 'Berlin' },\n",
    "'buziaczek': {'name': 'Tomek', 'city': 'Poznań'},\n",
    "'lubie_pierogi': {'name': 'Ola','city': 'Gdańsk' },\n",
    "}\n",
    "for friend in friends:\n",
    "    print(friends[friend]['name'])"
   ]
  },
  {
   "cell_type": "code",
   "execution_count": null,
   "metadata": {
    "collapsed": true
   },
   "outputs": [],
   "source": []
  },
  {
   "cell_type": "code",
   "execution_count": 3,
   "metadata": {
    "collapsed": true
   },
   "outputs": [],
   "source": [
    "movies = {\n",
    "2000: {\"Gladiator\": {'director': 'Ridley Scott','oscar': True},\n",
    "\"Chocolat\": {'director': 'Lasse Hallström','oscar': False},\n",
    "\"Crouching Tiger, Hidden Dragon\": {'director': 'Ang Lee','oscar': False},\n",
    "\"Erin Brockovich\": {'director': 'Steven Soderbergh','oscar': False},\n",
    "\"Traffic\": {'director': 'Steven Soderbergh','oscar': False}}}"
   ]
  },
  {
   "cell_type": "markdown",
   "metadata": {},
   "source": [
    "movies"
   ]
  },
  {
   "cell_type": "code",
   "execution_count": 4,
   "metadata": {},
   "outputs": [
    {
     "data": {
      "text/plain": [
       "{2000: {'Chocolat': {'director': 'Lasse Hallström', 'oscar': False},\n",
       "  'Crouching Tiger, Hidden Dragon': {'director': 'Ang Lee', 'oscar': False},\n",
       "  'Erin Brockovich': {'director': 'Steven Soderbergh', 'oscar': False},\n",
       "  'Gladiator': {'director': 'Ridley Scott', 'oscar': True},\n",
       "  'Traffic': {'director': 'Steven Soderbergh', 'oscar': False}}}"
      ]
     },
     "execution_count": 4,
     "metadata": {},
     "output_type": "execute_result"
    }
   ],
   "source": [
    "movies"
   ]
  },
  {
   "cell_type": "code",
   "execution_count": 13,
   "metadata": {},
   "outputs": [
    {
     "name": "stdout",
     "output_type": "stream",
     "text": [
      "Gladiator\n"
     ]
    }
   ],
   "source": [
    "for year in movies:\n",
    "    for movie in movies[year]:\n",
    "        if movies[year][movie]['oscar']== True:\n",
    "            print (movie)\n",
    "    "
   ]
  },
  {
   "cell_type": "code",
   "execution_count": 19,
   "metadata": {
    "collapsed": true
   },
   "outputs": [],
   "source": [
    "loginy={'kinga':{'haslo':'kinga_haslo'},'piotr':{'haslo':'piotr_haslo'}}"
   ]
  },
  {
   "cell_type": "code",
   "execution_count": null,
   "metadata": {
    "collapsed": true
   },
   "outputs": [],
   "source": []
  },
  {
   "cell_type": "code",
   "execution_count": 26,
   "metadata": {},
   "outputs": [
    {
     "name": "stdout",
     "output_type": "stream",
     "text": [
      "Podaj login: piotr\n"
     ]
    }
   ],
   "source": [
    "uzytkownik=input('Podaj login: ')\n",
    "try:\n",
    "    if loginy[uzytkownik]['haslo']=='kinga_haslo':\n",
    "        print('witaj kinga, zostalas zalogowana')\n",
    "except KeyError:\n",
    "        print('Nie ma takiego uzytkownika')"
   ]
  },
  {
   "cell_type": "code",
   "execution_count": 8,
   "metadata": {
    "collapsed": true
   },
   "outputs": [],
   "source": [
    "movie_list = {\n",
    "    'Shrek': {\n",
    "        'kategoria': ['animacja', 'komedia'],\n",
    "        'rok': 2001,\n",
    "        'reżyser': ['Vicky Jenson', 'Andrew Adamson'] },\n",
    "    'Iron Man': {\n",
    "        'kategoria': ['akcja', 'sci-fi'],\n",
    "        'rok': 2008,\n",
    "        'reżyser': 'Jon Favreau' },\n",
    "    'Toy Story': {\n",
    "        'kategoria': ['animacja', 'komedia'],\n",
    "        'rok': 1995,\n",
    "        'reżyser': 'John Lasseter' },\n",
    "    'Avatar': {\n",
    "        'kategoria': 'sci-fi',\n",
    "        'rok': 2009,\n",
    "        'reżyser': 'James Cameron' },\n",
    "    'Król Lew': {\n",
    "        'kategoria': 'animacja',\n",
    "        'rok': 1994,\n",
    "        'reżyser': ['Rob Minkoff', 'Roger Allers']},\n",
    "    'Edward Nożycoręki': {\n",
    "        'kategoria': ['fantasy', 'dramat'],\n",
    "        'rok': 1990,\n",
    "        'reżyser': 'Tim Burton' },\n",
    "    'Maska': {\n",
    "        'kategoria': ['fantasy', 'komedia'],\n",
    "        'rok': 1994,\n",
    "        'reżyser': 'Chuck Russell' }}\n",
    "\n"
   ]
  },
  {
   "cell_type": "code",
   "execution_count": 10,
   "metadata": {},
   "outputs": [
    {
     "name": "stdout",
     "output_type": "stream",
     "text": [
      "podaj tytuł filmu :Casablanka\n",
      "podaj kategorię :obyczajowy\n",
      "podaj rok produkcji :2010\n",
      "podaj nazwisko reżysera :Blablabla\n"
     ]
    }
   ],
   "source": [
    "film=input(\"podaj tytuł filmu :\")\n",
    "\n",
    "if film in  movie_list.keys():\n",
    "    print (\"film jest już na liście :\")\n",
    "else:\n",
    "    kategoria=input(\"podaj kategorię :\")\n",
    "    rok=input(\"podaj rok produkcji :\")\n",
    "    reżyser=input(\"podaj nazwisko reżysera :\")\n",
    "    movie_list[film]={'kategoria': kategoria, 'rok': rok, 'reżyser':reżyser}"
   ]
  },
  {
   "cell_type": "code",
   "execution_count": 11,
   "metadata": {},
   "outputs": [
    {
     "data": {
      "text/plain": [
       "{'Avatar': {'kategoria': 'sci-fi', 'reżyser': 'James Cameron', 'rok': 2009},\n",
       " 'Casablanka': {'kategoria': 'obyczajowy',\n",
       "  'reżyser': 'Blablabla',\n",
       "  'rok': '2010'},\n",
       " 'Edward Nożycoręki': {'kategoria': ['fantasy', 'dramat'],\n",
       "  'reżyser': 'Tim Burton',\n",
       "  'rok': 1990},\n",
       " 'Iron Man': {'kategoria': ['akcja', 'sci-fi'],\n",
       "  'reżyser': 'Jon Favreau',\n",
       "  'rok': 2008},\n",
       " 'Król Lew': {'kategoria': 'animacja',\n",
       "  'reżyser': ['Rob Minkoff', 'Roger Allers'],\n",
       "  'rok': 1994},\n",
       " 'Maska': {'kategoria': ['fantasy', 'komedia'],\n",
       "  'reżyser': 'Chuck Russell',\n",
       "  'rok': 1994},\n",
       " 'Shrek': {'kategoria': ['animacja', 'komedia'],\n",
       "  'reżyser': ['Vicky Jenson', 'Andrew Adamson'],\n",
       "  'rok': 2001},\n",
       " 'Toy Story': {'kategoria': ['animacja', 'komedia'],\n",
       "  'reżyser': 'John Lasseter',\n",
       "  'rok': 1995}}"
      ]
     },
     "execution_count": 11,
     "metadata": {},
     "output_type": "execute_result"
    }
   ],
   "source": [
    "movie_list"
   ]
  },
  {
   "cell_type": "code",
   "execution_count": 4,
   "metadata": {},
   "outputs": [
    {
     "name": "stdout",
     "output_type": "stream",
     "text": [
      "podaj tytułCasablanka\n",
      "podaj kategorię :obyczajowy\n",
      "podaj rok produkcji :2010\n",
      "podaj nazwisko reżysera :Blabla\n"
     ]
    }
   ],
   "source": [
    "tytul=input(\"podaj tytuł\")\n",
    "kategoria=input(\"podaj kategorię :\")\n",
    "rok=input(\"podaj rok produkcji :\")\n",
    "reżyser=input(\"podaj nazwisko reżysera :\")\n",
    "filmy[tytuł]=[kategoria]\n",
    "\n",
    "filmy[tytul]={'kategoria': kategoria, 'rok': rok, 'reżyser':reżyser}"
   ]
  },
  {
   "cell_type": "code",
   "execution_count": 17,
   "metadata": {
    "collapsed": true
   },
   "outputs": [],
   "source": [
    "def mnozenie (x, y):\n",
    "    return x*y\n"
   ]
  },
  {
   "cell_type": "code",
   "execution_count": 20,
   "metadata": {},
   "outputs": [
    {
     "data": {
      "text/plain": [
       "8"
      ]
     },
     "execution_count": 20,
     "metadata": {},
     "output_type": "execute_result"
    }
   ],
   "source": [
    "x=2\n",
    "y=4\n",
    "mnozenie(x,y)"
   ]
  },
  {
   "cell_type": "code",
   "execution_count": 24,
   "metadata": {
    "collapsed": true
   },
   "outputs": [],
   "source": [
    "def koniec_programu():\n",
    "    print('Koniec programu. Naciśnij dowolny przycisk')"
   ]
  },
  {
   "cell_type": "code",
   "execution_count": 25,
   "metadata": {},
   "outputs": [
    {
     "name": "stdout",
     "output_type": "stream",
     "text": [
      "Koniec programu. Naciśnij dowolny przycisk\n"
     ]
    }
   ],
   "source": [
    "koniec_programu()"
   ]
  },
  {
   "cell_type": "code",
   "execution_count": 34,
   "metadata": {},
   "outputs": [
    {
     "name": "stdout",
     "output_type": "stream",
     "text": [
      "a: 1\n",
      "Second: 2\n",
      "Third: 3\n"
     ]
    }
   ],
   "source": [
    "def foo(a, second, third):\n",
    "    print(\"a: %s\" %(a))\n",
    "    print(\"Second: %s\" %(second))\n",
    "    print(\"Third: %s\" %(third))\n",
    "foo(1,2,3)"
   ]
  },
  {
   "cell_type": "code",
   "execution_count": 37,
   "metadata": {},
   "outputs": [
    {
     "name": "stdout",
     "output_type": "stream",
     "text": [
      "type your nameKinga\n",
      "type your origin countrypl\n"
     ]
    }
   ],
   "source": [
    "greetings={\n",
    "'pl': 'Witaj %s' , \n",
    "'en' :'Hello %s',\n",
    "'de' :'Hallo %s',\n",
    "'it': 'Ciao, %s',\n",
    "'fr' : 'Salut, %s',\n",
    "'en' : 'Hello %s',\n",
    "'de' : 'Hallo %s',\n",
    "'it' : 'Ciao, %s',\n",
    "'fr' : 'Salut, %s'}\n",
    "\n",
    "name=input('type your name :')\n",
    "country=input('type your origin country :')\n",
    "\n",
    "for name in greetings.keys():\n",
    "    print \n",
    "\n",
    "if country in greetings.keys():\n",
    "    \n",
    "##def greeting (country, name):\n",
    "  ##\"  print(\"\n",
    "        "
   ]
  },
  {
   "cell_type": "code",
   "execution_count": 2,
   "metadata": {
    "collapsed": true
   },
   "outputs": [],
   "source": [
    "studenci = {\n",
    "'Alicja': {'wiek': 21, 'kierunek': 'informatyka'},\n",
    "'Kasia': {'wiek': 23, 'kierunek': 'ekonomia'},\n",
    "'Gosia': {'wiek': 23, 'kierunek': 'finanse'},\n",
    "'Tomek': {'wiek': 25, 'ocena': 2}}"
   ]
  },
  {
   "cell_type": "code",
   "execution_count": 3,
   "metadata": {
    "collapsed": true
   },
   "outputs": [],
   "source": [
    "del studenci['Tomek']"
   ]
  },
  {
   "cell_type": "code",
   "execution_count": 5,
   "metadata": {},
   "outputs": [
    {
     "data": {
      "text/plain": [
       "{'Alicja': {'kierunek': 'informatyka', 'wiek': 21},\n",
       " 'Gosia': {'kierunek': 'finanse', 'wiek': 23},\n",
       " 'Kasia': {'kierunek': 'ekonomia', 'wiek': 23}}"
      ]
     },
     "execution_count": 5,
     "metadata": {},
     "output_type": "execute_result"
    }
   ],
   "source": [
    "studenci"
   ]
  },
  {
   "cell_type": "code",
   "execution_count": 6,
   "metadata": {},
   "outputs": [
    {
     "ename": "AttributeError",
     "evalue": "'dict' object has no attribute 'remove'",
     "output_type": "error",
     "traceback": [
      "\u001b[0;31m---------------------------------------------------------------------------\u001b[0m",
      "\u001b[0;31mAttributeError\u001b[0m                            Traceback (most recent call last)",
      "\u001b[0;32m<ipython-input-6-454cf904932e>\u001b[0m in \u001b[0;36m<module>\u001b[0;34m()\u001b[0m\n\u001b[0;32m----> 1\u001b[0;31m \u001b[0mstudenci\u001b[0m\u001b[0;34m.\u001b[0m\u001b[0mremove\u001b[0m\u001b[0;34m[\u001b[0m\u001b[0;36m1\u001b[0m\u001b[0;34m]\u001b[0m\u001b[0;34m\u001b[0m\u001b[0m\n\u001b[0m",
      "\u001b[0;31mAttributeError\u001b[0m: 'dict' object has no attribute 'remove'"
     ]
    }
   ],
   "source": [
    "studenci.remove[1]"
   ]
  },
  {
   "cell_type": "code",
   "execution_count": 9,
   "metadata": {
    "collapsed": true
   },
   "outputs": [],
   "source": [
    "def licz_srednia_zarobkow(*args):\n",
    "##suma = 0\n",
    "##for kwota in args:\n",
    "##suma += kwota\n",
    "    return sum(args) / len(args)"
   ]
  },
  {
   "cell_type": "code",
   "execution_count": 11,
   "metadata": {},
   "outputs": [
    {
     "data": {
      "text/plain": [
       "2750.0"
      ]
     },
     "execution_count": 11,
     "metadata": {},
     "output_type": "execute_result"
    }
   ],
   "source": [
    "licz_srednia_zarobkow(2000,3000,2000,4000)"
   ]
  },
  {
   "cell_type": "code",
   "execution_count": 12,
   "metadata": {},
   "outputs": [
    {
     "name": "stdout",
     "output_type": "stream",
     "text": [
      "Alicja {'wiek': 21, 'kierunek': 'informatyka', 'ocena': 4}\n",
      "Kasia {'wiek': 23, 'kierunek': 'ekonomia', 'ocena': 4}\n",
      "Gosia {'wiek': 23, 'kierunek': 'finanse', 'ocena': 3}\n",
      "Tomek {'wiek': 25, 'ocena': 2}\n"
     ]
    }
   ],
   "source": [
    "studenci = {\n",
    "'Alicja': {'wiek': 21, 'kierunek': 'informatyka', 'ocena': 4},\n",
    "'Kasia': {'wiek': 23, 'kierunek': 'ekonomia', 'ocena': 4},\n",
    "'Gosia': {'wiek': 23, 'kierunek': 'finanse', 'ocena': 3},\n",
    "'Tomek': {'wiek': 25, 'ocena': 2}\n",
    "}\n",
    "def pokaz_wszystkie(**kwargs):\n",
    "    for klucz, wartosc in kwargs.items():\n",
    "        print(klucz, wartosc)\n",
    "pokaz_wszystkie(**studenci)"
   ]
  },
  {
   "cell_type": "code",
   "execution_count": 24,
   "metadata": {},
   "outputs": [
    {
     "ename": "NameError",
     "evalue": "name 'kwargs' is not defined",
     "output_type": "error",
     "traceback": [
      "\u001b[0;31m---------------------------------------------------------------------------\u001b[0m",
      "\u001b[0;31mNameError\u001b[0m                                 Traceback (most recent call last)",
      "\u001b[0;32m<ipython-input-24-75a2d35ec480>\u001b[0m in \u001b[0;36m<module>\u001b[0;34m()\u001b[0m\n\u001b[1;32m      1\u001b[0m \u001b[0;32mdef\u001b[0m \u001b[0mdzielenie\u001b[0m \u001b[0;34m(\u001b[0m\u001b[0ma\u001b[0m\u001b[0;34m,\u001b[0m\u001b[0mb\u001b[0m\u001b[0;34m,\u001b[0m\u001b[0;34m**\u001b[0m\u001b[0mkwargs\u001b[0m\u001b[0;34m)\u001b[0m\u001b[0;34m:\u001b[0m\u001b[0;34m\u001b[0m\u001b[0m\n\u001b[1;32m      2\u001b[0m     \u001b[0;32mreturn\u001b[0m \u001b[0ma\u001b[0m\u001b[0;34m/\u001b[0m\u001b[0mb\u001b[0m \u001b[0;34m+\u001b[0m \u001b[0mkwargs\u001b[0m\u001b[0;34m(\u001b[0m\u001b[0;34m)\u001b[0m\u001b[0;34m\u001b[0m\u001b[0m\n\u001b[0;32m----> 3\u001b[0;31m \u001b[0mdzielenie\u001b[0m\u001b[0;34m(\u001b[0m\u001b[0;36m100\u001b[0m\u001b[0;34m,\u001b[0m\u001b[0;36m10\u001b[0m\u001b[0;34m,\u001b[0m\u001b[0;34m**\u001b[0m\u001b[0mkwargs\u001b[0m\u001b[0;34m)\u001b[0m\u001b[0;34m\u001b[0m\u001b[0m\n\u001b[0m",
      "\u001b[0;31mNameError\u001b[0m: name 'kwargs' is not defined"
     ]
    }
   ],
   "source": [
    "def dzielenie (a,b,**kwargs):\n",
    "    return a/b + kwargs()\n",
    "dzielenie(100,10,**kwargs)"
   ]
  },
  {
   "cell_type": "code",
   "execution_count": 14,
   "metadata": {},
   "outputs": [
    {
     "data": {
      "text/plain": [
       "10.0"
      ]
     },
     "execution_count": 14,
     "metadata": {},
     "output_type": "execute_result"
    }
   ],
   "source": [
    "dzielenie(100,10,mnoznik=10)"
   ]
  },
  {
   "cell_type": "code",
   "execution_count": 16,
   "metadata": {},
   "outputs": [
    {
     "ename": "TypeError",
     "evalue": "dzielenie() got an unexpected keyword argument 'mnoznik'",
     "output_type": "error",
     "traceback": [
      "\u001b[0;31m---------------------------------------------------------------------------\u001b[0m",
      "\u001b[0;31mTypeError\u001b[0m                                 Traceback (most recent call last)",
      "\u001b[0;32m<ipython-input-16-966f15d94aa6>\u001b[0m in \u001b[0;36m<module>\u001b[0;34m()\u001b[0m\n\u001b[1;32m      1\u001b[0m \u001b[0;32mdef\u001b[0m \u001b[0mdzielenie\u001b[0m \u001b[0;34m(\u001b[0m\u001b[0ma\u001b[0m\u001b[0;34m,\u001b[0m\u001b[0mb\u001b[0m\u001b[0;34m)\u001b[0m\u001b[0;34m:\u001b[0m\u001b[0;34m\u001b[0m\u001b[0m\n\u001b[1;32m      2\u001b[0m     \u001b[0;32mreturn\u001b[0m \u001b[0ma\u001b[0m\u001b[0;34m/\u001b[0m\u001b[0mb\u001b[0m\u001b[0;34m\u001b[0m\u001b[0m\n\u001b[0;32m----> 3\u001b[0;31m \u001b[0mdzielenie\u001b[0m\u001b[0;34m(\u001b[0m\u001b[0;36m100\u001b[0m\u001b[0;34m,\u001b[0m\u001b[0;36m10\u001b[0m\u001b[0;34m,\u001b[0m\u001b[0mmnoznik\u001b[0m\u001b[0;34m=\u001b[0m\u001b[0;36m10\u001b[0m\u001b[0;34m)\u001b[0m\u001b[0;34m\u001b[0m\u001b[0m\n\u001b[0m",
      "\u001b[0;31mTypeError\u001b[0m: dzielenie() got an unexpected keyword argument 'mnoznik'"
     ]
    }
   ],
   "source": [
    "def dzielenie (a,b):\n",
    "    return a/b\n",
    "dzielenie(100,10,mnoznik=10)"
   ]
  },
  {
   "cell_type": "code",
   "execution_count": 2,
   "metadata": {
    "collapsed": true
   },
   "outputs": [],
   "source": [
    "studenci = {\n",
    "'Alicja': {'wiek': 21, 'kierunek': 'informatyka', 'ocena': 4},\n",
    "'Kasia': {'wiek': 23, 'kierunek': 'ekonomia', 'ocena': 4},\n",
    "'Gosia': {'wiek': 23, 'kierunek': 'finanse', 'ocena': 3},\n",
    "'Tomek': {'wiek': 25, 'ocena': 2}\n",
    "}"
   ]
  },
  {
   "cell_type": "code",
   "execution_count": 5,
   "metadata": {},
   "outputs": [
    {
     "name": "stdout",
     "output_type": "stream",
     "text": [
      "4\n",
      "4\n",
      "3\n",
      "2\n",
      "średnia : 2.0\n",
      "najlepsza ocena : 2\n",
      "najgorsza ocena : 2\n"
     ]
    }
   ],
   "source": [
    "oceny=[]\n",
    "for student in studenci:\n",
    "    ##for ocena in studenci[student]:\n",
    "    print(studenci[student]['ocena'])\n",
    "oceny.append(studenci[student]['ocena'])\n",
    "print (\"średnia :\", sum(oceny)/len(oceny))\n",
    "print ( \"najlepsza ocena :\", max(oceny))\n",
    "print (\"najgorsza ocena :\", min(oceny))\n",
    "\n",
    "     \n"
   ]
  },
  {
   "cell_type": "code",
   "execution_count": 20,
   "metadata": {},
   "outputs": [
    {
     "name": "stdout",
     "output_type": "stream",
     "text": [
      "Tomek\n"
     ]
    }
   ],
   "source": [
    "for student in studenci:\n",
    "    if 'kierunek' not in studenci[student].keys():\n",
    "        print(student)\n",
    "        \n",
    "    "
   ]
  },
  {
   "cell_type": "code",
   "execution_count": 35,
   "metadata": {
    "collapsed": true
   },
   "outputs": [],
   "source": [
    "with open ('/home/kinga/Pulpit/PyLadies/zadanie1/message (kopia).txt', 'w') as message:\n",
    "    message.write('Do widzenie')\n",
    "\n"
   ]
  },
  {
   "cell_type": "code",
   "execution_count": 1,
   "metadata": {},
   "outputs": [],
   "source": [
    "with open ('/home/kinga/Pulpit/PyLadies/zadanie1/message (kopia).txt') as message1:\n",
    "    lista_linii=message1.readlines()\n",
    "tytul=lista_linii[:1]\n",
    "zawartosc_pliku=lista_linii[1:]"
   ]
  },
  {
   "cell_type": "code",
   "execution_count": 43,
   "metadata": {
    "collapsed": true
   },
   "outputs": [],
   "source": [
    "with open ('/home/kinga/Pulpit/PyLadies/zadanie1/message (kopia).txt', 'a') as message2:\n",
    "    message2.write(' Dzień dobry')\n"
   ]
  },
  {
   "cell_type": "code",
   "execution_count": 44,
   "metadata": {},
   "outputs": [
    {
     "name": "stdout",
     "output_type": "stream",
     "text": [
      "Do widzenieDzień dobryn\\ Dzień dobry Dzień dobry\n"
     ]
    }
   ],
   "source": [
    "with open ('/home/kinga/Pulpit/PyLadies/zadanie1/message (kopia).txt') as message2:\n",
    "    print(message2.read())"
   ]
  },
  {
   "cell_type": "code",
   "execution_count": 45,
   "metadata": {},
   "outputs": [
    {
     "name": "stdout",
     "output_type": "stream",
     "text": [
      "Do wi\n"
     ]
    }
   ],
   "source": [
    "with open ('/home/kinga/Pulpit/PyLadies/zadanie1/message (kopia).txt') as message2:\n",
    "    print(message2.read(5))"
   ]
  },
  {
   "cell_type": "code",
   "execution_count": 47,
   "metadata": {},
   "outputs": [
    {
     "name": "stdout",
     "output_type": "stream",
     "text": [
      "Do wi\n",
      "Do wi\n"
     ]
    }
   ],
   "source": [
    "with open ('/home/kinga/Pulpit/PyLadies/zadanie1/message (kopia).txt') as message2:\n",
    "    print(message2.read(5))\n",
    "with open ('/home/kinga/Pulpit/PyLadies/zadanie1/message (kopia).txt') as message2:\n",
    "    print(message2.read(5))"
   ]
  },
  {
   "cell_type": "code",
   "execution_count": 82,
   "metadata": {},
   "outputs": [
    {
     "name": "stdout",
     "output_type": "stream",
     "text": [
      "\n"
     ]
    }
   ],
   "source": [
    "with open ('/home/kinga/Pulpit/PyLadies/zadanie1/message.txt') as message2:\n",
    "    message2.readlines()\n",
    "    nowe_slowo=''.join([message2.read(0),message2.read(19), message2.read(44), message2.read(45), message2.read(49)])\n",
    "    print(nowe_slowo)"
   ]
  },
  {
   "cell_type": "code",
   "execution_count": 75,
   "metadata": {
    "collapsed": true
   },
   "outputs": [],
   "source": [
    "litery=['k', 'i', 'n', 'g', 'a']"
   ]
  },
  {
   "cell_type": "code",
   "execution_count": 68,
   "metadata": {
    "collapsed": true
   },
   "outputs": [],
   "source": [
    "slowo=''.join([litery[0], litery[1]])"
   ]
  },
  {
   "cell_type": "code",
   "execution_count": 69,
   "metadata": {},
   "outputs": [
    {
     "data": {
      "text/plain": [
       "'ki'"
      ]
     },
     "execution_count": 69,
     "metadata": {},
     "output_type": "execute_result"
    }
   ],
   "source": [
    "slowo"
   ]
  },
  {
   "cell_type": "code",
   "execution_count": 3,
   "metadata": {},
   "outputs": [
    {
     "ename": "NameError",
     "evalue": "name 'random' is not defined",
     "output_type": "error",
     "traceback": [
      "\u001b[0;31m---------------------------------------------------------------------------\u001b[0m",
      "\u001b[0;31mNameError\u001b[0m                                 Traceback (most recent call last)",
      "\u001b[0;32m<ipython-input-3-860e4c1a9de3>\u001b[0m in \u001b[0;36m<module>\u001b[0;34m()\u001b[0m\n\u001b[0;32m----> 1\u001b[0;31m \u001b[0mrandom\u001b[0m\u001b[0;34m.\u001b[0m\u001b[0mrandint\u001b[0m\u001b[0;34m\u001b[0m\u001b[0m\n\u001b[0m",
      "\u001b[0;31mNameError\u001b[0m: name 'random' is not defined"
     ]
    }
   ],
   "source": [
    "random.randint"
   ]
  },
  {
   "cell_type": "code",
   "execution_count": 15,
   "metadata": {},
   "outputs": [
    {
     "name": "stdout",
     "output_type": "stream",
     "text": [
      "21\n"
     ]
    }
   ],
   "source": [
    "import random\n",
    "##random.seed()\n",
    "print(random.randint(20,30))"
   ]
  },
  {
   "cell_type": "code",
   "execution_count": 25,
   "metadata": {},
   "outputs": [
    {
     "ename": "TypeError",
     "evalue": "'getset_descriptor' object is not callable",
     "output_type": "error",
     "traceback": [
      "\u001b[0;31m---------------------------------------------------------------------------\u001b[0m",
      "\u001b[0;31mTypeError\u001b[0m                                 Traceback (most recent call last)",
      "\u001b[0;32m<ipython-input-25-7bb57830b57c>\u001b[0m in \u001b[0;36m<module>\u001b[0;34m()\u001b[0m\n\u001b[1;32m      1\u001b[0m \u001b[0;32mimport\u001b[0m \u001b[0mdatetime\u001b[0m\u001b[0;34m\u001b[0m\u001b[0m\n\u001b[0;32m----> 2\u001b[0;31m \u001b[0mprint\u001b[0m \u001b[0;34m(\u001b[0m\u001b[0mdatetime\u001b[0m\u001b[0;34m.\u001b[0m\u001b[0mdatetime\u001b[0m\u001b[0;34m.\u001b[0m\u001b[0mmonth\u001b[0m\u001b[0;34m(\u001b[0m\u001b[0;34m)\u001b[0m\u001b[0;34m)\u001b[0m\u001b[0;34m\u001b[0m\u001b[0m\n\u001b[0m",
      "\u001b[0;31mTypeError\u001b[0m: 'getset_descriptor' object is not callable"
     ]
    }
   ],
   "source": [
    "import datetime\n",
    "print (datetime.datetime.month())"
   ]
  },
  {
   "cell_type": "code",
   "execution_count": null,
   "metadata": {
    "collapsed": true
   },
   "outputs": [],
   "source": []
  }
 ],
 "metadata": {
  "kernelspec": {
   "display_name": "Python 3",
   "language": "python",
   "name": "python3"
  },
  "language_info": {
   "codemirror_mode": {
    "name": "ipython",
    "version": 3
   },
   "file_extension": ".py",
   "mimetype": "text/x-python",
   "name": "python",
   "nbconvert_exporter": "python",
   "pygments_lexer": "ipython3",
   "version": "3.6.2"
  }
 },
 "nbformat": 4,
 "nbformat_minor": 2
}
