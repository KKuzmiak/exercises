{
 "cells": [
  {
   "cell_type": "markdown",
   "metadata": {},
   "source": [
    "# "
   ]
  },
  {
   "cell_type": "code",
   "execution_count": 1,
   "metadata": {
    "collapsed": true
   },
   "outputs": [],
   "source": [
    "a=1\n",
    "b=3\n",
    "c=5"
   ]
  },
  {
   "cell_type": "code",
   "execution_count": 2,
   "metadata": {},
   "outputs": [
    {
     "data": {
      "text/plain": [
       "8"
      ]
     },
     "execution_count": 2,
     "metadata": {},
     "output_type": "execute_result"
    }
   ],
   "source": [
    "b+c"
   ]
  },
  {
   "cell_type": "code",
   "execution_count": 3,
   "metadata": {
    "collapsed": true
   },
   "outputs": [],
   "source": [
    "d=[1,2,3,4,5,6,7]"
   ]
  },
  {
   "cell_type": "code",
   "execution_count": 4,
   "metadata": {},
   "outputs": [
    {
     "data": {
      "text/plain": [
       "[1, 2, 3, 4, 5, 6, 7]"
      ]
     },
     "execution_count": 4,
     "metadata": {},
     "output_type": "execute_result"
    }
   ],
   "source": [
    "d"
   ]
  },
  {
   "cell_type": "code",
   "execution_count": 5,
   "metadata": {},
   "outputs": [
    {
     "data": {
      "text/plain": [
       "[1, 3, 5]"
      ]
     },
     "execution_count": 5,
     "metadata": {},
     "output_type": "execute_result"
    }
   ],
   "source": [
    "d[:5:2]"
   ]
  },
  {
   "cell_type": "code",
   "execution_count": 6,
   "metadata": {},
   "outputs": [
    {
     "data": {
      "text/plain": [
       "list"
      ]
     },
     "execution_count": 6,
     "metadata": {},
     "output_type": "execute_result"
    }
   ],
   "source": [
    "type(d)"
   ]
  },
  {
   "cell_type": "code",
   "execution_count": null,
   "metadata": {
    "collapsed": true
   },
   "outputs": [],
   "source": []
  },
  {
   "cell_type": "code",
   "execution_count": 7,
   "metadata": {},
   "outputs": [
    {
     "data": {
      "text/plain": [
       "[6, 5]"
      ]
     },
     "execution_count": 7,
     "metadata": {},
     "output_type": "execute_result"
    }
   ],
   "source": [
    "d[::-1][1:3]"
   ]
  },
  {
   "cell_type": "code",
   "execution_count": 8,
   "metadata": {
    "collapsed": true
   },
   "outputs": [],
   "source": [
    "?d.append"
   ]
  },
  {
   "cell_type": "code",
   "execution_count": 9,
   "metadata": {},
   "outputs": [
    {
     "data": {
      "text/plain": [
       "[1, 2, 3, 4, 5, 6, 7]"
      ]
     },
     "execution_count": 9,
     "metadata": {},
     "output_type": "execute_result"
    }
   ],
   "source": [
    "d"
   ]
  },
  {
   "cell_type": "code",
   "execution_count": 10,
   "metadata": {
    "collapsed": true
   },
   "outputs": [],
   "source": [
    "d.append(8)"
   ]
  },
  {
   "cell_type": "code",
   "execution_count": 11,
   "metadata": {},
   "outputs": [
    {
     "data": {
      "text/plain": [
       "[1, 2, 3, 4, 5, 6, 7, 8]"
      ]
     },
     "execution_count": 11,
     "metadata": {},
     "output_type": "execute_result"
    }
   ],
   "source": [
    "d"
   ]
  },
  {
   "cell_type": "code",
   "execution_count": 12,
   "metadata": {
    "collapsed": true
   },
   "outputs": [],
   "source": [
    "e=1,2,3,4,5"
   ]
  },
  {
   "cell_type": "code",
   "execution_count": 13,
   "metadata": {},
   "outputs": [
    {
     "data": {
      "text/plain": [
       "(1, 2, 3, 4, 5)"
      ]
     },
     "execution_count": 13,
     "metadata": {},
     "output_type": "execute_result"
    }
   ],
   "source": [
    "e"
   ]
  },
  {
   "cell_type": "code",
   "execution_count": 14,
   "metadata": {
    "collapsed": true
   },
   "outputs": [],
   "source": [
    "d.append(9)"
   ]
  },
  {
   "cell_type": "code",
   "execution_count": 15,
   "metadata": {},
   "outputs": [
    {
     "data": {
      "text/plain": [
       "9"
      ]
     },
     "execution_count": 15,
     "metadata": {},
     "output_type": "execute_result"
    }
   ],
   "source": [
    "len(d)"
   ]
  },
  {
   "cell_type": "code",
   "execution_count": 16,
   "metadata": {
    "collapsed": true
   },
   "outputs": [],
   "source": [
    "?d.remove"
   ]
  },
  {
   "cell_type": "code",
   "execution_count": 17,
   "metadata": {},
   "outputs": [
    {
     "data": {
      "text/plain": [
       "[1, 2, 3, 4, 5, 6, 7, 8, 9]"
      ]
     },
     "execution_count": 17,
     "metadata": {},
     "output_type": "execute_result"
    }
   ],
   "source": [
    "d"
   ]
  },
  {
   "cell_type": "code",
   "execution_count": 18,
   "metadata": {},
   "outputs": [
    {
     "ename": "NameError",
     "evalue": "name 'f' is not defined",
     "output_type": "error",
     "traceback": [
      "\u001b[0;31m---------------------------------------------------------------------------\u001b[0m",
      "\u001b[0;31mNameError\u001b[0m                                 Traceback (most recent call last)",
      "\u001b[0;32m<ipython-input-18-9a8ad92c50ca>\u001b[0m in \u001b[0;36m<module>\u001b[0;34m()\u001b[0m\n\u001b[0;32m----> 1\u001b[0;31m \u001b[0mf\u001b[0m\u001b[0;34m\u001b[0m\u001b[0m\n\u001b[0m",
      "\u001b[0;31mNameError\u001b[0m: name 'f' is not defined"
     ]
    }
   ],
   "source": [
    "f"
   ]
  },
  {
   "cell_type": "code",
   "execution_count": null,
   "metadata": {
    "collapsed": true
   },
   "outputs": [],
   "source": [
    "słownik={'imię':'Kinga', 'nazwisko':'Kuźmiak'}"
   ]
  },
  {
   "cell_type": "code",
   "execution_count": null,
   "metadata": {
    "collapsed": true
   },
   "outputs": [],
   "source": [
    "słownik"
   ]
  },
  {
   "cell_type": "code",
   "execution_count": null,
   "metadata": {
    "collapsed": true
   },
   "outputs": [],
   "source": [
    "słownik.update({'imię': 'Teresa', 'nazwisko':'Kołodziej'})"
   ]
  },
  {
   "cell_type": "code",
   "execution_count": null,
   "metadata": {
    "collapsed": true
   },
   "outputs": [],
   "source": [
    "słownik"
   ]
  },
  {
   "cell_type": "code",
   "execution_count": null,
   "metadata": {
    "collapsed": true
   },
   "outputs": [],
   "source": [
    "?słownik."
   ]
  },
  {
   "cell_type": "markdown",
   "metadata": {},
   "source": [
    "# LISTY"
   ]
  },
  {
   "cell_type": "code",
   "execution_count": null,
   "metadata": {
    "collapsed": true
   },
   "outputs": [],
   "source": [
    "f=['kinga', 'piotr', 'monika', 'teresa']"
   ]
  },
  {
   "cell_type": "code",
   "execution_count": null,
   "metadata": {
    "collapsed": true
   },
   "outputs": [],
   "source": [
    "f"
   ]
  },
  {
   "cell_type": "code",
   "execution_count": null,
   "metadata": {
    "collapsed": true
   },
   "outputs": [],
   "source": [
    "f.append('zygmunt')"
   ]
  },
  {
   "cell_type": "code",
   "execution_count": null,
   "metadata": {
    "collapsed": true
   },
   "outputs": [],
   "source": [
    "f"
   ]
  },
  {
   "cell_type": "code",
   "execution_count": null,
   "metadata": {
    "collapsed": true
   },
   "outputs": [],
   "source": [
    "[x.title() for x in f]"
   ]
  },
  {
   "cell_type": "code",
   "execution_count": null,
   "metadata": {
    "collapsed": true
   },
   "outputs": [],
   "source": [
    "f.pop()"
   ]
  },
  {
   "cell_type": "code",
   "execution_count": null,
   "metadata": {
    "collapsed": true
   },
   "outputs": [],
   "source": [
    "f"
   ]
  },
  {
   "cell_type": "code",
   "execution_count": null,
   "metadata": {
    "collapsed": true
   },
   "outputs": [],
   "source": [
    "2%3"
   ]
  },
  {
   "cell_type": "code",
   "execution_count": null,
   "metadata": {
    "collapsed": true
   },
   "outputs": [],
   "source": [
    "2%4"
   ]
  },
  {
   "cell_type": "code",
   "execution_count": null,
   "metadata": {
    "collapsed": true
   },
   "outputs": [],
   "source": [
    "2%5"
   ]
  },
  {
   "cell_type": "code",
   "execution_count": null,
   "metadata": {
    "collapsed": true
   },
   "outputs": [],
   "source": [
    "5%2"
   ]
  },
  {
   "cell_type": "code",
   "execution_count": null,
   "metadata": {
    "collapsed": true
   },
   "outputs": [],
   "source": [
    "6%3"
   ]
  },
  {
   "cell_type": "code",
   "execution_count": null,
   "metadata": {
    "collapsed": true
   },
   "outputs": [],
   "source": [
    "2**3"
   ]
  },
  {
   "cell_type": "code",
   "execution_count": null,
   "metadata": {
    "collapsed": true
   },
   "outputs": [],
   "source": [
    "3//2"
   ]
  },
  {
   "cell_type": "code",
   "execution_count": null,
   "metadata": {
    "collapsed": true
   },
   "outputs": [],
   "source": [
    "7//2"
   ]
  },
  {
   "cell_type": "code",
   "execution_count": null,
   "metadata": {
    "collapsed": true
   },
   "outputs": [],
   "source": [
    "2017-1982"
   ]
  },
  {
   "cell_type": "code",
   "execution_count": null,
   "metadata": {
    "collapsed": true
   },
   "outputs": [],
   "source": [
    "(2017.11.27)-(1982.06.09)"
   ]
  },
  {
   "cell_type": "code",
   "execution_count": null,
   "metadata": {
    "collapsed": true
   },
   "outputs": [],
   "source": [
    "from datetime import datetime"
   ]
  },
  {
   "cell_type": "code",
   "execution_count": null,
   "metadata": {
    "collapsed": true
   },
   "outputs": [],
   "source": [
    "datetime.now()"
   ]
  },
  {
   "cell_type": "code",
   "execution_count": null,
   "metadata": {
    "collapsed": true
   },
   "outputs": [],
   "source": [
    "ciag = 5"
   ]
  },
  {
   "cell_type": "code",
   "execution_count": null,
   "metadata": {
    "collapsed": true
   },
   "outputs": [],
   "source": [
    "type(ciag)"
   ]
  },
  {
   "cell_type": "code",
   "execution_count": null,
   "metadata": {
    "collapsed": true
   },
   "outputs": [],
   "source": [
    "type(str(ciag))"
   ]
  },
  {
   "cell_type": "code",
   "execution_count": null,
   "metadata": {
    "collapsed": true
   },
   "outputs": [],
   "source": [
    "(1+2+3)/3"
   ]
  },
  {
   "cell_type": "code",
   "execution_count": null,
   "metadata": {
    "collapsed": true
   },
   "outputs": [],
   "source": [
    "lista= [1,2,3,4]"
   ]
  },
  {
   "cell_type": "code",
   "execution_count": null,
   "metadata": {
    "collapsed": true
   },
   "outputs": [],
   "source": [
    "type(lista)"
   ]
  },
  {
   "cell_type": "code",
   "execution_count": null,
   "metadata": {
    "collapsed": true
   },
   "outputs": [],
   "source": [
    "(lista[0]+lista[1]+lista[2]+lista[3])/len(lista)"
   ]
  },
  {
   "cell_type": "code",
   "execution_count": null,
   "metadata": {
    "collapsed": true
   },
   "outputs": [],
   "source": [
    "sum(lista)/len(lista)"
   ]
  },
  {
   "cell_type": "code",
   "execution_count": null,
   "metadata": {
    "collapsed": true
   },
   "outputs": [],
   "source": [
    "lista_stron = [23, 5, 43, 0, 0, 5, 0, 32, 67]"
   ]
  },
  {
   "cell_type": "code",
   "execution_count": null,
   "metadata": {
    "collapsed": true
   },
   "outputs": [],
   "source": [
    "lista_stron[-2]"
   ]
  },
  {
   "cell_type": "code",
   "execution_count": null,
   "metadata": {
    "collapsed": true
   },
   "outputs": [],
   "source": [
    "lista_stron[-2:]"
   ]
  },
  {
   "cell_type": "code",
   "execution_count": null,
   "metadata": {
    "collapsed": true
   },
   "outputs": [],
   "source": [
    "moi_znajomi = [\"Agnieszka Kowalik\", \"Ela Majewska\"]"
   ]
  },
  {
   "cell_type": "code",
   "execution_count": null,
   "metadata": {
    "collapsed": true
   },
   "outputs": [],
   "source": [
    "\"Ela Majewska\" in moi_znajomi"
   ]
  },
  {
   "cell_type": "code",
   "execution_count": null,
   "metadata": {
    "collapsed": true
   },
   "outputs": [],
   "source": [
    "\"Kasia Czubak\" in moi_znajomi"
   ]
  },
  {
   "cell_type": "code",
   "execution_count": null,
   "metadata": {
    "collapsed": true
   },
   "outputs": [],
   "source": [
    "moi_znajomi.append(\"Kasia Czubak\")\n",
    "print (moi_znajomi)"
   ]
  },
  {
   "cell_type": "code",
   "execution_count": null,
   "metadata": {
    "collapsed": true
   },
   "outputs": [],
   "source": [
    "del moi_znajomi[2]\n",
    "print (moi_znajomi)"
   ]
  },
  {
   "cell_type": "markdown",
   "metadata": {},
   "source": [
    "        moi_"
   ]
  },
  {
   "cell_type": "code",
   "execution_count": null,
   "metadata": {
    "collapsed": true
   },
   "outputs": [],
   "source": [
    "moi_znajomi.remove(\"Agnieszka Kowalik\")"
   ]
  },
  {
   "cell_type": "code",
   "execution_count": null,
   "metadata": {
    "collapsed": true
   },
   "outputs": [],
   "source": [
    "moi_znajomi"
   ]
  },
  {
   "cell_type": "code",
   "execution_count": null,
   "metadata": {
    "collapsed": true
   },
   "outputs": [],
   "source": [
    "moi_znajomi.extend([\"Kasia Kowalska\", \"Kasia Durowicz\"])\n",
    "print (moi_znajomi)"
   ]
  },
  {
   "cell_type": "code",
   "execution_count": null,
   "metadata": {
    "collapsed": true
   },
   "outputs": [],
   "source": [
    "filmy=[\"Casablanca\", \"Ojciec Chrzestny\", \"Mary Poppins\"]"
   ]
  },
  {
   "cell_type": "code",
   "execution_count": null,
   "metadata": {
    "collapsed": true
   },
   "outputs": [],
   "source": [
    "nowy_film=input(\"podaj nowy tytuł filmu\")\n",
    "\n",
    "if nowy_film not in filmy:\n",
    "    filmy.append(nowy_film)\n",
    "else:\n",
    "    print (\"Film jest już na liście\")\n",
    "    "
   ]
  },
  {
   "cell_type": "code",
   "execution_count": null,
   "metadata": {
    "collapsed": true
   },
   "outputs": [],
   "source": [
    "filmy"
   ]
  },
  {
   "cell_type": "code",
   "execution_count": null,
   "metadata": {
    "collapsed": true
   },
   "outputs": [],
   "source": [
    "for letter in 'Python':\n",
    "    print ('Bieżąca litera: ', letter)"
   ]
  },
  {
   "cell_type": "code",
   "execution_count": null,
   "metadata": {
    "collapsed": true
   },
   "outputs": [],
   "source": [
    "for num in range(10,20): #od 10 do 19\n",
    "    print (num)"
   ]
  },
  {
   "cell_type": "code",
   "execution_count": null,
   "metadata": {
    "collapsed": true
   },
   "outputs": [],
   "source": [
    "moi_znajomi = [\"Maciek Nowak”, “Ania Kowalska”, “Michu Bogacki”, “Marta Kacprzak”, “Staszek Piotrowski”, “Paweł Nowaczyk\"] "
   ]
  },
  {
   "cell_type": "code",
   "execution_count": null,
   "metadata": {
    "collapsed": true
   },
   "outputs": [],
   "source": [
    "osoby =[\"Monika\", \"Wojciech”, “Jan”, “Piotr”,“Agata”]"
   ]
  },
  {
   "cell_type": "code",
   "execution_count": null,
   "metadata": {
    "collapsed": true
   },
   "outputs": [],
   "source": [
    "osoby= [\"Kinga\", \"Kasia\", \"Mikołak\"]"
   ]
  },
  {
   "cell_type": "code",
   "execution_count": null,
   "metadata": {
    "collapsed": true
   },
   "outputs": [],
   "source": [
    "for osoba in osoby:\n",
    "    print(\"Wesołych ŚWiąt \", osoba)"
   ]
  },
  {
   "cell_type": "code",
   "execution_count": null,
   "metadata": {
    "collapsed": true
   },
   "outputs": [],
   "source": [
    "for liczba in range (2,26):\n",
    "    if liczba %2==0:\n",
    "        print (liczba)\n",
    "    "
   ]
  },
  {
   "cell_type": "code",
   "execution_count": null,
   "metadata": {
    "collapsed": true
   },
   "outputs": [],
   "source": [
    "zdanie=\"Ala ma 6 koty\""
   ]
  },
  {
   "cell_type": "code",
   "execution_count": null,
   "metadata": {
    "collapsed": true
   },
   "outputs": [],
   "source": [
    "zdanie.isdigit()"
   ]
  },
  {
   "cell_type": "code",
   "execution_count": null,
   "metadata": {
    "collapsed": true
   },
   "outputs": [],
   "source": [
    "for x in zdanie:\n",
    "    if x.isdigit():\n",
    "        print(zdanie.index(x))"
   ]
  },
  {
   "cell_type": "code",
   "execution_count": null,
   "metadata": {
    "collapsed": true
   },
   "outputs": [],
   "source": []
  },
  {
   "cell_type": "code",
   "execution_count": null,
   "metadata": {
    "collapsed": true
   },
   "outputs": [],
   "source": [
    "for x in range(len(zdanie)):\n",
    "    if zdanie[x].isdigit():\n",
    "        print(x)"
   ]
  },
  {
   "cell_type": "code",
   "execution_count": null,
   "metadata": {
    "collapsed": true
   },
   "outputs": [],
   "source": [
    "zdanie.index('A')"
   ]
  },
  {
   "cell_type": "code",
   "execution_count": null,
   "metadata": {
    "collapsed": true
   },
   "outputs": [],
   "source": [
    "range(13)"
   ]
  },
  {
   "cell_type": "code",
   "execution_count": null,
   "metadata": {
    "collapsed": true
   },
   "outputs": [],
   "source": [
    "lista = [1,2,3,4]"
   ]
  },
  {
   "cell_type": "code",
   "execution_count": null,
   "metadata": {
    "collapsed": true
   },
   "outputs": [],
   "source": [
    "lista[1]"
   ]
  },
  {
   "cell_type": "code",
   "execution_count": null,
   "metadata": {
    "collapsed": true
   },
   "outputs": [],
   "source": [
    "znajomi=[]\n",
    "licznik = 0\n",
    "while licznik < 5:\n",
    "    nowy_znajomy=input(\"imię nowego znajomego\")\n",
    "    licznik +=1\n",
    "    znajomi.append(nowy_znajomy)\n",
    "print (znajomi)"
   ]
  },
  {
   "cell_type": "code",
   "execution_count": null,
   "metadata": {
    "collapsed": true
   },
   "outputs": [],
   "source": [
    "wynagrodzenie_roczne=[]\n",
    "licznik=0\n",
    "while licznik <12:\n",
    "    wynagrodzenie=input(\"podaj wynagrodzenie\")\n",
    "    licznik+=1\n",
    "    wynagrodzenie_roczne.append(int(wynagrodzenie))\n",
    "print(wynagrodzenie_roczne)\n",
    "print(\"średnie wynagrodzenie: \", round(sum(wynagrodzenie_roczne)/ len(wynagrodzenie_roczne)))"
   ]
  },
  {
   "cell_type": "markdown",
   "metadata": {},
   "source": []
  },
  {
   "cell_type": "code",
   "execution_count": null,
   "metadata": {
    "collapsed": true
   },
   "outputs": [],
   "source": [
    "len(wynagrodzenie_roczne)"
   ]
  },
  {
   "cell_type": "code",
   "execution_count": null,
   "metadata": {
    "collapsed": true
   },
   "outputs": [],
   "source": [
    "sum(wynagrodzenie_roczne)"
   ]
  },
  {
   "cell_type": "code",
   "execution_count": null,
   "metadata": {
    "collapsed": true
   },
   "outputs": [],
   "source": [
    "type(wynagrodzenie_roczne[0])"
   ]
  },
  {
   "cell_type": "code",
   "execution_count": null,
   "metadata": {
    "collapsed": true
   },
   "outputs": [],
   "source": [
    "while True:\n",
    "    liczba = int(input(\"Podaj liczbę: “))\n",
    "    print(liczba)\n",
    "    if liczba == 0:\n",
    "    break"
   ]
  },
  {
   "cell_type": "code",
   "execution_count": null,
   "metadata": {
    "collapsed": true
   },
   "outputs": [],
   "source": [
    "while True:\n",
    "    liczba=int(input(\"Podaj liczbę: \"))\n",
    "    if liczba == 0:\n",
    "        break"
   ]
  },
  {
   "cell_type": "code",
   "execution_count": null,
   "metadata": {
    "collapsed": true
   },
   "outputs": [],
   "source": [
    "for num in range(2, 9):\n",
    "    if num % 2 == 0:\n",
    "        print (\"Liczba parzysta\", num)\n",
    "        continue\n",
    "print (\"Liczba nieparzysta\", num)"
   ]
  },
  {
   "cell_type": "code",
   "execution_count": null,
   "metadata": {
    "collapsed": true
   },
   "outputs": [],
   "source": [
    "budzet_brutto=float(input (\"podajbudżet brutto \"))\n",
    "ZUS = 1172.56\n",
    "ceny_prezentow=[]"
   ]
  },
  {
   "cell_type": "code",
   "execution_count": null,
   "metadata": {
    "collapsed": true
   },
   "outputs": [],
   "source": [
    "licznik=1\n",
    "while licznik>0:\n",
    "    cena_prezentu=float(input(\" podaj cenę prezentu\"))\n",
    "    licznik+=1\n",
    "    if cena_prezentu ==0:\n",
    "        break\n",
    "    ceny_prezentow.append(cena_prezentu)\n",
    "print(ceny_prezentow)\n",
    "print(\"laczny_koszt_prezentow: \" , sum(ceny_prezentow))\n",
    "\n",
    "if sum(ceny_prezentow )< (budzet_brutto - ZUS):\n",
    "    print(\"mieścisz się w budżecie\")\n",
    "else:\n",
    "    print (\" przekroczyłeś budżet\")"
   ]
  },
  {
   "cell_type": "code",
   "execution_count": null,
   "metadata": {
    "collapsed": true
   },
   "outputs": [],
   "source": [
    "del licznik"
   ]
  },
  {
   "cell_type": "code",
   "execution_count": null,
   "metadata": {
    "collapsed": true
   },
   "outputs": [],
   "source": [
    "/home/kinga/python/unpacking.py"
   ]
  },
  {
   "cell_type": "code",
   "execution_count": null,
   "metadata": {
    "collapsed": true
   },
   "outputs": [],
   "source": [
    "x = 2\n",
    "y = \"Ala\"\n",
    "x*y"
   ]
  },
  {
   "cell_type": "code",
   "execution_count": null,
   "metadata": {
    "collapsed": true
   },
   "outputs": [],
   "source": [
    "while x>0 and x<10:"
   ]
  },
  {
   "cell_type": "code",
   "execution_count": null,
   "metadata": {
    "collapsed": true
   },
   "outputs": [],
   "source": [
    "\"kot\" and True or [1, 2, 3]"
   ]
  },
  {
   "cell_type": "code",
   "execution_count": null,
   "metadata": {
    "collapsed": true
   },
   "outputs": [],
   "source": [
    "import random\n",
    "number = random.choice(range(1, 101))\n",
    "if 1 < number <= 5:\n",
    "    print(\"Congrats, you have won a car\")\n",
    "elif 5 < number <= 20:\n",
    "    print(\"Nice, you have won a TV!\")\n",
    "else:\n",
    "    print(\"Sorry, you have won nothing this time :(\")\n",
    "print (number)"
   ]
  },
  {
   "cell_type": "code",
   "execution_count": null,
   "metadata": {
    "collapsed": true
   },
   "outputs": [],
   "source": [
    "random.randint(1,5)"
   ]
  },
  {
   "cell_type": "code",
   "execution_count": null,
   "metadata": {
    "collapsed": true
   },
   "outputs": [],
   "source": [
    "zdanie= \"Ala ma kota\"\n",
    "zdanie.split(' ')"
   ]
  },
  {
   "cell_type": "code",
   "execution_count": null,
   "metadata": {
    "collapsed": true
   },
   "outputs": [],
   "source": [
    "list1 = [1, 2, 3]\n",
    "list2 = list1[:]"
   ]
  },
  {
   "cell_type": "raw",
   "metadata": {},
   "source": [
    "list2"
   ]
  },
  {
   "cell_type": "markdown",
   "metadata": {
    "collapsed": true
   },
   "source": []
  },
  {
   "cell_type": "code",
   "execution_count": null,
   "metadata": {
    "collapsed": true
   },
   "outputs": [],
   "source": [
    "haslo = \"kot\""
   ]
  },
  {
   "cell_type": "code",
   "execution_count": null,
   "metadata": {
    "collapsed": true
   },
   "outputs": [],
   "source": [
    "licznik=0\n",
    "while licznik <3:\n",
    "    podaj_haslo=input(\"podaj hasło\")\n",
    "    licznik+=1\n",
    "    if podaj_haslo != haslo:\n",
    "        break\n",
    "        print(\"hasło nieprawidłowe\")\n",
    "    "
   ]
  },
  {
   "cell_type": "code",
   "execution_count": null,
   "metadata": {
    "collapsed": true
   },
   "outputs": [],
   "source": [
    "vowels=[\"a\",\"ą\",\"e\",\"ę\",\"o\",\"ó\",\"u\",\"y\",\"i\"]\n",
    "sentence=input(\"write a sentence: \" )\n",
    "vowels_in_sentence=[]\n",
    "\n",
    "for letter in sentence:\n",
    "    if letter in vowels:\n",
    "        print (letter)"
   ]
  },
  {
   "cell_type": "code",
   "execution_count": null,
   "metadata": {
    "collapsed": true
   },
   "outputs": [],
   "source": [
    "friends_home={\"Kinga\": \"Poznań\", \"Maria\":\"Warszawa\"}"
   ]
  },
  {
   "cell_type": "code",
   "execution_count": null,
   "metadata": {
    "collapsed": true
   },
   "outputs": [],
   "source": [
    "friends_home[\"Kinga\"]=\"Kijów\"\n",
    "print(friends_home)"
   ]
  },
  {
   "cell_type": "code",
   "execution_count": null,
   "metadata": {
    "collapsed": true
   },
   "outputs": [],
   "source": [
    "friends = {\n",
    "'michu86': { 'name': 'Michał', 'city': 'Poznań' },\n",
    "'olenka': { 'name': 'Ola', 'city': 'Kraków' },\n",
    "'frodo92': { 'name': 'Bartek', 'city': 'Berlin' },\n",
    "'buziaczek': {'name': 'Tomek', 'city': 'Poznań'},\n",
    "'lubie_pierogi': {'name': 'Ola','city': 'Gdańsk' },\n",
    "}\n",
    "for friend in friends:\n",
    "    print(friends[friend]['name'])"
   ]
  },
  {
   "cell_type": "code",
   "execution_count": null,
   "metadata": {
    "collapsed": true
   },
   "outputs": [],
   "source": []
  },
  {
   "cell_type": "code",
   "execution_count": null,
   "metadata": {
    "collapsed": true
   },
   "outputs": [],
   "source": [
    "movies = {\n",
    "2000: {\"Gladiator\": {'director': 'Ridley Scott','oscar': True},\n",
    "\"Chocolat\": {'director': 'Lasse Hallström','oscar': False},\n",
    "\"Crouching Tiger, Hidden Dragon\": {'director': 'Ang Lee','oscar': False},\n",
    "\"Erin Brockovich\": {'director': 'Steven Soderbergh','oscar': False},\n",
    "\"Traffic\": {'director': 'Steven Soderbergh','oscar': False}}}"
   ]
  },
  {
   "cell_type": "markdown",
   "metadata": {},
   "source": [
    "movies"
   ]
  },
  {
   "cell_type": "code",
   "execution_count": null,
   "metadata": {
    "collapsed": true
   },
   "outputs": [],
   "source": [
    "movies"
   ]
  },
  {
   "cell_type": "code",
   "execution_count": null,
   "metadata": {
    "collapsed": true
   },
   "outputs": [],
   "source": [
    "for year in movies:\n",
    "    for movie in movies[year]:\n",
    "        if movies[year][movie]['oscar']== True:\n",
    "            print (movie)\n",
    "    "
   ]
  },
  {
   "cell_type": "code",
   "execution_count": null,
   "metadata": {
    "collapsed": true
   },
   "outputs": [],
   "source": [
    "loginy={'kinga':{'haslo':'kinga_haslo'},'piotr':{'haslo':'piotr_haslo'}}"
   ]
  },
  {
   "cell_type": "code",
   "execution_count": null,
   "metadata": {
    "collapsed": true
   },
   "outputs": [],
   "source": []
  },
  {
   "cell_type": "code",
   "execution_count": null,
   "metadata": {
    "collapsed": true
   },
   "outputs": [],
   "source": [
    "uzytkownik=input('Podaj login: ')\n",
    "try:\n",
    "    if loginy[uzytkownik]['haslo']=='kinga_haslo':\n",
    "        print('witaj kinga, zostalas zalogowana')\n",
    "except KeyError:\n",
    "        print('Nie ma takiego uzytkownika')"
   ]
  },
  {
   "cell_type": "code",
   "execution_count": null,
   "metadata": {
    "collapsed": true
   },
   "outputs": [],
   "source": [
    "movie_list = {\n",
    "    'Shrek': {\n",
    "        'kategoria': ['animacja', 'komedia'],\n",
    "        'rok': 2001,\n",
    "        'reżyser': ['Vicky Jenson', 'Andrew Adamson'] },\n",
    "    'Iron Man': {\n",
    "        'kategoria': ['akcja', 'sci-fi'],\n",
    "        'rok': 2008,\n",
    "        'reżyser': 'Jon Favreau' },\n",
    "    'Toy Story': {\n",
    "        'kategoria': ['animacja', 'komedia'],\n",
    "        'rok': 1995,\n",
    "        'reżyser': 'John Lasseter' },\n",
    "    'Avatar': {\n",
    "        'kategoria': 'sci-fi',\n",
    "        'rok': 2009,\n",
    "        'reżyser': 'James Cameron' },\n",
    "    'Król Lew': {\n",
    "        'kategoria': 'animacja',\n",
    "        'rok': 1994,\n",
    "        'reżyser': ['Rob Minkoff', 'Roger Allers']},\n",
    "    'Edward Nożycoręki': {\n",
    "        'kategoria': ['fantasy', 'dramat'],\n",
    "        'rok': 1990,\n",
    "        'reżyser': 'Tim Burton' },\n",
    "    'Maska': {\n",
    "        'kategoria': ['fantasy', 'komedia'],\n",
    "        'rok': 1994,\n",
    "        'reżyser': 'Chuck Russell' }}\n",
    "\n"
   ]
  },
  {
   "cell_type": "code",
   "execution_count": null,
   "metadata": {
    "collapsed": true
   },
   "outputs": [],
   "source": [
    "film=input(\"podaj tytuł filmu :\")\n",
    "\n",
    "if film in  movie_list.keys():\n",
    "    print (\"film jest już na liście :\")\n",
    "else:\n",
    "    kategoria=input(\"podaj kategorię :\")\n",
    "    rok=input(\"podaj rok produkcji :\")\n",
    "    reżyser=input(\"podaj nazwisko reżysera :\")\n",
    "    movie_list[film]={'kategoria': kategoria, 'rok': rok, 'reżyser':reżyser}"
   ]
  },
  {
   "cell_type": "code",
   "execution_count": null,
   "metadata": {
    "collapsed": true
   },
   "outputs": [],
   "source": [
    "movie_list"
   ]
  },
  {
   "cell_type": "code",
   "execution_count": null,
   "metadata": {
    "collapsed": true
   },
   "outputs": [],
   "source": [
    "tytul=input(\"podaj tytuł\")\n",
    "kategoria=input(\"podaj kategorię :\")\n",
    "rok=input(\"podaj rok produkcji :\")\n",
    "reżyser=input(\"podaj nazwisko reżysera :\")\n",
    "filmy[tytuł]=[kategoria]\n",
    "\n",
    "filmy[tytul]={'kategoria': kategoria, 'rok': rok, 'reżyser':reżyser}"
   ]
  },
  {
   "cell_type": "code",
   "execution_count": null,
   "metadata": {
    "collapsed": true
   },
   "outputs": [],
   "source": [
    "def mnozenie (x, y):\n",
    "    return x*y\n"
   ]
  },
  {
   "cell_type": "code",
   "execution_count": null,
   "metadata": {
    "collapsed": true
   },
   "outputs": [],
   "source": [
    "x=2\n",
    "y=4\n",
    "mnozenie(x,y)"
   ]
  },
  {
   "cell_type": "code",
   "execution_count": null,
   "metadata": {
    "collapsed": true
   },
   "outputs": [],
   "source": [
    "def koniec_programu():\n",
    "    print('Koniec programu. Naciśnij dowolny przycisk')"
   ]
  },
  {
   "cell_type": "code",
   "execution_count": null,
   "metadata": {
    "collapsed": true
   },
   "outputs": [],
   "source": [
    "koniec_programu()"
   ]
  },
  {
   "cell_type": "code",
   "execution_count": null,
   "metadata": {
    "collapsed": true
   },
   "outputs": [],
   "source": [
    "def foo(a, second, third):\n",
    "    print(\"a: %s\" %(a))\n",
    "    print(\"Second: %s\" %(second))\n",
    "    print(\"Third: %s\" %(third))\n",
    "foo(1,2,3)"
   ]
  },
  {
   "cell_type": "code",
   "execution_count": null,
   "metadata": {
    "collapsed": true
   },
   "outputs": [],
   "source": [
    "greetings={\n",
    "'pl': 'Witaj %s' , \n",
    "'en' :'Hello %s',\n",
    "'de' :'Hallo %s',\n",
    "'it': 'Ciao, %s',\n",
    "'fr' : 'Salut, %s',\n",
    "'en' : 'Hello %s',\n",
    "'de' : 'Hallo %s',\n",
    "'it' : 'Ciao, %s',\n",
    "'fr' : 'Salut, %s'}\n",
    "\n",
    "name=input('type your name :')\n",
    "country=input('type your origin country :')\n",
    "\n",
    "for name in greetings.keys():\n",
    "    print \n",
    "\n",
    "if country in greetings.keys():\n",
    "    \n",
    "##def greeting (country, name):\n",
    "  ##\"  print(\"\n",
    "        "
   ]
  },
  {
   "cell_type": "code",
   "execution_count": null,
   "metadata": {
    "collapsed": true
   },
   "outputs": [],
   "source": [
    "studenci = {\n",
    "'Alicja': {'wiek': 21, 'kierunek': 'informatyka'},\n",
    "'Kasia': {'wiek': 23, 'kierunek': 'ekonomia'},\n",
    "'Gosia': {'wiek': 23, 'kierunek': 'finanse'},\n",
    "'Tomek': {'wiek': 25, 'ocena': 2}}"
   ]
  },
  {
   "cell_type": "code",
   "execution_count": null,
   "metadata": {
    "collapsed": true
   },
   "outputs": [],
   "source": [
    "del studenci['Tomek']"
   ]
  },
  {
   "cell_type": "code",
   "execution_count": null,
   "metadata": {
    "collapsed": true
   },
   "outputs": [],
   "source": [
    "studenci"
   ]
  },
  {
   "cell_type": "code",
   "execution_count": null,
   "metadata": {
    "collapsed": true
   },
   "outputs": [],
   "source": [
    "studenci.remove[1]"
   ]
  },
  {
   "cell_type": "code",
   "execution_count": null,
   "metadata": {
    "collapsed": true
   },
   "outputs": [],
   "source": [
    "def licz_srednia_zarobkow(*args):\n",
    "##suma = 0\n",
    "##for kwota in args:\n",
    "##suma += kwota\n",
    "    return sum(args) / len(args)"
   ]
  },
  {
   "cell_type": "code",
   "execution_count": null,
   "metadata": {
    "collapsed": true
   },
   "outputs": [],
   "source": [
    "licz_srednia_zarobkow(2000,3000,2000,4000)"
   ]
  },
  {
   "cell_type": "code",
   "execution_count": null,
   "metadata": {
    "collapsed": true
   },
   "outputs": [],
   "source": [
    "studenci = {\n",
    "'Alicja': {'wiek': 21, 'kierunek': 'informatyka', 'ocena': 4},\n",
    "'Kasia': {'wiek': 23, 'kierunek': 'ekonomia', 'ocena': 4},\n",
    "'Gosia': {'wiek': 23, 'kierunek': 'finanse', 'ocena': 3},\n",
    "'Tomek': {'wiek': 25, 'ocena': 2}\n",
    "}\n",
    "def pokaz_wszystkie(**kwargs):\n",
    "    for klucz, wartosc in kwargs.items():\n",
    "        print(klucz, wartosc)\n",
    "pokaz_wszystkie(**studenci)"
   ]
  },
  {
   "cell_type": "code",
   "execution_count": null,
   "metadata": {
    "collapsed": true
   },
   "outputs": [],
   "source": [
    "def dzielenie (a,b,**kwargs):\n",
    "    return a/b + kwargs()\n",
    "dzielenie(100,10,**kwargs)"
   ]
  },
  {
   "cell_type": "code",
   "execution_count": null,
   "metadata": {
    "collapsed": true
   },
   "outputs": [],
   "source": [
    "dzielenie(100,10,mnoznik=10)"
   ]
  },
  {
   "cell_type": "code",
   "execution_count": null,
   "metadata": {
    "collapsed": true
   },
   "outputs": [],
   "source": [
    "def dzielenie (a,b):\n",
    "    return a/b\n",
    "dzielenie(100,10,mnoznik=10)"
   ]
  },
  {
   "cell_type": "code",
   "execution_count": null,
   "metadata": {
    "collapsed": true
   },
   "outputs": [],
   "source": [
    "studenci = {\n",
    "'Alicja': {'wiek': 21, 'kierunek': 'informatyka', 'ocena': 4},\n",
    "'Kasia': {'wiek': 23, 'kierunek': 'ekonomia', 'ocena': 4},\n",
    "'Gosia': {'wiek': 23, 'kierunek': 'finanse', 'ocena': 3},\n",
    "'Tomek': {'wiek': 25, 'ocena': 2}\n",
    "}"
   ]
  },
  {
   "cell_type": "code",
   "execution_count": null,
   "metadata": {
    "collapsed": true
   },
   "outputs": [],
   "source": [
    "oceny=[]\n",
    "for student in studenci:\n",
    "    ##for ocena in studenci[student]:\n",
    "    print(studenci[student]['ocena'])\n",
    "oceny.append(studenci[student]['ocena'])\n",
    "print (\"średnia :\", sum(oceny)/len(oceny))\n",
    "print ( \"najlepsza ocena :\", max(oceny))\n",
    "print (\"najgorsza ocena :\", min(oceny))\n",
    "\n",
    "     \n"
   ]
  },
  {
   "cell_type": "code",
   "execution_count": null,
   "metadata": {
    "collapsed": true
   },
   "outputs": [],
   "source": [
    "for student in studenci:\n",
    "    if 'kierunek' not in studenci[student].keys():\n",
    "        print(student)\n",
    "        \n",
    "    "
   ]
  },
  {
   "cell_type": "code",
   "execution_count": null,
   "metadata": {
    "collapsed": true
   },
   "outputs": [],
   "source": [
    "with open ('/home/kinga/Pulpit/PyLadies/zadanie1/message (kopia).txt', 'w') as message:\n",
    "    message.write('Do widzenie')\n",
    "\n"
   ]
  },
  {
   "cell_type": "code",
   "execution_count": null,
   "metadata": {
    "collapsed": true
   },
   "outputs": [],
   "source": [
    "with open ('/home/kinga/Pulpit/PyLadies/zadanie1/message (kopia).txt') as message1:\n",
    "    lista_linii=message1.readlines()\n",
    "tytul=lista_linii[:1]\n",
    "zawartosc_pliku=lista_linii[1:]"
   ]
  },
  {
   "cell_type": "code",
   "execution_count": null,
   "metadata": {
    "collapsed": true
   },
   "outputs": [],
   "source": [
    "with open ('/home/kinga/Pulpit/PyLadies/zadanie1/message (kopia).txt', 'a') as message2:\n",
    "    message2.write(' Dzień dobry')\n"
   ]
  },
  {
   "cell_type": "code",
   "execution_count": null,
   "metadata": {
    "collapsed": true
   },
   "outputs": [],
   "source": [
    "with open ('/home/kinga/Pulpit/PyLadies/zadanie1/message (kopia).txt') as message2:\n",
    "    print(message2.read())"
   ]
  },
  {
   "cell_type": "code",
   "execution_count": null,
   "metadata": {
    "collapsed": true
   },
   "outputs": [],
   "source": [
    "with open ('/home/kinga/Pulpit/PyLadies/zadanie1/message (kopia).txt') as message2:\n",
    "    print(message2.read(5))"
   ]
  },
  {
   "cell_type": "code",
   "execution_count": null,
   "metadata": {
    "collapsed": true
   },
   "outputs": [],
   "source": [
    "with open ('/home/kinga/Pulpit/PyLadies/zadanie1/message (kopia).txt') as message2:\n",
    "    print(message2.read(5))\n",
    "with open ('/home/kinga/Pulpit/PyLadies/zadanie1/message (kopia).txt') as message2:\n",
    "    print(message2.read(5))"
   ]
  },
  {
   "cell_type": "code",
   "execution_count": null,
   "metadata": {
    "collapsed": true
   },
   "outputs": [],
   "source": [
    "with open ('/home/kinga/Pulpit/PyLadies/zadanie1/message.txt') as message2:\n",
    "    message2.readlines()\n",
    "    nowe_slowo=''.join([message2.read(0),message2.read(19), message2.read(44), message2.read(45), message2.read(49)])\n",
    "    print(nowe_slowo)"
   ]
  },
  {
   "cell_type": "code",
   "execution_count": null,
   "metadata": {
    "collapsed": true
   },
   "outputs": [],
   "source": [
    "litery=['k', 'i', 'n', 'g', 'a']"
   ]
  },
  {
   "cell_type": "code",
   "execution_count": null,
   "metadata": {
    "collapsed": true
   },
   "outputs": [],
   "source": [
    "slowo=''.join([litery[0], litery[1]])"
   ]
  },
  {
   "cell_type": "code",
   "execution_count": null,
   "metadata": {
    "collapsed": true
   },
   "outputs": [],
   "source": [
    "slowo"
   ]
  },
  {
   "cell_type": "code",
   "execution_count": null,
   "metadata": {
    "collapsed": true
   },
   "outputs": [],
   "source": [
    "random.randint"
   ]
  },
  {
   "cell_type": "code",
   "execution_count": null,
   "metadata": {
    "collapsed": true
   },
   "outputs": [],
   "source": [
    "import random\n",
    "##random.seed()\n",
    "print(random.randint(20,30))"
   ]
  },
  {
   "cell_type": "code",
   "execution_count": null,
   "metadata": {
    "collapsed": true
   },
   "outputs": [],
   "source": [
    "import datetime\n",
    "print (datetime.datetime.month())"
   ]
  },
  {
   "cell_type": "code",
   "execution_count": 19,
   "metadata": {},
   "outputs": [
    {
     "name": "stdout",
     "output_type": "stream",
     "text": [
      "12\n"
     ]
    }
   ],
   "source": [
    "y=5\n",
    "s=7\n",
    "g=y+s\n",
    "print(g)"
   ]
  },
  {
   "cell_type": "code",
   "execution_count": null,
   "metadata": {
    "collapsed": true
   },
   "outputs": [],
   "source": []
  }
 ],
 "metadata": {
  "kernelspec": {
   "display_name": "Python 3",
   "language": "python",
   "name": "python3"
  },
  "language_info": {
   "codemirror_mode": {
    "name": "ipython",
    "version": 3
   },
   "file_extension": ".py",
   "mimetype": "text/x-python",
   "name": "python",
   "nbconvert_exporter": "python",
   "pygments_lexer": "ipython3",
   "version": "3.6.2"
  }
 },
 "nbformat": 4,
 "nbformat_minor": 2
}
