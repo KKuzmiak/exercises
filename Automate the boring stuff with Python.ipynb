{
 "cells": [
  {
   "cell_type": "markdown",
   "metadata": {},
   "source": [
    "## Regular expressions"
   ]
  },
  {
   "cell_type": "code",
   "execution_count": 1,
   "metadata": {},
   "outputs": [],
   "source": [
    "import re"
   ]
  },
  {
   "cell_type": "code",
   "execution_count": 3,
   "metadata": {},
   "outputs": [
    {
     "name": "stdout",
     "output_type": "stream",
     "text": [
      "Phone number found: 415-555-4242\n"
     ]
    }
   ],
   "source": [
    "# finding phone number in the text\n",
    "phoneNumRegex = re.compile(r'\\d\\d\\d-\\d\\d\\d-\\d\\d\\d\\d')\n",
    "mo = phoneNumRegex.search('My number is 415-555-4242.')\n",
    "print('Phone number found: ' + mo.group())"
   ]
  },
  {
   "cell_type": "code",
   "execution_count": 4,
   "metadata": {},
   "outputs": [
    {
     "name": "stdout",
     "output_type": "stream",
     "text": [
      "My phone number is 415-555-4242\n"
     ]
    }
   ],
   "source": [
    "# the same s above but written in different way\n",
    "phoneNumRegex = re.compile(r'\\d{3}-\\d{3}-\\d{4}')\n",
    "mo = phoneNumRegex.search('My number is 415-555-4242.')\n",
    "print('My phone number is ' + mo.group())"
   ]
  },
  {
   "cell_type": "code",
   "execution_count": 12,
   "metadata": {},
   "outputs": [
    {
     "name": "stdout",
     "output_type": "stream",
     "text": [
      "Kinga\n"
     ]
    }
   ],
   "source": [
    "# finding name Tina or Kinga in text\n",
    "# When both Tina and Kinga occur in the searched string, the first occurrence of matching text will be returned \n",
    "text=re.compile(r'Tina|Kinga' )\n",
    "word=text.search('Kinga i Tina to przyjacióki')\n",
    "result=word.group()\n",
    "print(result)"
   ]
  },
  {
   "cell_type": "code",
   "execution_count": 38,
   "metadata": {},
   "outputs": [
    {
     "data": {
      "text/plain": [
       "['415-555-9999', '212-555-0000']"
      ]
     },
     "execution_count": 38,
     "metadata": {},
     "output_type": "execute_result"
    }
   ],
   "source": [
    "# finding all matches \n",
    "phoneNumRegex = re.compile(r'\\d\\d\\d-\\d\\d\\d-\\d\\d\\d\\d') # has no groups\n",
    "phoneNumRegex.findall('Cell: 415-555-9999 Work: 212-555-0000')"
   ]
  },
  {
   "cell_type": "code",
   "execution_count": 18,
   "metadata": {},
   "outputs": [
    {
     "data": {
      "text/plain": [
       "[('415', '555', '9999'), ('212', '555', '0000')]"
      ]
     },
     "execution_count": 18,
     "metadata": {},
     "output_type": "execute_result"
    }
   ],
   "source": [
    "phoneNumRegex = re.compile(r'''(\\d\\d\\d)-(\\d\\d\\d)-(\\d\\d\\d\\d)''') # has groups\n",
    "phoneNumRegex.findall('Cell: 415-555-9999 Work: 212-555-0000')"
   ]
  },
  {
   "cell_type": "code",
   "execution_count": 29,
   "metadata": {},
   "outputs": [
    {
     "data": {
      "text/plain": [
       "'First Name: '"
      ]
     },
     "execution_count": 29,
     "metadata": {},
     "output_type": "execute_result"
    }
   ],
   "source": [
    "# (.*) try to match as much text as possible (anything)\n",
    "# the dot character means “any single character except the newline,”\n",
    "# the star character means “zero or more of the preceding character.”\n",
    "nameRegex = re.compile(r'First Name: .*?')\n",
    "mo = nameRegex.search('First Name: Al Last Name: Sweigart')\n",
    "mo.group()"
   ]
  },
  {
   "cell_type": "code",
   "execution_count": 64,
   "metadata": {},
   "outputs": [
    {
     "data": {
      "text/plain": [
       "[('(048)', '0', '', '604', ' ', '588', '-', '642'),\n",
       " ('(+48)', '+', ' ', '456', '-', '987', '-', '203')]"
      ]
     },
     "execution_count": 64,
     "metadata": {},
     "output_type": "execute_result"
    }
   ],
   "source": [
    "# Create phone number regex\n",
    "phone=re.compile(r'''(\\((\\+|\\d)\\d{2}\\))? # area code; ? means that this part of number is optional\n",
    "(\\s|-)? # separator - optional \n",
    "(\\d{3}) # first 3 digits \n",
    "(\\s|-)? # separator - optional \n",
    "(\\d{3}) # second 3 digits \n",
    "(\\s|-)? # separator - optional \n",
    "(\\d{3}) # last 3 digits \n",
    "\n",
    "''', re.VERBOSE) # Verbose mode is used to ignore whitespace and comments inside the regular expression string. \n",
    "# Thanks to this I can split a long code into a few lines and ut comments\n",
    "phone.findall('My phone number is (048)604 588-642 and (+48) 456-987-203')\n"
   ]
  },
  {
   "cell_type": "code",
   "execution_count": 44,
   "metadata": {},
   "outputs": [
    {
     "data": {
      "text/plain": [
       "[('(048)', '0', '', '604', ' ', '588', '-', '642'),\n",
       " ('(+48)', '+', ' ', '456', '-', '987', '-', '203')]"
      ]
     },
     "execution_count": 44,
     "metadata": {},
     "output_type": "execute_result"
    }
   ],
   "source": [
    "# Create phone number regex\n",
    "import re\n",
    "phone=re.compile(r'''(\\((\\+|\\d)\\d{2}\\))?  # area code; ? means that this part of number is optional\n",
    "(\\s|-)? # separator - optional \n",
    "(\\d{3}) # first 3 digits \n",
    "(\\s|-)? # separator - optional \n",
    "(\\d{3}) # second 3 digits \n",
    "(\\s|-)? # separator - optional \n",
    "(\\d{3}) # last 3 digits \n",
    "\n",
    "''', re.VERBOSE) # Verbose mode is used to ignore whitespace and comments inside the regular expression string. \n",
    "# Thanks to this I can split a long code into a few lines and ut comments\n",
    "phone.findall('My phone number is (048)604 588-642 and (+48) 456-987-203')\n"
   ]
  },
  {
   "cell_type": "code",
   "execution_count": 45,
   "metadata": {},
   "outputs": [
    {
     "data": {
      "text/plain": [
       "['KIinga0kuzmia1k@interia.pl']"
      ]
     },
     "execution_count": 45,
     "metadata": {},
     "output_type": "execute_result"
    }
   ],
   "source": [
    "# Create e-mail regex\n",
    "# \\S match anything except a  space character\n",
    "# the + (or plus) means “match one or more.”\n",
    "mail=re.compile(r'\\S+@\\S+', re.VERBOSE)\n",
    "mail.findall('My e mail address is: KIinga0kuzmia1k@interia.pl and I like cats')"
   ]
  },
  {
   "cell_type": "code",
   "execution_count": 105,
   "metadata": {},
   "outputs": [
    {
     "data": {
      "text/plain": [
       "['KIinga0kuzmia1k@igmail.com']"
      ]
     },
     "execution_count": 105,
     "metadata": {},
     "output_type": "execute_result"
    }
   ],
   "source": [
    "# Create e-mail regex - another way\n",
    "mail=re.compile(r'[a-zA-Z0-9.-_]+@[a-zA-Z]+\\.[a-zA-Z]+', re.VERBOSE)\n",
    "mail.findall('My e mail address is: KIinga0kuzmia1k@igmail.com and I like cats')"
   ]
  },
  {
   "cell_type": "code",
   "execution_count": 47,
   "metadata": {},
   "outputs": [
    {
     "name": "stdout",
     "output_type": "stream",
     "text": [
      "['(048)-604-588-642', '(+48)-456-987-203', 'Kinga_kuzmia1k@interia.pl.', 'kinga.kuzmiak@gmail.com']\n"
     ]
    }
   ],
   "source": [
    "# Find matches of phone numbers and emails in the text\n",
    "text = '''My phone number is (048)604 588-642 and (+48) 456-987-203\n",
    "My main e-mail address is: Kinga_kuzmia1k@interia.pl.\n",
    "Sometimes I use another e-mail which is kinga.kuzmiak@gmail.com\n",
    "I like dogs and I like cats'''\n",
    "matches=[]\n",
    "for groups in phone.findall(text):\n",
    "    phoneNum = '-'.join([groups[0], groups[3], groups[5],groups[7] ])\n",
    "    matches.append(phoneNum)\n",
    "for email in mail.findall(text):\n",
    "    matches.append(email)\n",
    "print(matches)"
   ]
  },
  {
   "cell_type": "code",
   "execution_count": null,
   "metadata": {},
   "outputs": [],
   "source": []
  }
 ],
 "metadata": {
  "kernelspec": {
   "display_name": "Python 3",
   "language": "python",
   "name": "python3"
  },
  "language_info": {
   "codemirror_mode": {
    "name": "ipython",
    "version": 3
   },
   "file_extension": ".py",
   "mimetype": "text/x-python",
   "name": "python",
   "nbconvert_exporter": "python",
   "pygments_lexer": "ipython3",
   "version": "3.7.4"
  }
 },
 "nbformat": 4,
 "nbformat_minor": 2
}
