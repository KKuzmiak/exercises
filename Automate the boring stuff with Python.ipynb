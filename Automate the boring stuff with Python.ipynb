{
 "cells": [
  {
   "cell_type": "markdown",
   "metadata": {},
   "source": [
    "## Regular expressions"
   ]
  },
  {
   "cell_type": "code",
   "execution_count": 1,
   "metadata": {},
   "outputs": [],
   "source": [
    "import re"
   ]
  },
  {
   "cell_type": "code",
   "execution_count": 3,
   "metadata": {},
   "outputs": [
    {
     "name": "stdout",
     "output_type": "stream",
     "text": [
      "Phone number found: 415-555-4242\n"
     ]
    }
   ],
   "source": [
    "# finding phone number in the text\n",
    "phoneNumRegex = re.compile(r'\\d\\d\\d-\\d\\d\\d-\\d\\d\\d\\d')\n",
    "mo = phoneNumRegex.search('My number is 415-555-4242.')\n",
    "print('Phone number found: ' + mo.group())"
   ]
  },
  {
   "cell_type": "code",
   "execution_count": 4,
   "metadata": {},
   "outputs": [
    {
     "name": "stdout",
     "output_type": "stream",
     "text": [
      "My phone number is 415-555-4242\n"
     ]
    }
   ],
   "source": [
    "# the same s above but written in different way\n",
    "phoneNumRegex = re.compile(r'\\d{3}-\\d{3}-\\d{4}')\n",
    "mo = phoneNumRegex.search('My number is 415-555-4242.')\n",
    "print('My phone number is ' + mo.group())"
   ]
  },
  {
   "cell_type": "code",
   "execution_count": 12,
   "metadata": {},
   "outputs": [
    {
     "name": "stdout",
     "output_type": "stream",
     "text": [
      "Kinga\n"
     ]
    }
   ],
   "source": [
    "# finding name Tina or Kinga in text\n",
    "# When both Tina and Kinga occur in the searched string, the first occurrence of matching text will be returned \n",
    "text=re.compile(r'Tina|Kinga' )\n",
    "word=text.search('Kinga i Tina to przyjacióki')\n",
    "result=word.group()\n",
    "print(result)"
   ]
  },
  {
   "cell_type": "code",
   "execution_count": 38,
   "metadata": {},
   "outputs": [
    {
     "data": {
      "text/plain": [
       "['415-555-9999', '212-555-0000']"
      ]
     },
     "execution_count": 38,
     "metadata": {},
     "output_type": "execute_result"
    }
   ],
   "source": [
    "# finding all matches \n",
    "phoneNumRegex = re.compile(r'\\d\\d\\d-\\d\\d\\d-\\d\\d\\d\\d') # has no groups\n",
    "phoneNumRegex.findall('Cell: 415-555-9999 Work: 212-555-0000')"
   ]
  },
  {
   "cell_type": "code",
   "execution_count": 18,
   "metadata": {},
   "outputs": [
    {
     "data": {
      "text/plain": [
       "[('415', '555', '9999'), ('212', '555', '0000')]"
      ]
     },
     "execution_count": 18,
     "metadata": {},
     "output_type": "execute_result"
    }
   ],
   "source": [
    "phoneNumRegex = re.compile(r'''(\\d\\d\\d)-(\\d\\d\\d)-(\\d\\d\\d\\d)''') # has groups\n",
    "phoneNumRegex.findall('Cell: 415-555-9999 Work: 212-555-0000')"
   ]
  },
  {
   "cell_type": "code",
   "execution_count": 29,
   "metadata": {},
   "outputs": [
    {
     "data": {
      "text/plain": [
       "'First Name: '"
      ]
     },
     "execution_count": 29,
     "metadata": {},
     "output_type": "execute_result"
    }
   ],
   "source": [
    "# (.*) try to match as much text as possible (anything)\n",
    "# the dot character means “any single character except the newline,”\n",
    "# the star character means “zero or more of the preceding character.”\n",
    "nameRegex = re.compile(r'First Name: .*?')\n",
    "mo = nameRegex.search('First Name: Al Last Name: Sweigart')\n",
    "mo.group()"
   ]
  },
  {
   "cell_type": "code",
   "execution_count": 64,
   "metadata": {},
   "outputs": [
    {
     "data": {
      "text/plain": [
       "[('(048)', '0', '', '604', ' ', '588', '-', '642'),\n",
       " ('(+48)', '+', ' ', '456', '-', '987', '-', '203')]"
      ]
     },
     "execution_count": 64,
     "metadata": {},
     "output_type": "execute_result"
    }
   ],
   "source": [
    "# Create phone number regex\n",
    "phone=re.compile(r'''(\\((\\+|\\d)\\d{2}\\))? # area code; ? means that this part of number is optional\n",
    "(\\s|-)? # separator - optional \n",
    "(\\d{3}) # first 3 digits \n",
    "(\\s|-)? # separator - optional \n",
    "(\\d{3}) # second 3 digits \n",
    "(\\s|-)? # separator - optional \n",
    "(\\d{3}) # last 3 digits \n",
    "\n",
    "''', re.VERBOSE) # Verbose mode is used to ignore whitespace and comments inside the regular expression string. \n",
    "# Thanks to this I can split a long code into a few lines and ut comments\n",
    "phone.findall('My phone number is (048)604 588-642 and (+48) 456-987-203')\n"
   ]
  },
  {
   "cell_type": "code",
   "execution_count": 44,
   "metadata": {},
   "outputs": [
    {
     "data": {
      "text/plain": [
       "[('(048)', '0', '', '604', ' ', '588', '-', '642'),\n",
       " ('(+48)', '+', ' ', '456', '-', '987', '-', '203')]"
      ]
     },
     "execution_count": 44,
     "metadata": {},
     "output_type": "execute_result"
    }
   ],
   "source": [
    "# Create phone number regex\n",
    "import re\n",
    "phone=re.compile(r'''(\\((\\+|\\d)\\d{2}\\))?  # area code; ? means that this part of number is optional\n",
    "(\\s|-)? # separator - optional \n",
    "(\\d{3}) # first 3 digits \n",
    "(\\s|-)? # separator - optional \n",
    "(\\d{3}) # second 3 digits \n",
    "(\\s|-)? # separator - optional \n",
    "(\\d{3}) # last 3 digits \n",
    "\n",
    "''', re.VERBOSE) # Verbose mode is used to ignore whitespace and comments inside the regular expression string. \n",
    "# Thanks to this I can split a long code into a few lines and ut comments\n",
    "phone.findall('My phone number is (048)604 588-642 and (+48) 456-987-203')\n"
   ]
  },
  {
   "cell_type": "code",
   "execution_count": 45,
   "metadata": {},
   "outputs": [
    {
     "data": {
      "text/plain": [
       "['KIinga0kuzmia1k@interia.pl']"
      ]
     },
     "execution_count": 45,
     "metadata": {},
     "output_type": "execute_result"
    }
   ],
   "source": [
    "# Create e-mail regex\n",
    "# \\S match anything except a  space character\n",
    "# the + (or plus) means “match one or more.”\n",
    "mail=re.compile(r'\\S+@\\S+', re.VERBOSE)\n",
    "mail.findall('My e mail address is: KIinga0kuzmia1k@interia.pl and I like cats')"
   ]
  },
  {
   "cell_type": "code",
   "execution_count": 105,
   "metadata": {},
   "outputs": [
    {
     "data": {
      "text/plain": [
       "['KIinga0kuzmia1k@igmail.com']"
      ]
     },
     "execution_count": 105,
     "metadata": {},
     "output_type": "execute_result"
    }
   ],
   "source": [
    "# Create e-mail regex - another way\n",
    "mail=re.compile(r'[a-zA-Z0-9.-_]+@[a-zA-Z]+\\.[a-zA-Z]+', re.VERBOSE)\n",
    "mail.findall('My e mail address is: KIinga0kuzmia1k@igmail.com and I like cats')"
   ]
  },
  {
   "cell_type": "code",
   "execution_count": 47,
   "metadata": {},
   "outputs": [
    {
     "name": "stdout",
     "output_type": "stream",
     "text": [
      "['(048)-604-588-642', '(+48)-456-987-203', 'Kinga_kuzmia1k@interia.pl.', 'kinga.kuzmiak@gmail.com']\n"
     ]
    }
   ],
   "source": [
    "# Find matches of phone numbers and emails in the text\n",
    "text = '''My phone number is (048)604 588-642 and (+48) 456-987-203\n",
    "My main e-mail address is: Kinga_kuzmia1k@interia.pl.\n",
    "Sometimes I use another e-mail which is kinga.kuzmiak@gmail.com\n",
    "I like dogs and I like cats'''\n",
    "matches=[]\n",
    "for groups in phone.findall(text):\n",
    "    phoneNum = '-'.join([groups[0], groups[3], groups[5],groups[7] ])\n",
    "    matches.append(phoneNum)\n",
    "for email in mail.findall(text):\n",
    "    matches.append(email)\n",
    "print(matches)"
   ]
  },
  {
   "cell_type": "markdown",
   "metadata": {},
   "source": [
    "## Input validation\n",
    "- inputStr() Is like the built-in input() function but has the general PyInputPlus features. You can also pass a custom validation function to it\n",
    "\n",
    "- inputNum() Ensures the user enters a number and returns an int or float, depending on if the number has a decimal point in it\n",
    "\n",
    "- inputChoice() Ensures the user enters one of the provided choices\n",
    "\n",
    "- inputMenu() Is similar to inputChoice(), but provides a menu with numbered or lettered options\n",
    "\n",
    "- inputDatetime() Ensures the user enters a date and time\n",
    "- inputMonth() Prompts the user to enter a month name. Returns a string of the selected month name in titlecase.\n",
    "\n",
    "- inputYesNo() Ensures the user enters a “yes” or “no” response\n",
    "\n",
    "- inputBool() Is similar to inputYesNo(), but takes a “True” or “False” response and returns a Boolean value\n",
    "\n",
    "- inputEmail() Ensures the user enters a valid email address\n",
    "\n",
    "- inputFilepath() Ensures the user enters a valid file path and filename, and can optionally check that a file with that name exists\n",
    "\n",
    "- inputPassword() Is like the built-in input(), but displays * characters as the user types so that passwords, or other sensitive information, aren’t displayed on the screen\n",
    "\n",
    "more information at https://pyinputplus.readthedocs.io/en/latest/"
   ]
  },
  {
   "cell_type": "code",
   "execution_count": 1,
   "metadata": {},
   "outputs": [],
   "source": [
    "import pyinputplus as pyip"
   ]
  },
  {
   "cell_type": "code",
   "execution_count": 19,
   "metadata": {
    "scrolled": true
   },
   "outputs": [
    {
     "name": "stdout",
     "output_type": "stream",
     "text": [
      "Help on function parameters in module pyinputplus:\n",
      "\n",
      "parameters()\n",
      "    Common parameters for all ``input*()`` functions in PyInputPlus:\n",
      "    \n",
      "    * ``prompt`` (str): The text to display before each prompt for user input. Identical to the prompt argument for Python's ``raw_input()`` and ``input()`` functions.\n",
      "    * ``default`` (str, None): A default value to use should the user time out or exceed the number of tries to enter valid input.\n",
      "    * ``blank`` (bool): If ``True``, a blank string will be accepted. Defaults to ``False``.\n",
      "    * ``timeout`` (int, float): The number of seconds since the first prompt for input after which a ``TimeoutException`` is raised the next time the user enters input.\n",
      "    * ``limit`` (int): The number of tries the user has to enter valid input before the default value is returned.\n",
      "    * ``strip`` (bool, str, None): If ``None``, whitespace is stripped from value. If a str, the characters in it are stripped from value. If ``False``, nothing is stripped.\n",
      "    * ``allowlistRegexes`` (Sequence, None): A sequence of regex str that will explicitly pass validation.\n",
      "    * ``blocklistRegexes`` (Sequence, None): A sequence of regex str or ``(regex_str, error_msg_str)`` tuples that, if matched, will explicitly fail validation.\n",
      "    * ``applyFunc`` (Callable, None): An optional function that is passed the user's input, and returns the new value to use as the input.\n",
      "    * ``postValidateApplyFunc`` (Callable, None): An optional function that is passed the user's input after it has passed validation, and returns a transformed version for the ``input*()`` function to return.\n",
      "\n"
     ]
    }
   ],
   "source": [
    "# input parameters\n",
    "help(pyip.parameters)"
   ]
  },
  {
   "cell_type": "code",
   "execution_count": 84,
   "metadata": {},
   "outputs": [
    {
     "name": "stdout",
     "output_type": "stream",
     "text": [
      "Enter a number: 4\n",
      "Number must be at minimum 5.\n",
      "Enter a number: 12\n",
      "Number must be at maximum 10.\n",
      "Enter a number: 9\n"
     ]
    }
   ],
   "source": [
    "response = pyip.inputInt(prompt='Enter a number: ', min=5, max=10)"
   ]
  },
  {
   "cell_type": "code",
   "execution_count": 86,
   "metadata": {},
   "outputs": [
    {
     "name": "stdout",
     "output_type": "stream",
     "text": [
      "Enter a number: 12\n",
      "Number must be less than 10.\n",
      "Enter a number: 9\n"
     ]
    }
   ],
   "source": [
    "response = pyip.inputNum(prompt='Enter a number: ', lessThan=10, blank=True)\n",
    "#blank=True - the user doesn’t need to enter anything"
   ]
  },
  {
   "cell_type": "code",
   "execution_count": 31,
   "metadata": {},
   "outputs": [
    {
     "name": "stdout",
     "output_type": "stream",
     "text": [
      "Please select one of: dog, cat\n",
      "dog\n"
     ]
    }
   ],
   "source": [
    "response=pyip.inputChoice(choices=['dog', 'cat'])"
   ]
  },
  {
   "cell_type": "code",
   "execution_count": 88,
   "metadata": {
    "collapsed": true
   },
   "outputs": [
    {
     "name": "stdout",
     "output_type": "stream",
     "text": [
      "Please select one of: dog, cat\n",
      "horse\n",
      "'horse' is not a valid choice.\n",
      "Please select one of: dog, cat\n",
      "cow\n",
      "'cow' is not a valid choice.\n",
      "Please select one of: dog, cat\n",
      "duck\n",
      "'duck' is not a valid choice.\n"
     ]
    },
    {
     "ename": "RetryLimitException",
     "evalue": "",
     "output_type": "error",
     "traceback": [
      "\u001b[0;31m---------------------------------------------------------------------------\u001b[0m",
      "\u001b[0;31mValidationException\u001b[0m                       Traceback (most recent call last)",
      "\u001b[0;32m~/anaconda3/lib/python3.7/site-packages/pyinputplus/__init__.py\u001b[0m in \u001b[0;36m_genericInput\u001b[0;34m(prompt, default, timeout, limit, applyFunc, validationFunc, postValidateApplyFunc, passwordMask)\u001b[0m\n\u001b[1;32m    170\u001b[0m             possibleNewUserInput = validationFunc(\n\u001b[0;32m--> 171\u001b[0;31m                 \u001b[0muserInput\u001b[0m\u001b[0;34m\u001b[0m\u001b[0;34m\u001b[0m\u001b[0m\n\u001b[0m\u001b[1;32m    172\u001b[0m             )  # If validation fails, this function will raise an exception. Returns an updated value to use as user input (e.g. stripped of whitespace, etc.)\n",
      "\u001b[0;32m~/anaconda3/lib/python3.7/site-packages/pyinputplus/__init__.py\u001b[0m in \u001b[0;36m<lambda>\u001b[0;34m(value)\u001b[0m\n\u001b[1;32m    655\u001b[0m         \u001b[0mlettered\u001b[0m\u001b[0;34m=\u001b[0m\u001b[0;32mFalse\u001b[0m\u001b[0;34m,\u001b[0m\u001b[0;34m\u001b[0m\u001b[0;34m\u001b[0m\u001b[0m\n\u001b[0;32m--> 656\u001b[0;31m         \u001b[0mcaseSensitive\u001b[0m\u001b[0;34m=\u001b[0m\u001b[0;32mFalse\u001b[0m\u001b[0;34m,\u001b[0m\u001b[0;34m\u001b[0m\u001b[0;34m\u001b[0m\u001b[0m\n\u001b[0m\u001b[1;32m    657\u001b[0m     )\n",
      "\u001b[0;32m~/anaconda3/lib/python3.7/site-packages/pysimplevalidate/__init__.py\u001b[0m in \u001b[0;36mvalidateChoice\u001b[0;34m(value, choices, blank, strip, allowRegexes, blockRegexes, numbered, lettered, caseSensitive, excMsg)\u001b[0m\n\u001b[1;32m    613\u001b[0m \u001b[0;34m\u001b[0m\u001b[0m\n\u001b[0;32m--> 614\u001b[0;31m     \u001b[0m_raiseValidationException\u001b[0m\u001b[0;34m(\u001b[0m\u001b[0m_\u001b[0m\u001b[0;34m(\u001b[0m\u001b[0;34m'%r is not a valid choice.'\u001b[0m\u001b[0;34m)\u001b[0m \u001b[0;34m%\u001b[0m \u001b[0;34m(\u001b[0m\u001b[0m_errstr\u001b[0m\u001b[0;34m(\u001b[0m\u001b[0mvalue\u001b[0m\u001b[0;34m)\u001b[0m\u001b[0;34m)\u001b[0m\u001b[0;34m,\u001b[0m \u001b[0mexcMsg\u001b[0m\u001b[0;34m)\u001b[0m\u001b[0;34m\u001b[0m\u001b[0;34m\u001b[0m\u001b[0m\n\u001b[0m\u001b[1;32m    615\u001b[0m \u001b[0;34m\u001b[0m\u001b[0m\n",
      "\u001b[0;32m~/anaconda3/lib/python3.7/site-packages/pysimplevalidate/__init__.py\u001b[0m in \u001b[0;36m_raiseValidationException\u001b[0;34m(standardExcMsg, customExcMsg)\u001b[0m\n\u001b[1;32m    107\u001b[0m     \u001b[0;32mif\u001b[0m \u001b[0mcustomExcMsg\u001b[0m \u001b[0;32mis\u001b[0m \u001b[0;32mNone\u001b[0m\u001b[0;34m:\u001b[0m\u001b[0;34m\u001b[0m\u001b[0;34m\u001b[0m\u001b[0m\n\u001b[0;32m--> 108\u001b[0;31m         \u001b[0;32mraise\u001b[0m \u001b[0mValidationException\u001b[0m\u001b[0;34m(\u001b[0m\u001b[0mstr\u001b[0m\u001b[0;34m(\u001b[0m\u001b[0mstandardExcMsg\u001b[0m\u001b[0;34m)\u001b[0m\u001b[0;34m)\u001b[0m\u001b[0;34m\u001b[0m\u001b[0;34m\u001b[0m\u001b[0m\n\u001b[0m\u001b[1;32m    109\u001b[0m     \u001b[0;32melse\u001b[0m\u001b[0;34m:\u001b[0m\u001b[0;34m\u001b[0m\u001b[0;34m\u001b[0m\u001b[0m\n",
      "\u001b[0;31mValidationException\u001b[0m: 'duck' is not a valid choice.",
      "\nDuring handling of the above exception, another exception occurred:\n",
      "\u001b[0;31mRetryLimitException\u001b[0m                       Traceback (most recent call last)",
      "\u001b[0;32m<ipython-input-88-2ed1786f857e>\u001b[0m in \u001b[0;36m<module>\u001b[0;34m\u001b[0m\n\u001b[0;32m----> 1\u001b[0;31m \u001b[0mresponse\u001b[0m\u001b[0;34m=\u001b[0m\u001b[0mpyip\u001b[0m\u001b[0;34m.\u001b[0m\u001b[0minputChoice\u001b[0m\u001b[0;34m(\u001b[0m\u001b[0mchoices\u001b[0m\u001b[0;34m=\u001b[0m\u001b[0;34m[\u001b[0m\u001b[0;34m'dog'\u001b[0m\u001b[0;34m,\u001b[0m \u001b[0;34m'cat'\u001b[0m\u001b[0;34m]\u001b[0m\u001b[0;34m,\u001b[0m \u001b[0mlimit\u001b[0m\u001b[0;34m=\u001b[0m\u001b[0;36m3\u001b[0m\u001b[0;34m)\u001b[0m\u001b[0;34m\u001b[0m\u001b[0;34m\u001b[0m\u001b[0m\n\u001b[0m",
      "\u001b[0;32m~/anaconda3/lib/python3.7/site-packages/pyinputplus/__init__.py\u001b[0m in \u001b[0;36minputChoice\u001b[0;34m(choices, prompt, default, blank, timeout, limit, strip, allowRegexes, blockRegexes, applyFunc, postValidateApplyFunc, caseSensitive)\u001b[0m\n\u001b[1;32m    667\u001b[0m         \u001b[0mapplyFunc\u001b[0m\u001b[0;34m=\u001b[0m\u001b[0mapplyFunc\u001b[0m\u001b[0;34m,\u001b[0m\u001b[0;34m\u001b[0m\u001b[0;34m\u001b[0m\u001b[0m\n\u001b[1;32m    668\u001b[0m         \u001b[0mpostValidateApplyFunc\u001b[0m\u001b[0;34m=\u001b[0m\u001b[0mpostValidateApplyFunc\u001b[0m\u001b[0;34m,\u001b[0m\u001b[0;34m\u001b[0m\u001b[0;34m\u001b[0m\u001b[0m\n\u001b[0;32m--> 669\u001b[0;31m         \u001b[0mvalidationFunc\u001b[0m\u001b[0;34m=\u001b[0m\u001b[0mvalidationFunc\u001b[0m\u001b[0;34m,\u001b[0m\u001b[0;34m\u001b[0m\u001b[0;34m\u001b[0m\u001b[0m\n\u001b[0m\u001b[1;32m    670\u001b[0m     )\n\u001b[1;32m    671\u001b[0m \u001b[0;34m\u001b[0m\u001b[0m\n",
      "\u001b[0;32m~/anaconda3/lib/python3.7/site-packages/pyinputplus/__init__.py\u001b[0m in \u001b[0;36m_genericInput\u001b[0;34m(prompt, default, timeout, limit, applyFunc, validationFunc, postValidateApplyFunc, passwordMask)\u001b[0m\n\u001b[1;32m    189\u001b[0m                 \u001b[0;32melse\u001b[0m\u001b[0;34m:\u001b[0m\u001b[0;34m\u001b[0m\u001b[0;34m\u001b[0m\u001b[0m\n\u001b[1;32m    190\u001b[0m                     \u001b[0;31m# If there is no default, then raise the timeout/limit exception.\u001b[0m\u001b[0;34m\u001b[0m\u001b[0;34m\u001b[0m\u001b[0;34m\u001b[0m\u001b[0m\n\u001b[0;32m--> 191\u001b[0;31m                     \u001b[0;32mraise\u001b[0m \u001b[0mlimitOrTimeoutException\u001b[0m\u001b[0;34m\u001b[0m\u001b[0;34m\u001b[0m\u001b[0m\n\u001b[0m\u001b[1;32m    192\u001b[0m             \u001b[0;32melse\u001b[0m\u001b[0;34m:\u001b[0m\u001b[0;34m\u001b[0m\u001b[0;34m\u001b[0m\u001b[0m\n\u001b[1;32m    193\u001b[0m                 \u001b[0;31m# If there was no timeout/limit exceeded, let the user enter input again.\u001b[0m\u001b[0;34m\u001b[0m\u001b[0;34m\u001b[0m\u001b[0;34m\u001b[0m\u001b[0m\n",
      "\u001b[0;31mRetryLimitException\u001b[0m: "
     ]
    }
   ],
   "source": [
    "# limit - determine how many attempts a PyInputPlus function will make to receive valid input before giving up.\n",
    "# If the user doesn't input a valid choice, the exceprion is raised like in the example below\n",
    "response=pyip.inputChoice(choices=['dog', 'cat'], limit=3)"
   ]
  },
  {
   "cell_type": "code",
   "execution_count": 89,
   "metadata": {},
   "outputs": [
    {
     "name": "stdout",
     "output_type": "stream",
     "text": [
      "Please select one of: dog, cat\n",
      "dog\n"
     ]
    },
    {
     "ename": "TimeoutException",
     "evalue": "",
     "output_type": "error",
     "traceback": [
      "\u001b[0;31m---------------------------------------------------------------------------\u001b[0m",
      "\u001b[0;31mTimeoutException\u001b[0m                          Traceback (most recent call last)",
      "\u001b[0;32m<ipython-input-89-557fcffb9ae1>\u001b[0m in \u001b[0;36m<module>\u001b[0;34m\u001b[0m\n\u001b[0;32m----> 1\u001b[0;31m \u001b[0mresponse\u001b[0m\u001b[0;34m=\u001b[0m\u001b[0mpyip\u001b[0m\u001b[0;34m.\u001b[0m\u001b[0minputChoice\u001b[0m\u001b[0;34m(\u001b[0m\u001b[0mchoices\u001b[0m\u001b[0;34m=\u001b[0m\u001b[0;34m[\u001b[0m\u001b[0;34m'dog'\u001b[0m\u001b[0;34m,\u001b[0m \u001b[0;34m'cat'\u001b[0m\u001b[0;34m]\u001b[0m\u001b[0;34m,\u001b[0m \u001b[0mtimeout\u001b[0m\u001b[0;34m=\u001b[0m\u001b[0;36m5\u001b[0m\u001b[0;34m)\u001b[0m\u001b[0;34m\u001b[0m\u001b[0;34m\u001b[0m\u001b[0m\n\u001b[0m",
      "\u001b[0;32m~/anaconda3/lib/python3.7/site-packages/pyinputplus/__init__.py\u001b[0m in \u001b[0;36minputChoice\u001b[0;34m(choices, prompt, default, blank, timeout, limit, strip, allowRegexes, blockRegexes, applyFunc, postValidateApplyFunc, caseSensitive)\u001b[0m\n\u001b[1;32m    667\u001b[0m         \u001b[0mapplyFunc\u001b[0m\u001b[0;34m=\u001b[0m\u001b[0mapplyFunc\u001b[0m\u001b[0;34m,\u001b[0m\u001b[0;34m\u001b[0m\u001b[0;34m\u001b[0m\u001b[0m\n\u001b[1;32m    668\u001b[0m         \u001b[0mpostValidateApplyFunc\u001b[0m\u001b[0;34m=\u001b[0m\u001b[0mpostValidateApplyFunc\u001b[0m\u001b[0;34m,\u001b[0m\u001b[0;34m\u001b[0m\u001b[0;34m\u001b[0m\u001b[0m\n\u001b[0;32m--> 669\u001b[0;31m         \u001b[0mvalidationFunc\u001b[0m\u001b[0;34m=\u001b[0m\u001b[0mvalidationFunc\u001b[0m\u001b[0;34m,\u001b[0m\u001b[0;34m\u001b[0m\u001b[0;34m\u001b[0m\u001b[0m\n\u001b[0m\u001b[1;32m    670\u001b[0m     )\n\u001b[1;32m    671\u001b[0m \u001b[0;34m\u001b[0m\u001b[0m\n",
      "\u001b[0;32m~/anaconda3/lib/python3.7/site-packages/pyinputplus/__init__.py\u001b[0m in \u001b[0;36m_genericInput\u001b[0;34m(prompt, default, timeout, limit, applyFunc, validationFunc, postValidateApplyFunc, passwordMask)\u001b[0m\n\u001b[1;32m    204\u001b[0m                 \u001b[0;32mreturn\u001b[0m \u001b[0mdefault\u001b[0m\u001b[0;34m\u001b[0m\u001b[0;34m\u001b[0m\u001b[0m\n\u001b[1;32m    205\u001b[0m             \u001b[0;32melse\u001b[0m\u001b[0;34m:\u001b[0m\u001b[0;34m\u001b[0m\u001b[0;34m\u001b[0m\u001b[0m\n\u001b[0;32m--> 206\u001b[0;31m                 \u001b[0;32mraise\u001b[0m \u001b[0mTimeoutException\u001b[0m\u001b[0;34m(\u001b[0m\u001b[0;34m)\u001b[0m\u001b[0;34m\u001b[0m\u001b[0;34m\u001b[0m\u001b[0m\n\u001b[0m\u001b[1;32m    207\u001b[0m \u001b[0;34m\u001b[0m\u001b[0m\n\u001b[1;32m    208\u001b[0m         \u001b[0;32mif\u001b[0m \u001b[0mpostValidateApplyFunc\u001b[0m \u001b[0;32mis\u001b[0m \u001b[0;32mnot\u001b[0m \u001b[0;32mNone\u001b[0m\u001b[0;34m:\u001b[0m\u001b[0;34m\u001b[0m\u001b[0;34m\u001b[0m\u001b[0m\n",
      "\u001b[0;31mTimeoutException\u001b[0m: "
     ]
    }
   ],
   "source": [
    "# timeout- determine how many seconds the user has to enter valid input before the PyInputPlus function gives up\n",
    "# If the user fails to enter valid input in the time given, the exception is raised\n",
    "response=pyip.inputChoice(choices=['dog', 'cat'], timeout=5)"
   ]
  },
  {
   "cell_type": "code",
   "execution_count": 29,
   "metadata": {},
   "outputs": [
    {
     "name": "stdout",
     "output_type": "stream",
     "text": [
      "Please select one of the following:\n",
      "1. dog\n",
      "2. cat\n",
      "3. cow\n",
      "dog\n"
     ]
    }
   ],
   "source": [
    "response = pyip.inputMenu(['dog', 'cat', 'cow'], numbered=True)"
   ]
  },
  {
   "cell_type": "code",
   "execution_count": 33,
   "metadata": {},
   "outputs": [
    {
     "name": "stdout",
     "output_type": "stream",
     "text": [
      "Please select one of the following:\n",
      "* dog\n",
      "* cat\n",
      "* cow\n",
      "Dog\n",
      "'Dog' is not a valid choice.\n",
      "Please select one of the following:\n",
      "* dog\n",
      "* cat\n",
      "* cow\n",
      "dog\n"
     ]
    }
   ],
   "source": [
    "response = pyip.inputMenu(['dog', 'cat', 'cow'], caseSensitive=True)"
   ]
  },
  {
   "cell_type": "code",
   "execution_count": 34,
   "metadata": {},
   "outputs": [
    {
     "name": "stdout",
     "output_type": "stream",
     "text": [
      "Please select one of the following:\n",
      "A. dog\n",
      "B. cat\n",
      "C. cow\n",
      "cat\n"
     ]
    }
   ],
   "source": [
    "response = pyip.inputMenu(['dog', 'cat', 'cow'], lettered=True)"
   ]
  },
  {
   "cell_type": "code",
   "execution_count": 15,
   "metadata": {},
   "outputs": [
    {
     "name": "stdout",
     "output_type": "stream",
     "text": [
      "kinga\n",
      "'kinga' is not a valid email address.\n",
      "kinga@kinga\n",
      "'kinga@kinga' is not a valid email address.\n",
      "kinga@interia.com\n"
     ]
    }
   ],
   "source": [
    "response=pyip.inputEmail()"
   ]
  },
  {
   "cell_type": "code",
   "execution_count": 35,
   "metadata": {},
   "outputs": [
    {
     "name": "stdout",
     "output_type": "stream",
     "text": [
      "11\n",
      "'11' is not a valid time.\n",
      "11:00\n"
     ]
    }
   ],
   "source": [
    "response = pyip.inputTime()"
   ]
  },
  {
   "cell_type": "code",
   "execution_count": 37,
   "metadata": {},
   "outputs": [
    {
     "name": "stdout",
     "output_type": "stream",
     "text": [
      "2020-01-31\n",
      "'2020-01-31' is not a valid date.\n",
      "2010/01/31\n"
     ]
    }
   ],
   "source": [
    "response = pyip.inputDate()"
   ]
  },
  {
   "cell_type": "code",
   "execution_count": 42,
   "metadata": {},
   "outputs": [
    {
     "name": "stdout",
     "output_type": "stream",
     "text": [
      "I don't know\n",
      "\"I don't know\" is not a valid yes/no response.\n",
      "yes\n"
     ]
    }
   ],
   "source": [
    "response = pyip.inputYesNo()"
   ]
  },
  {
   "cell_type": "code",
   "execution_count": 43,
   "metadata": {},
   "outputs": [
    {
     "name": "stdout",
     "output_type": "stream",
     "text": [
      "yes\n",
      "'yes' is not a valid OK/no response.\n",
      "ok\n",
      "'ok' is not a valid OK/no response.\n",
      "OK\n"
     ]
    }
   ],
   "source": [
    "response = pyip.inputYesNo(yesVal='OK', caseSensitive=True)"
   ]
  },
  {
   "cell_type": "markdown",
   "metadata": {},
   "source": [
    "##### Passing a Custom Validation Function to inputCustom()\n",
    "It is possible to write a function to perform your own custom validation logic"
   ]
  },
  {
   "cell_type": "code",
   "execution_count": 27,
   "metadata": {},
   "outputs": [],
   "source": [
    "# The function that asks a user for password and checks if the password meets the specified conditions\n",
    "def password_input(password):\n",
    "    while True:\n",
    "        password=input('please enter your password: ')\n",
    "        if any(c for c in password if c.islower()) and any(c for c in password if c.isupper()) \\\n",
    "            and len(password)>=9 and any(c for c in password if c in ['!','@','#','$','%','^','&','*']):\n",
    "            \n",
    "            print('password correct')\n",
    "            break\n",
    "     \n",
    "        else:\n",
    "    \n",
    "           print ('''password must contain at least: one lowercase letter, at least one uppercase letter,\n",
    "        #at least one digit, at one special sign and be at least 9 chatacters ''')\n",
    "       "
   ]
  },
  {
   "cell_type": "code",
   "execution_count": 26,
   "metadata": {},
   "outputs": [
    {
     "name": "stdout",
     "output_type": "stream",
     "text": [
      "please enter your passwordKinga666%%%\n",
      "password correct\n"
     ]
    }
   ],
   "source": [
    "password_input('Kinga')"
   ]
  },
  {
   "cell_type": "code",
   "execution_count": 33,
   "metadata": {},
   "outputs": [
    {
     "name": "stdout",
     "output_type": "stream",
     "text": [
      "\n",
      "please enter your password: Kinga\n",
      "password must contain at least: one lowercase letter, at least one uppercase letter,\n",
      "        #at least one digit, at one special sign and be at least 9 chatacters \n",
      "please enter your password: kinga777%%%\n",
      "password must contain at least: one lowercase letter, at least one uppercase letter,\n",
      "        #at least one digit, at one special sign and be at least 9 chatacters \n",
      "please enter your password: Kinga666$$$\n",
      "password correct\n"
     ]
    }
   ],
   "source": [
    "# Putting the function password_input into custom validation\n",
    "response=pyip.inputCustom(password_input, blank=True)"
   ]
  },
  {
   "cell_type": "markdown",
   "metadata": {},
   "source": [
    "#### TASK\n",
    "Sandwich Maker\n",
    "\n",
    "Write a program that asks users for their sandwich preferences. The program should use PyInputPlus to ensure that they enter valid input, such as:\n",
    "\n",
    "    Using inputMenu() for a bread type: wheat, white, or sourdough.\n",
    "    Using inputMenu() for a protein type: chicken, turkey, ham, or tofu.\n",
    "    Using inputYesNo() to ask if they want cheese.\n",
    "    If so, using inputMenu() to ask for a cheese type: cheddar, Swiss, or mozzarella.\n",
    "    Using inputYesNo() to ask if they want mayo, mustard, lettuce, or tomato.\n",
    "    Using inputInt() to ask how many sandwiches they want. Make sure this number is 1 or more.\n",
    "\n",
    "Come up with prices for each of these options, and have your program display a total cost after the user enters their selection."
   ]
  },
  {
   "cell_type": "code",
   "execution_count": 1,
   "metadata": {},
   "outputs": [],
   "source": [
    "import pyinputplus as pyip"
   ]
  },
  {
   "cell_type": "code",
   "execution_count": 2,
   "metadata": {},
   "outputs": [],
   "source": [
    "# a dictionary with ingredients and prices\n",
    "prices={'bread':{'wheat':5, 'white':4,'sourdough':8},\n",
    "'protein':{'chicken':4, 'turkey':2, 'ham':2, 'tofu':1.5},\n",
    "'cheese':{'cheddar':2, 'Swiss':4, 'mozzarella':2},\n",
    "'extras':{'mayo':1.5, 'mustard':1.5, 'lettuce':1, 'tomato':1}}"
   ]
  },
  {
   "cell_type": "code",
   "execution_count": 15,
   "metadata": {
    "scrolled": true
   },
   "outputs": [
    {
     "name": "stdout",
     "output_type": "stream",
     "text": [
      "How many sandwiches would you like? 2\n",
      "Please select one of the following:\n",
      "* wheat\n",
      "* white\n",
      "* sourdough\n",
      "wheat\n",
      "Please select one of the following:\n",
      "* chicken\n",
      "* turkey\n",
      "* ham\n",
      "* tofu\n",
      "ham\n",
      "Would you like some cheese? yes\n",
      "Please select one of the following:\n",
      "* cheddar\n",
      "* Swiss\n",
      "* mozzarella\n",
      "Swiss\n",
      "Would you like any extras? yes\n",
      "How many extras would you like? 2\n",
      "Please select one of the following:\n",
      "* mayo\n",
      "* mustard\n",
      "* lettuce\n",
      "* tomato\n",
      "mayo\n",
      "Please select one of the following:\n",
      "* mayo\n",
      "* mustard\n",
      "* lettuce\n",
      "* tomato\n",
      "lettuce\n",
      "You have choosen the sandwich made of wheat bread, ham, Swiss, mayo and lettuce.\n",
      "\n",
      "Please select one of the following:\n",
      "* wheat\n",
      "* white\n",
      "* sourdough\n",
      "white\n",
      "Please select one of the following:\n",
      "* chicken\n",
      "* turkey\n",
      "* ham\n",
      "* tofu\n",
      "chicken\n",
      "Would you like some cheese? yes\n",
      "Please select one of the following:\n",
      "* cheddar\n",
      "* Swiss\n",
      "* mozzarella\n",
      "mozzarella\n",
      "Would you like any extras? yes\n",
      "How many extras would you like? 1\n",
      "Please select one of the following:\n",
      "* mayo\n",
      "* mustard\n",
      "* lettuce\n",
      "* tomato\n",
      "tomato\n",
      "You have choosen the sandwich made of white bread, chicken, mozzarella, mayo, lettuce and tomato.\n",
      "\n",
      "\n",
      "You have bought 2 sandwiches.\n",
      "The total cost is 24.5 zł.\n"
     ]
    }
   ],
   "source": [
    "number_of_sandwiches=int(input('How many sandwiches would you like? '))\n",
    "breads=[]\n",
    "proteins=[]\n",
    "cheese=[]\n",
    "extras=[]\n",
    "\n",
    "# making selections\n",
    "for x in range(0,number_of_sandwiches):\n",
    "    bread_type=pyip.inputMenu(['wheat', 'white', 'sourdough'] )\n",
    "    breads.append(bread_type)\n",
    "    \n",
    "    protein_type=pyip.inputMenu(['chicken', 'turkey','ham', 'tofu' ])\n",
    "    proteins.append(protein_type)\n",
    "    \n",
    "    want_cheese=pyip.inputYesNo(prompt='Would you like some cheese? ')\n",
    "    if want_cheese=='yes':\n",
    "        cheese_type=pyip.inputMenu(['cheddar', 'Swiss', 'mozzarella'])\n",
    "        cheese.append(cheese_type)\n",
    "        \n",
    "    want_extras=pyip.inputYesNo(prompt='Would you like any extras? ')\n",
    "    if want_extras=='yes':\n",
    "        no_of_extras=int(input('How many extras would you like? '))\n",
    "        for i in range (0, no_of_extras):\n",
    "            extra=pyip.inputMenu(['mayo','mustard', 'lettuce', 'tomato'], limit=no_of_extras)\n",
    "            extras.append(extra)\n",
    "        \n",
    "    print('You have choosen the sandwich made of %s bread, %s, %s,' %(bread_type, protein_type, cheese_type),\\\n",
    "          ', '.join(extras[0:-1]) + ' and '+  extras[-1] +'.\\n')\n",
    "    \n",
    "# the total cost of sandwich\n",
    "total=sum([prices['bread'][x] for x in breads]\\\n",
    "          + [prices['protein'][x] for x in proteins]\\\n",
    "          + [prices['cheese'][x] for x in cheese]\\\n",
    "          +[prices['extras'][x] for x in extras] ) \n",
    "print('\\nYou have bought '+ str(number_of_sandwiches) + ' sandwiches.\\n' \\\n",
    "      'The total cost is', total, 'zł.')"
   ]
  },
  {
   "cell_type": "code",
   "execution_count": null,
   "metadata": {},
   "outputs": [],
   "source": [
    "pyip.inputNum"
   ]
  },
  {
   "cell_type": "code",
   "execution_count": 18,
   "metadata": {},
   "outputs": [
    {
     "ename": "SyntaxError",
     "evalue": "invalid syntax (<ipython-input-18-46f66db1892b>, line 1)",
     "output_type": "error",
     "traceback": [
      "\u001b[0;36m  File \u001b[0;32m\"<ipython-input-18-46f66db1892b>\"\u001b[0;36m, line \u001b[0;32m1\u001b[0m\n\u001b[0;31m    question1=pyip.inputNum(prompt='Please enter the result of multiplication 5x10',min=50, max=50 limit=3, timeout=8 )\u001b[0m\n\u001b[0m                                                                                                       ^\u001b[0m\n\u001b[0;31mSyntaxError\u001b[0m\u001b[0;31m:\u001b[0m invalid syntax\n"
     ]
    }
   ],
   "source": [
    "question1=pyip.inputNum(prompt='Please enter the result of multiplication 5x10',min=50, max=50, limit=3, timeout=8 )"
   ]
  },
  {
   "cell_type": "code",
   "execution_count": 23,
   "metadata": {},
   "outputs": [
    {
     "name": "stdout",
     "output_type": "stream",
     "text": [
      "Please enter the result of multiplication 5x1050\n"
     ]
    },
    {
     "data": {
      "text/plain": [
       "50"
      ]
     },
     "execution_count": 23,
     "metadata": {},
     "output_type": "execute_result"
    }
   ],
   "source": [
    "zadanie1=pyip.inputNum(prompt='Please enter the result of multiplication 5x10',default=str(50), timeout=8 )"
   ]
  },
  {
   "cell_type": "code",
   "execution_count": null,
   "metadata": {},
   "outputs": [],
   "source": []
  }
 ],
 "metadata": {
  "kernelspec": {
   "display_name": "Python 3",
   "language": "python",
   "name": "python3"
  },
  "language_info": {
   "codemirror_mode": {
    "name": "ipython",
    "version": 3
   },
   "file_extension": ".py",
   "mimetype": "text/x-python",
   "name": "python",
   "nbconvert_exporter": "python",
   "pygments_lexer": "ipython3",
   "version": "3.7.4"
  }
 },
 "nbformat": 4,
 "nbformat_minor": 2
}
