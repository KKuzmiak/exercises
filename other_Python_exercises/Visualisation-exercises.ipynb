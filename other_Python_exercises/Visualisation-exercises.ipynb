{
 "cells": [
  {
   "cell_type": "markdown",
   "metadata": {},
   "source": [
    "##### Numpy  & pandas excercies"
   ]
  },
  {
   "cell_type": "code",
   "execution_count": 6,
   "metadata": {},
   "outputs": [],
   "source": [
    "import numpy as np\n",
    "import pandas as pd"
   ]
  },
  {
   "cell_type": "code",
   "execution_count": 2,
   "metadata": {
    "scrolled": true
   },
   "outputs": [
    {
     "data": {
      "text/plain": [
       "array([95, 11, 81, 70, 63, 87, 75,  9, 77, 40,  4, 63, 40, 60, 92, 64,  5,\n",
       "       12, 93, 40])"
      ]
     },
     "execution_count": 2,
     "metadata": {},
     "output_type": "execute_result"
    }
   ],
   "source": [
    "# 1. Set Numpy's random number generator seed to 101\n",
    "np.random.seed(101)\n",
    "np.random.randint(0,100,20)"
   ]
  },
  {
   "cell_type": "code",
   "execution_count": 15,
   "metadata": {
    "scrolled": true
   },
   "outputs": [
    {
     "data": {
      "text/plain": [
       "array([[ 30,  88,  82,  42,  88],\n",
       "       [ 95,  97,  12,  34,  94],\n",
       "       [ 81,  49,   5,  49,  50],\n",
       "       [ 46,  44,  84,  22,  28],\n",
       "       [ 64,  14,  22,  41,  55],\n",
       "       [ 32,  82,  44,  64,  54],\n",
       "       [ 48,  52,  92,  60,  14],\n",
       "       [ 61,  47,   4,  36,  91],\n",
       "       [ 69,  59,  44,  20,  18],\n",
       "       [ 28,  78,  35,  21,  10],\n",
       "       [ 31,  41,  60,  89,  93],\n",
       "       [ 91,  27,  73,  40,  46],\n",
       "       [ 24,  38,  41,  11,  12],\n",
       "       [ 85,  24,   7,  25,  19],\n",
       "       [ 38,  25,  81,  25,  26],\n",
       "       [  6,  68,  99,  79,  31],\n",
       "       [ 37,  53,  17,  72,  85],\n",
       "       [ 28,  40,  21,  46,  20],\n",
       "       [ 15,  23,  98,  68,  77],\n",
       "       [ 74,  86,  60,  39,  72],\n",
       "       [ 13,  78,   3,   7,  39],\n",
       "       [ 25,  28,  55,  50,  69],\n",
       "       [ 24,  75,  42,  82,  72],\n",
       "       [ 25,  64,  53,  82,  26],\n",
       "       [ 57,   8,  42,  17,  43],\n",
       "       [ 12,  26,  22,  75,   7],\n",
       "       [ 26,  21,  64,  61,  90],\n",
       "       [ 69,  89,  40,  76,  78],\n",
       "       [ 60,  38,  17,  83,  65],\n",
       "       [ 83,  52,  12,  65,  45],\n",
       "       [ 81,  84,  80,  85,  30],\n",
       "       [ 37,  84,  72,  35,  38],\n",
       "       [ 41,   5, 100,  89,  90],\n",
       "       [ 35,  72,  65,  45,  90],\n",
       "       [ 15,  71,  13,  55,  50],\n",
       "       [ 19,  89,  61,  97,  57],\n",
       "       [ 94,  69,  54,   7,  68],\n",
       "       [ 25, 100,   1,  68,  94],\n",
       "       [ 48,  16,  73,  69,  61],\n",
       "       [ 92,  81,  84,  12,  45],\n",
       "       [  7,  59,  51,  35,  40],\n",
       "       [ 72,  27,  92,  60,  90],\n",
       "       [  1,  87,  15,  92,  48],\n",
       "       [ 75,  24,  43,  49,  27],\n",
       "       [  5,  67,  44,  85,  31],\n",
       "       [ 80,  10,  79,  50,  29],\n",
       "       [ 90,  35,  94,  42,  22],\n",
       "       [ 89,   3,  87,  85,  26],\n",
       "       [  3,  51,  50,  64,   3],\n",
       "       [ 96,  29,  22,  63,  51],\n",
       "       [100,  53,  57,   6,  43],\n",
       "       [ 83,  76,  23,  35,  49],\n",
       "       [ 61,  73,  10,  96,  97],\n",
       "       [ 47,  60,  52,  48,   5],\n",
       "       [ 60,  37,  35,  99,  82],\n",
       "       [  9,  96,  61,  47,  20],\n",
       "       [ 14,  36,  15,   7,  25],\n",
       "       [ 32,  10,  32,  13,  49],\n",
       "       [ 76,  26,  86,  63,  22],\n",
       "       [ 78,  69,  20,  67,  71],\n",
       "       [ 74,  50,  28,  36,  34],\n",
       "       [ 43,  34,  94,  40,  65],\n",
       "       [  2,  59,  18,  60,  72],\n",
       "       [  2,  24,  81,  27,  38],\n",
       "       [ 35,   4,  78,  21,   1],\n",
       "       [ 63,  30,  48,  49,  90],\n",
       "       [ 50,  18,  87,  48,  50],\n",
       "       [ 64,  32,  36,  57,  84],\n",
       "       [ 72,  73,  12,  27,   3],\n",
       "       [ 17,   1,  51,   9,  80],\n",
       "       [  2,   2,  43,  29,  91],\n",
       "       [ 36,  86,  24,  65,  21],\n",
       "       [ 22,  44,  38,  90,  33],\n",
       "       [ 67,   3,   3,   1,  91],\n",
       "       [ 91,  57,  71,  54,  39],\n",
       "       [ 90,  31,  21,  21,  47],\n",
       "       [ 21,  10,   8,  67,  18],\n",
       "       [ 66,  70,   8,  46,  19],\n",
       "       [ 74,  30,  70,  92,  53],\n",
       "       [ 92,  57,  50,  50,  43],\n",
       "       [ 15,  22,  16,  34,  60],\n",
       "       [ 11,  33,  90,  53,  29],\n",
       "       [ 47,  10,  99,  72,  81],\n",
       "       [ 90,  83,  82,   9,   8],\n",
       "       [ 54,  65,  90,  24,  89],\n",
       "       [ 19,  84,  68,   8,  58],\n",
       "       [ 82,  95,  90,  96,  73],\n",
       "       [ 81,  56,  56,  79,  88],\n",
       "       [ 75,  71,  84,  90,  79],\n",
       "       [ 66,  15,  37,  17,  98],\n",
       "       [ 47,   3,  18,  24,  36],\n",
       "       [ 82,  26,  19,  70,  22],\n",
       "       [ 28,  64,  57,  21,  95],\n",
       "       [ 55,  85,  68,  42,  66],\n",
       "       [ 40,  80,  56,  34,   7],\n",
       "       [  5,  11,   8,  41,  28],\n",
       "       [  7,  89,  78,  16,  99],\n",
       "       [ 80,  68,  83,  35,  33],\n",
       "       [ 22,  82,  16,  53,  75],\n",
       "       [ 24,  53,  64,  43,  44]])"
      ]
     },
     "execution_count": 15,
     "metadata": {},
     "output_type": "execute_result"
    }
   ],
   "source": [
    "# 2. Create a NumPy Matrix of 100 rows by 5 columns consisting of random integers from 1-100. \n",
    "#(Keep in mind that the upper limit may be exclusive.)\n",
    "\n",
    "mat=np.random.randint(1,101,500).reshape(100,5)\n",
    "mat\n"
   ]
  },
  {
   "cell_type": "code",
   "execution_count": 13,
   "metadata": {
    "scrolled": true
   },
   "outputs": [
    {
     "data": {
      "text/html": [
       "<div>\n",
       "<style scoped>\n",
       "    .dataframe tbody tr th:only-of-type {\n",
       "        vertical-align: middle;\n",
       "    }\n",
       "\n",
       "    .dataframe tbody tr th {\n",
       "        vertical-align: top;\n",
       "    }\n",
       "\n",
       "    .dataframe thead th {\n",
       "        text-align: right;\n",
       "    }\n",
       "</style>\n",
       "<table border=\"1\" class=\"dataframe\">\n",
       "  <thead>\n",
       "    <tr style=\"text-align: right;\">\n",
       "      <th></th>\n",
       "      <th>0</th>\n",
       "      <th>1</th>\n",
       "      <th>2</th>\n",
       "      <th>3</th>\n",
       "      <th>4</th>\n",
       "    </tr>\n",
       "  </thead>\n",
       "  <tbody>\n",
       "    <tr>\n",
       "      <th>0</th>\n",
       "      <td>100</td>\n",
       "      <td>98</td>\n",
       "      <td>65</td>\n",
       "      <td>96</td>\n",
       "      <td>4</td>\n",
       "    </tr>\n",
       "    <tr>\n",
       "      <th>1</th>\n",
       "      <td>89</td>\n",
       "      <td>60</td>\n",
       "      <td>39</td>\n",
       "      <td>30</td>\n",
       "      <td>32</td>\n",
       "    </tr>\n",
       "    <tr>\n",
       "      <th>2</th>\n",
       "      <td>89</td>\n",
       "      <td>58</td>\n",
       "      <td>10</td>\n",
       "      <td>63</td>\n",
       "      <td>32</td>\n",
       "    </tr>\n",
       "    <tr>\n",
       "      <th>3</th>\n",
       "      <td>14</td>\n",
       "      <td>36</td>\n",
       "      <td>48</td>\n",
       "      <td>3</td>\n",
       "      <td>18</td>\n",
       "    </tr>\n",
       "    <tr>\n",
       "      <th>4</th>\n",
       "      <td>51</td>\n",
       "      <td>23</td>\n",
       "      <td>31</td>\n",
       "      <td>37</td>\n",
       "      <td>23</td>\n",
       "    </tr>\n",
       "  </tbody>\n",
       "</table>\n",
       "</div>"
      ],
      "text/plain": [
       "     0   1   2   3   4\n",
       "0  100  98  65  96   4\n",
       "1   89  60  39  30  32\n",
       "2   89  58  10  63  32\n",
       "3   14  36  48   3  18\n",
       "4   51  23  31  37  23"
      ]
     },
     "execution_count": 13,
     "metadata": {},
     "output_type": "execute_result"
    }
   ],
   "source": [
    "# 3. Now use pd.DataFrame() to read in this numpy array as a dataframe.\n",
    "# Simple pass in the numpy array into that function to get back a dataframe. Pandas will auto label the columns to 0-4\n",
    "mat_df=pd.DataFrame(data=mat)\n",
    "mat_df.head()"
   ]
  },
  {
   "cell_type": "code",
   "execution_count": 8,
   "metadata": {},
   "outputs": [],
   "source": [
    "# 4. Using your previously created DataFrame, use [df.columns = [...]]\n",
    "#  (https://stackoverflow.com/questions/11346283/renaming-columns-in-pandas)\n",
    "# to rename the pandas columns to be ['f1','f2','f3','f4','label'].\n",
    "mat_df.columns=['f1','f2','f3','f4','label']"
   ]
  },
  {
   "cell_type": "code",
   "execution_count": 12,
   "metadata": {},
   "outputs": [
    {
     "data": {
      "text/html": [
       "<div>\n",
       "<style scoped>\n",
       "    .dataframe tbody tr th:only-of-type {\n",
       "        vertical-align: middle;\n",
       "    }\n",
       "\n",
       "    .dataframe tbody tr th {\n",
       "        vertical-align: top;\n",
       "    }\n",
       "\n",
       "    .dataframe thead th {\n",
       "        text-align: right;\n",
       "    }\n",
       "</style>\n",
       "<table border=\"1\" class=\"dataframe\">\n",
       "  <thead>\n",
       "    <tr style=\"text-align: right;\">\n",
       "      <th></th>\n",
       "      <th>f1</th>\n",
       "      <th>f2</th>\n",
       "      <th>f3</th>\n",
       "      <th>f4</th>\n",
       "      <th>label</th>\n",
       "    </tr>\n",
       "  </thead>\n",
       "  <tbody>\n",
       "    <tr>\n",
       "      <th>0</th>\n",
       "      <td>100</td>\n",
       "      <td>98</td>\n",
       "      <td>65</td>\n",
       "      <td>96</td>\n",
       "      <td>4</td>\n",
       "    </tr>\n",
       "    <tr>\n",
       "      <th>1</th>\n",
       "      <td>89</td>\n",
       "      <td>60</td>\n",
       "      <td>39</td>\n",
       "      <td>30</td>\n",
       "      <td>32</td>\n",
       "    </tr>\n",
       "    <tr>\n",
       "      <th>2</th>\n",
       "      <td>89</td>\n",
       "      <td>58</td>\n",
       "      <td>10</td>\n",
       "      <td>63</td>\n",
       "      <td>32</td>\n",
       "    </tr>\n",
       "    <tr>\n",
       "      <th>3</th>\n",
       "      <td>14</td>\n",
       "      <td>36</td>\n",
       "      <td>48</td>\n",
       "      <td>3</td>\n",
       "      <td>18</td>\n",
       "    </tr>\n",
       "    <tr>\n",
       "      <th>4</th>\n",
       "      <td>51</td>\n",
       "      <td>23</td>\n",
       "      <td>31</td>\n",
       "      <td>37</td>\n",
       "      <td>23</td>\n",
       "    </tr>\n",
       "  </tbody>\n",
       "</table>\n",
       "</div>"
      ],
      "text/plain": [
       "    f1  f2  f3  f4  label\n",
       "0  100  98  65  96      4\n",
       "1   89  60  39  30     32\n",
       "2   89  58  10  63     32\n",
       "3   14  36  48   3     18\n",
       "4   51  23  31  37     23"
      ]
     },
     "execution_count": 12,
     "metadata": {},
     "output_type": "execute_result"
    }
   ],
   "source": [
    "mat_df.head()"
   ]
  },
  {
   "cell_type": "code",
   "execution_count": 11,
   "metadata": {
    "collapsed": true
   },
   "outputs": [
    {
     "data": {
      "text/html": [
       "<div>\n",
       "<style scoped>\n",
       "    .dataframe tbody tr th:only-of-type {\n",
       "        vertical-align: middle;\n",
       "    }\n",
       "\n",
       "    .dataframe tbody tr th {\n",
       "        vertical-align: top;\n",
       "    }\n",
       "\n",
       "    .dataframe thead th {\n",
       "        text-align: right;\n",
       "    }\n",
       "</style>\n",
       "<table border=\"1\" class=\"dataframe\">\n",
       "  <thead>\n",
       "    <tr style=\"text-align: right;\">\n",
       "      <th></th>\n",
       "      <th>A</th>\n",
       "      <th>B</th>\n",
       "      <th>C</th>\n",
       "      <th>D</th>\n",
       "    </tr>\n",
       "  </thead>\n",
       "  <tbody>\n",
       "    <tr>\n",
       "      <th>0</th>\n",
       "      <td>42</td>\n",
       "      <td>6</td>\n",
       "      <td>12</td>\n",
       "      <td>28</td>\n",
       "    </tr>\n",
       "    <tr>\n",
       "      <th>1</th>\n",
       "      <td>23</td>\n",
       "      <td>76</td>\n",
       "      <td>8</td>\n",
       "      <td>10</td>\n",
       "    </tr>\n",
       "    <tr>\n",
       "      <th>2</th>\n",
       "      <td>41</td>\n",
       "      <td>97</td>\n",
       "      <td>55</td>\n",
       "      <td>66</td>\n",
       "    </tr>\n",
       "    <tr>\n",
       "      <th>3</th>\n",
       "      <td>95</td>\n",
       "      <td>96</td>\n",
       "      <td>65</td>\n",
       "      <td>75</td>\n",
       "    </tr>\n",
       "    <tr>\n",
       "      <th>4</th>\n",
       "      <td>83</td>\n",
       "      <td>10</td>\n",
       "      <td>71</td>\n",
       "      <td>27</td>\n",
       "    </tr>\n",
       "  </tbody>\n",
       "</table>\n",
       "</div>"
      ],
      "text/plain": [
       "    A   B   C   D\n",
       "0  42   6  12  28\n",
       "1  23  76   8  10\n",
       "2  41  97  55  66\n",
       "3  95  96  65  75\n",
       "4  83  10  71  27"
      ]
     },
     "execution_count": 11,
     "metadata": {},
     "output_type": "execute_result"
    }
   ],
   "source": [
    "#5.   Create a dataframe with the columns ['A','B','C','D'] with each column\n",
    "#         having 50 rows of random numbers for data. The random numbers should be\n",
    "#         between 0 and 100. (Hint: Use numpy to create the numbers, then pass\n",
    "#         it in to pd.DataFrame(), check out the data= and index= parameters\n",
    "#         for that call.)\n",
    "\n",
    "numbers=np.random.randint(0,101, (50,4))\n",
    "numbers_pd=pd.DataFrame(data=numbers, columns=['A','B','C','D'], index=None)\n",
    "numbers_pd.head()"
   ]
  },
  {
   "cell_type": "markdown",
   "metadata": {},
   "source": [
    "## Plotly"
   ]
  },
  {
   "cell_type": "markdown",
   "metadata": {},
   "source": [
    "## 1. Scatter plot "
   ]
  },
  {
   "cell_type": "code",
   "execution_count": 16,
   "metadata": {},
   "outputs": [
    {
     "data": {
      "text/plain": [
       "'file:///home/kinga/python/Wizaulizacje-Udemy/Kinga_plot.html'"
      ]
     },
     "execution_count": 16,
     "metadata": {},
     "output_type": "execute_result"
    }
   ],
   "source": [
    "import plotly.offline as pyo\n",
    "import plotly.graph_objs as go\n",
    "\n",
    "np.random.seed(42)\n",
    "random_x=np.random.randint(1,101,100)\n",
    "random_y=np.random.randint(1,101,100)\n",
    "\n",
    "data=[go.Scatter(x=random_x, y=random_y, \n",
    "                 mode='markers',\n",
    "                marker={'size':20, 'color':'green', 'symbol':'pentagon'}) ]  # data must be a list\n",
    " \n",
    "# layout\n",
    "layout=go.Layout(title='First Scatter',\n",
    "                xaxis={'title': 'X axis'}, # always dictionary\n",
    "                 yaxis={'title':'Y axis'}) # always dictionary\n",
    "\n",
    "fig=go.Figure(data=data, layout=layout)\n",
    "pyo.plot(fig, filename='Kinga_plot.html' )"
   ]
  },
  {
   "cell_type": "code",
   "execution_count": 17,
   "metadata": {},
   "outputs": [
    {
     "name": "stderr",
     "output_type": "stream",
     "text": [
      "/home/kinga/anaconda3/lib/python3.6/site-packages/plotly/offline/offline.py:621: UserWarning:\n",
      "\n",
      "Your filename `Kinga_plot1.xml` didn't end with .html. Adding .html to the end of your file.\n",
      "\n"
     ]
    },
    {
     "data": {
      "text/plain": [
       "'file:///home/kinga/python/Wizaulizacje-Udemy/Kinga_plot1.xml.html'"
      ]
     },
     "execution_count": 17,
     "metadata": {},
     "output_type": "execute_result"
    }
   ],
   "source": [
    "import plotly.offline as pyo\n",
    "import plotly.graph_objs as go\n",
    "\n",
    "np.random.seed(42)\n",
    "random_x=np.random.randint(1,101,100)\n",
    "random_y=np.random.randint(1,101,100)\n",
    "\n",
    "trace1=go.Scatter(x=random_x, y=random_y, \n",
    "                 mode='markers',\n",
    "                   name='markers',\n",
    "                marker={'size':20, 'color':'green', 'symbol':'pentagon'})   \n",
    "trace2=go.Scatter(x=random_x, y=random_y, \n",
    "                 mode='lines', \n",
    "                name='line' )\n",
    " \n",
    "# layout\n",
    "layout=go.Layout(title='First Scatter',\n",
    "                xaxis={'title': 'X axis'}, \n",
    "                 yaxis={'title':'Y axis'}) \n",
    "\n",
    "data=[trace1,trace2]\n",
    "fig=go.Figure(data=data, layout=layout)\n",
    "pyo.plot(fig, filename='Kinga_plot1.xml' )"
   ]
  },
  {
   "cell_type": "markdown",
   "metadata": {},
   "source": [
    "#### apartments in Międzyzdroje - dependence of price on the surface"
   ]
  },
  {
   "cell_type": "code",
   "execution_count": 18,
   "metadata": {},
   "outputs": [],
   "source": [
    "import pandas as pd\n",
    "df=pd.read_excel(r'/home/kinga/python/Wizaulizacje-Udemy/Miedzyzdroje.xlsx')"
   ]
  },
  {
   "cell_type": "code",
   "execution_count": 19,
   "metadata": {},
   "outputs": [
    {
     "data": {
      "text/plain": [
       "Index(['Adres', 'Rynek', 'Powierzchnia (m2)', 'Cena (zł)', 'Cena (zł/m2)',\n",
       "       'Forma własności', 'Liczba_pokoi', 'Pietro', 'Rodzaj zabudowy',\n",
       "       'Stan wykończenia', 'Opis'],\n",
       "      dtype='object')"
      ]
     },
     "execution_count": 19,
     "metadata": {},
     "output_type": "execute_result"
    }
   ],
   "source": [
    "df.columns"
   ]
  },
  {
   "cell_type": "code",
   "execution_count": 20,
   "metadata": {},
   "outputs": [],
   "source": [
    "import plotly.offline as pyo\n",
    "import plotly.graph_objs as go\n",
    "from scipy import stats"
   ]
  },
  {
   "cell_type": "code",
   "execution_count": 22,
   "metadata": {},
   "outputs": [
    {
     "name": "stderr",
     "output_type": "stream",
     "text": [
      "/home/kinga/anaconda3/lib/python3.6/site-packages/plotly/graph_objs/_deprecations.py:426: DeprecationWarning:\n",
      "\n",
      "plotly.graph_objs.Marker is deprecated.\n",
      "Please replace it with one of the following more specific types\n",
      "  - plotly.graph_objs.scatter.Marker\n",
      "  - plotly.graph_objs.histogram.selected.Marker\n",
      "  - etc.\n",
      "\n",
      "\n",
      "/home/kinga/anaconda3/lib/python3.6/site-packages/plotly/offline/offline.py:621: UserWarning:\n",
      "\n",
      "Your filename `Miedzyzdroje_zaleznosc_ceny_od_pow.xml` didn't end with .html. Adding .html to the end of your file.\n",
      "\n"
     ]
    },
    {
     "data": {
      "text/plain": [
       "'file:///home/kinga/python/Wizaulizacje-Udemy/Miedzyzdroje_zaleznosc_ceny_od_pow.xml.html'"
      ]
     },
     "execution_count": 22,
     "metadata": {},
     "output_type": "execute_result"
    }
   ],
   "source": [
    "# offer prices\n",
    "trace1=go.Scatter(x=df['Powierzchnia (m2)'], y=df['Cena (zł/m2)'], \n",
    "                 mode='markers',\n",
    "                   name='oferty',\n",
    "                marker={'size':10, 'color':'green'})\n",
    "\n",
    "# Trend line\n",
    "slope, intercept, r_value, p_value, std_err = stats.linregress(df['Powierzchnia (m2)'],df['Cena (zł/m2)'])\n",
    "line = slope*df['Powierzchnia (m2)']+intercept\n",
    "\n",
    "trace2 = go.Scatter(\n",
    "                  x=df['Powierzchnia (m2)'],\n",
    "                  y=line,\n",
    "                  mode='lines',\n",
    "                  marker=go.Marker(color='rgb(31, 119, 180)'),\n",
    "                  name='linia trendu')\n",
    "\n",
    "# layout\n",
    "layout=go.Layout(title='Zależność ceny od powierzchni',\n",
    "                xaxis={'title': 'Powierzchnia (m2)'},\n",
    "                 yaxis={'title':'Cena zł/m2'}) \n",
    "\n",
    "data=[trace1, trace2]\n",
    "fig=go.Figure(data=data, layout=layout)\n",
    "pyo.plot(fig, filename='Miedzyzdroje_zaleznosc_ceny_od_pow.xml')\n"
   ]
  },
  {
   "cell_type": "markdown",
   "metadata": {},
   "source": [
    "#### apartments in Poznań - dependence of the price on the surface "
   ]
  },
  {
   "cell_type": "code",
   "execution_count": 23,
   "metadata": {},
   "outputs": [],
   "source": [
    "import pandas as pd\n",
    "transactions=pd.read_excel(r'/home/kinga/python/baza_bez_outliers.xlsx')"
   ]
  },
  {
   "cell_type": "code",
   "execution_count": 24,
   "metadata": {},
   "outputs": [
    {
     "data": {
      "text/plain": [
       "Index(['Unnamed: 0', 'index', 'Adres', 'Cena', 'Cena_lokalu', 'Cena_zł/m2',\n",
       "       'Data_transakcji', 'Forma obrotu', 'Funkcja dominująca',\n",
       "       'Funkcja podstawowa', 'Identyfikator', 'Ilość_izb', 'Kondygnacja',\n",
       "       'Liczba i rodzaj pomieszczeń przynależnych', 'Nr zmiany', 'Numer KW',\n",
       "       'Numer transakcji/wyceny', 'Obręb', 'Opis', 'Opis nieruchomości',\n",
       "       'Podstawa prawna', 'Pole powierzchni pomieszczeń przynależnych',\n",
       "       'powierzchnia_lokalu', 'Rodzaj nieruchomości', 'Rodzaj obciążenia',\n",
       "       'Rodzaj prawa objętego transakcją', 'Rodzaj zapisu', 'repertorium',\n",
       "       'Udział w prawie będący przedmiotem transakcji',\n",
       "       'Uzbrojenie istniejące', 'Uzbrojenie możliwe do podłączenia',\n",
       "       'Współrzędne geometryczne środka budynku', 'miasto', 'adres_miasto',\n",
       "       'ulica', 'numer_mieszkania', 'wspolrzedne', 'dlugosc', 'szerokosc'],\n",
       "      dtype='object')"
      ]
     },
     "execution_count": 24,
     "metadata": {},
     "output_type": "execute_result"
    }
   ],
   "source": [
    "transactions.columns"
   ]
  },
  {
   "cell_type": "code",
   "execution_count": 26,
   "metadata": {},
   "outputs": [],
   "source": [
    "price=list(transactions['Cena_zł/m2'])"
   ]
  },
  {
   "cell_type": "code",
   "execution_count": 27,
   "metadata": {},
   "outputs": [],
   "source": [
    "surface=list(transactions['powierzchnia_lokalu'])"
   ]
  },
  {
   "cell_type": "code",
   "execution_count": 39,
   "metadata": {},
   "outputs": [
    {
     "data": {
      "text/plain": [
       "'file:///home/kinga/python/Wizaulizacje-Udemy/Transakcje_wykres.html'"
      ]
     },
     "execution_count": 39,
     "metadata": {},
     "output_type": "execute_result"
    }
   ],
   "source": [
    "data=[go.Scatter(x=surface, y=price, \n",
    "                 mode='markers',\n",
    "                marker={'size':10, 'color':'green', 'symbol':'pentagon'}) ]  # zawsze lista\n",
    " \n",
    "# layout\n",
    "layout=go.Layout(title='Zaleznosc ceny od powierzchni',\n",
    "                xaxis={'title': 'powierzchnia (m2)'}, # słownik \n",
    "                 yaxis={'title':'cena (zl/m2)'}) # słownik)\n",
    "\n",
    "\n",
    "fig=go.Figure(data=data, layout=layout)\n",
    "pyo.plot(fig, filename='Transakcje_wykres.html' )"
   ]
  },
  {
   "cell_type": "markdown",
   "metadata": {},
   "source": [
    "#### prices in the timeline according to districts - line graph"
   ]
  },
  {
   "cell_type": "code",
   "execution_count": 31,
   "metadata": {},
   "outputs": [],
   "source": [
    "transactions=pd.read_excel(r'/home/kinga/python/baza_bez_outliers.xlsx')"
   ]
  },
  {
   "cell_type": "code",
   "execution_count": 32,
   "metadata": {},
   "outputs": [],
   "source": [
    "transactions.sort_values(by=['Data_transakcji'],ascending=False, inplace=True )"
   ]
  },
  {
   "cell_type": "code",
   "execution_count": 33,
   "metadata": {},
   "outputs": [],
   "source": [
    "transactions['date']=pd.to_datetime(transactions['Data_transakcji'], format=\"%d.%m.%Y\")"
   ]
  },
  {
   "cell_type": "code",
   "execution_count": 34,
   "metadata": {},
   "outputs": [],
   "source": [
    "transactions.sort_values(by=['Obręb','date'], inplace=True)"
   ]
  },
  {
   "cell_type": "code",
   "execution_count": 36,
   "metadata": {},
   "outputs": [
    {
     "data": {
      "text/plain": [
       "'file:///home/kinga/python/Wizaulizacje-Udemy/Transactions_by_time.html'"
      ]
     },
     "execution_count": 36,
     "metadata": {},
     "output_type": "execute_result"
    }
   ],
   "source": [
    "districts=transactions['Obręb'].unique()\n",
    "data=[]\n",
    "\n",
    "for district in districts:\n",
    "    trace=go.Scatter(y=transactions['Cena_zł/m2'],\n",
    "                    x=transactions[transactions['Obręb']==district]['date'],\n",
    "                    mode='lines',\n",
    "                    name=district)\n",
    "    data.append(trace)\n",
    "                                   \n",
    "layout=go.Layout(title='Prices by time',\n",
    "                xaxis={'title': 'date'},\n",
    "                yaxis= {'title' :'price'})\n",
    "\n",
    "fig=go.Figure(data=data, layout=layout)\n",
    "pyo.plot(fig, filename='Transactions_by_time.html')\n"
   ]
  },
  {
   "cell_type": "markdown",
   "metadata": {},
   "source": [
    "#### excercise\n",
    "- Objective: Using the file 2010YumaAZ.csv, develop a Line Chart that plots seven days worth of temperature data on one graph.\n",
    "- You can use a for loop to assign each day to its own trace.\n",
    "\n"
   ]
  },
  {
   "cell_type": "code",
   "execution_count": 41,
   "metadata": {},
   "outputs": [],
   "source": [
    "import pandas as pd\n",
    "temperature=pd.read_csv('/home/kinga/python/Wizaulizacje-Udemy/Plotly-Dashboards-with-Dash-master/Data/2010YumaAZ.csv')"
   ]
  },
  {
   "cell_type": "code",
   "execution_count": 43,
   "metadata": {},
   "outputs": [
    {
     "data": {
      "text/html": [
       "<div>\n",
       "<style scoped>\n",
       "    .dataframe tbody tr th:only-of-type {\n",
       "        vertical-align: middle;\n",
       "    }\n",
       "\n",
       "    .dataframe tbody tr th {\n",
       "        vertical-align: top;\n",
       "    }\n",
       "\n",
       "    .dataframe thead th {\n",
       "        text-align: right;\n",
       "    }\n",
       "</style>\n",
       "<table border=\"1\" class=\"dataframe\">\n",
       "  <thead>\n",
       "    <tr style=\"text-align: right;\">\n",
       "      <th></th>\n",
       "      <th>LST_DATE</th>\n",
       "      <th>DAY</th>\n",
       "      <th>LST_TIME</th>\n",
       "      <th>T_HR_AVG</th>\n",
       "    </tr>\n",
       "  </thead>\n",
       "  <tbody>\n",
       "    <tr>\n",
       "      <th>0</th>\n",
       "      <td>20100601</td>\n",
       "      <td>TUESDAY</td>\n",
       "      <td>0:00</td>\n",
       "      <td>25.2</td>\n",
       "    </tr>\n",
       "    <tr>\n",
       "      <th>1</th>\n",
       "      <td>20100601</td>\n",
       "      <td>TUESDAY</td>\n",
       "      <td>1:00</td>\n",
       "      <td>24.1</td>\n",
       "    </tr>\n",
       "    <tr>\n",
       "      <th>2</th>\n",
       "      <td>20100601</td>\n",
       "      <td>TUESDAY</td>\n",
       "      <td>2:00</td>\n",
       "      <td>24.4</td>\n",
       "    </tr>\n",
       "    <tr>\n",
       "      <th>3</th>\n",
       "      <td>20100601</td>\n",
       "      <td>TUESDAY</td>\n",
       "      <td>3:00</td>\n",
       "      <td>24.9</td>\n",
       "    </tr>\n",
       "    <tr>\n",
       "      <th>4</th>\n",
       "      <td>20100601</td>\n",
       "      <td>TUESDAY</td>\n",
       "      <td>4:00</td>\n",
       "      <td>22.8</td>\n",
       "    </tr>\n",
       "  </tbody>\n",
       "</table>\n",
       "</div>"
      ],
      "text/plain": [
       "   LST_DATE      DAY LST_TIME  T_HR_AVG\n",
       "0  20100601  TUESDAY     0:00      25.2\n",
       "1  20100601  TUESDAY     1:00      24.1\n",
       "2  20100601  TUESDAY     2:00      24.4\n",
       "3  20100601  TUESDAY     3:00      24.9\n",
       "4  20100601  TUESDAY     4:00      22.8"
      ]
     },
     "execution_count": 43,
     "metadata": {},
     "output_type": "execute_result"
    }
   ],
   "source": [
    "temperature.head()"
   ]
  },
  {
   "cell_type": "code",
   "execution_count": 47,
   "metadata": {},
   "outputs": [],
   "source": [
    "TUE_temp=temperature[temperature['DAY']=='TUESDAY']['T_HR_AVG']"
   ]
  },
  {
   "cell_type": "code",
   "execution_count": 48,
   "metadata": {},
   "outputs": [],
   "source": [
    "TUE_time=temperature[temperature['DAY']=='TUESDAY']['LST_TIME']"
   ]
  },
  {
   "cell_type": "code",
   "execution_count": 49,
   "metadata": {},
   "outputs": [],
   "source": [
    "WED_temp=temperature[temperature['DAY']=='WEDNESDAY']['T_HR_AVG']"
   ]
  },
  {
   "cell_type": "code",
   "execution_count": 50,
   "metadata": {},
   "outputs": [],
   "source": [
    "WED_time=temperature[temperature['DAY']=='WEDNESDAY']['LST_TIME']"
   ]
  },
  {
   "cell_type": "code",
   "execution_count": 52,
   "metadata": {},
   "outputs": [
    {
     "data": {
      "text/plain": [
       "'file:///home/kinga/python/Wizaulizacje-Udemy/Temperature1.html'"
      ]
     },
     "execution_count": 52,
     "metadata": {},
     "output_type": "execute_result"
    }
   ],
   "source": [
    "# I create a line for particular days of the week but this is kind of hardkoding\n",
    "trace1=(go.Scatter(x=TUE_time, y=TUE_temp, \n",
    "                 name='Tuesday',\n",
    "                 mode='lines') ) \n",
    "trace2=(go.Scatter(x=WED_time,\n",
    "                  y=WED_temp,\n",
    "                name='Wednesday',\n",
    "                   mode='lines'))\n",
    "trace3=(go.Scatter(x=temperature[temperature['DAY']=='THURSDAY']['LST_TIME'],\n",
    "                  y=temperature[temperature['DAY']=='THURSDAY']['T_HR_AVG'],\n",
    "                  name='Thursday',\n",
    "                  mode='lines')) \n",
    "    \n",
    "\n",
    "layout=go.Layout(title='Temperature by hour',\n",
    "                xaxis={'title': 'time'}, # słownik \n",
    "                 yaxis={'title':'temperature'},# słownik)\n",
    "                hovermode ='closest') \n",
    "\n",
    "data=[trace1, trace2, trace3]\n",
    "fig=go.Figure(data=data, layout=layout)\n",
    "pyo.plot(fig, filename='Temperature1.html' )"
   ]
  },
  {
   "cell_type": "code",
   "execution_count": 53,
   "metadata": {},
   "outputs": [
    {
     "data": {
      "text/plain": [
       "'file:///home/kinga/python/Wizaulizacje-Udemy/Temperature.html'"
      ]
     },
     "execution_count": 53,
     "metadata": {},
     "output_type": "execute_result"
    }
   ],
   "source": [
    "# the below method is more sophisticated and quicker\n",
    "#days=['TUESDAY', 'WEDNESDAY', 'THURSDAY', 'FRIDAY', 'SATURDAY', 'SUNDAY', 'MONDAY'] or\n",
    "days=temperature['DAY'].unique() # chosing unique values from column 'DAY'\n",
    "data=[]\n",
    "for day in days:\n",
    "    trace=go.Scatter(x=temperature['LST_TIME'], y=temperature[temperature['DAY']==day]['T_HR_AVG'], \n",
    "                     name=day, mode='lines')\n",
    "    data.append(trace)\n",
    "\n",
    "    \n",
    "layout=go.Layout(title='Temperature by hour',\n",
    "                xaxis={'title': 'time'}, # słownik \n",
    "                 yaxis={'title':'temperature'},# słownik)\n",
    "                hovermode ='closest') \n",
    "\n",
    "\n",
    "fig=go.Figure(data=data, layout=layout)\n",
    "pyo.plot(fig, filename='Temperature.html' )"
   ]
  },
  {
   "cell_type": "markdown",
   "metadata": {},
   "source": [
    "## 2. Bar charts"
   ]
  },
  {
   "cell_type": "code",
   "execution_count": 54,
   "metadata": {},
   "outputs": [],
   "source": [
    "import pandas as pd\n",
    "import plotly.offline as pyo\n",
    "import plotly.graph_objs as go\n"
   ]
  },
  {
   "cell_type": "markdown",
   "metadata": {},
   "source": [
    "#### bar chart that shows mean prices in Poznań districts"
   ]
  },
  {
   "cell_type": "code",
   "execution_count": 65,
   "metadata": {},
   "outputs": [],
   "source": [
    "transactions=pd.read_excel(r'/home/kinga/python/baza_bez_outliers.xlsx')"
   ]
  },
  {
   "cell_type": "code",
   "execution_count": 66,
   "metadata": {},
   "outputs": [],
   "source": [
    "mean=transactions.groupby('Obręb')['Cena_zł/m2'].mean() # mean price in each district"
   ]
  },
  {
   "cell_type": "code",
   "execution_count": 67,
   "metadata": {},
   "outputs": [
    {
     "data": {
      "text/plain": [
       "Obręb\n",
       "CHARTOWO      4910.911250\n",
       "DĘBIEC        4552.616739\n",
       "GOLĘCIN       5096.762571\n",
       "GÓRCZYN       5105.438333\n",
       "GŁOWIENIEC    2907.138750\n",
       "Name: Cena_zł/m2, dtype: float64"
      ]
     },
     "execution_count": 67,
     "metadata": {},
     "output_type": "execute_result"
    }
   ],
   "source": [
    "mean.head()"
   ]
  },
  {
   "cell_type": "code",
   "execution_count": 68,
   "metadata": {},
   "outputs": [],
   "source": [
    "mean=mean.to_frame()"
   ]
  },
  {
   "cell_type": "code",
   "execution_count": 69,
   "metadata": {},
   "outputs": [],
   "source": [
    "mean.reset_index(inplace=True)"
   ]
  },
  {
   "cell_type": "code",
   "execution_count": 70,
   "metadata": {},
   "outputs": [
    {
     "data": {
      "text/plain": [
       "Index(['Obręb', 'Cena_zł/m2'], dtype='object')"
      ]
     },
     "execution_count": 70,
     "metadata": {},
     "output_type": "execute_result"
    }
   ],
   "source": [
    "mean.columns"
   ]
  },
  {
   "cell_type": "code",
   "execution_count": 61,
   "metadata": {},
   "outputs": [
    {
     "data": {
      "text/plain": [
       "'file:///home/kinga/python/Wizaulizacje-Udemy/temp-plot.html'"
      ]
     },
     "execution_count": 61,
     "metadata": {},
     "output_type": "execute_result"
    }
   ],
   "source": [
    "data=[go.Bar(x=mean['Obręb'],\n",
    "            y=mean['Cena_zł/m2'])]\n",
    "\n",
    "layout=go.Layout(title='mean prices')\n",
    "fig=go.Figure(data=data, layout=layout)\n",
    "pyo.plot(fig)"
   ]
  },
  {
   "cell_type": "code",
   "execution_count": null,
   "metadata": {},
   "outputs": [],
   "source": []
  },
  {
   "cell_type": "markdown",
   "metadata": {},
   "source": [
    "#### apartments in Poznań - number of transactions in each district depending on surface of the apartments "
   ]
  },
  {
   "cell_type": "code",
   "execution_count": 71,
   "metadata": {},
   "outputs": [],
   "source": [
    "transactions=pd.read_excel(r'/home/kinga/python/baza_bez_outliers.xlsx')"
   ]
  },
  {
   "cell_type": "code",
   "execution_count": 72,
   "metadata": {},
   "outputs": [],
   "source": [
    "# I will add columns 'A', 'B', 'C' to 'transactions'. \n",
    "# Those columns will be filled with '0' or '1', depending on properties prices \n",
    "# For this purpose I will use functions below:\n",
    "\n",
    "# A - price (zł/m2) <= 4000\n",
    "def funcA(x):\n",
    "    if x<= 4000:\n",
    "        return 1\n",
    "    else:\n",
    "        return 0\n",
    "\n",
    "# B - price (zł/m2) >4000 and <=6000\n",
    "def funcB(x):\n",
    "    if x>4000 and x<=6000:\n",
    "        return 1\n",
    "    else:\n",
    "        return 0\n",
    "\n",
    "# C >6000\n",
    "def funcC(x):\n",
    "    if x>6000:\n",
    "        return 1\n",
    "    else:\n",
    "        return 0"
   ]
  },
  {
   "cell_type": "code",
   "execution_count": 73,
   "metadata": {},
   "outputs": [],
   "source": [
    "# adding columns  A, B, C\n",
    "transactions['A']=transactions['Cena_zł/m2'].apply(lambda x: funcA(x))"
   ]
  },
  {
   "cell_type": "code",
   "execution_count": 74,
   "metadata": {},
   "outputs": [],
   "source": [
    "transactions['B']=transactions['Cena_zł/m2'].apply(lambda x: funcB(x))"
   ]
  },
  {
   "cell_type": "code",
   "execution_count": 75,
   "metadata": {},
   "outputs": [],
   "source": [
    "transactions['C']=transactions['Cena_zł/m2'].apply(lambda x: funcC(x))"
   ]
  },
  {
   "cell_type": "code",
   "execution_count": 77,
   "metadata": {},
   "outputs": [],
   "source": [
    "# counting the number of transactions in each area interval grouped by district\n",
    "A=transactions.loc[transactions['A']==1].groupby(by=['Obręb', 'A'], as_index=False).size()\n",
    "B=transactions.loc[transactions['B']==1].groupby(by=['Obręb', 'B'], as_index=False).size()\n",
    "C=transactions.loc[transactions['C']==1].groupby(by=['Obręb', 'C'], as_index=False).size()"
   ]
  },
  {
   "cell_type": "code",
   "execution_count": 79,
   "metadata": {},
   "outputs": [],
   "source": [
    "A=A.to_frame()\n",
    "B=B.to_frame()\n",
    "C=C.to_frame()"
   ]
  },
  {
   "cell_type": "code",
   "execution_count": 81,
   "metadata": {},
   "outputs": [],
   "source": [
    "# reset index\n",
    "A.reset_index(inplace=True)\n",
    "B.reset_index(inplace=True)\n",
    "C.reset_index(inplace=True)"
   ]
  },
  {
   "cell_type": "code",
   "execution_count": 83,
   "metadata": {},
   "outputs": [
    {
     "data": {
      "text/html": [
       "<div>\n",
       "<style scoped>\n",
       "    .dataframe tbody tr th:only-of-type {\n",
       "        vertical-align: middle;\n",
       "    }\n",
       "\n",
       "    .dataframe tbody tr th {\n",
       "        vertical-align: top;\n",
       "    }\n",
       "\n",
       "    .dataframe thead th {\n",
       "        text-align: right;\n",
       "    }\n",
       "</style>\n",
       "<table border=\"1\" class=\"dataframe\">\n",
       "  <thead>\n",
       "    <tr style=\"text-align: right;\">\n",
       "      <th></th>\n",
       "      <th>Obręb</th>\n",
       "      <th>A</th>\n",
       "      <th>0</th>\n",
       "    </tr>\n",
       "  </thead>\n",
       "  <tbody>\n",
       "    <tr>\n",
       "      <th>0</th>\n",
       "      <td>CHARTOWO</td>\n",
       "      <td>1</td>\n",
       "      <td>1</td>\n",
       "    </tr>\n",
       "    <tr>\n",
       "      <th>1</th>\n",
       "      <td>DĘBIEC</td>\n",
       "      <td>1</td>\n",
       "      <td>23</td>\n",
       "    </tr>\n",
       "    <tr>\n",
       "      <th>2</th>\n",
       "      <td>GOLĘCIN</td>\n",
       "      <td>1</td>\n",
       "      <td>10</td>\n",
       "    </tr>\n",
       "    <tr>\n",
       "      <th>3</th>\n",
       "      <td>GÓRCZYN</td>\n",
       "      <td>1</td>\n",
       "      <td>10</td>\n",
       "    </tr>\n",
       "    <tr>\n",
       "      <th>4</th>\n",
       "      <td>GŁOWIENIEC</td>\n",
       "      <td>1</td>\n",
       "      <td>7</td>\n",
       "    </tr>\n",
       "  </tbody>\n",
       "</table>\n",
       "</div>"
      ],
      "text/plain": [
       "        Obręb  A   0\n",
       "0    CHARTOWO  1   1\n",
       "1      DĘBIEC  1  23\n",
       "2     GOLĘCIN  1  10\n",
       "3     GÓRCZYN  1  10\n",
       "4  GŁOWIENIEC  1   7"
      ]
     },
     "execution_count": 83,
     "metadata": {},
     "output_type": "execute_result"
    }
   ],
   "source": [
    "A.head()"
   ]
  },
  {
   "cell_type": "code",
   "execution_count": 84,
   "metadata": {},
   "outputs": [],
   "source": [
    "# columns\n",
    "A.columns=['Obręb', 'A', 'Liczba A']\n",
    "B.columns=['Obręb', 'B', 'Liczba B']\n",
    "C.columns=['Obręb', 'C', 'Liczba C']"
   ]
  },
  {
   "cell_type": "code",
   "execution_count": 86,
   "metadata": {},
   "outputs": [
    {
     "data": {
      "text/html": [
       "<div>\n",
       "<style scoped>\n",
       "    .dataframe tbody tr th:only-of-type {\n",
       "        vertical-align: middle;\n",
       "    }\n",
       "\n",
       "    .dataframe tbody tr th {\n",
       "        vertical-align: top;\n",
       "    }\n",
       "\n",
       "    .dataframe thead th {\n",
       "        text-align: right;\n",
       "    }\n",
       "</style>\n",
       "<table border=\"1\" class=\"dataframe\">\n",
       "  <thead>\n",
       "    <tr style=\"text-align: right;\">\n",
       "      <th></th>\n",
       "      <th>Obręb</th>\n",
       "      <th>A</th>\n",
       "      <th>Liczba A</th>\n",
       "    </tr>\n",
       "  </thead>\n",
       "  <tbody>\n",
       "    <tr>\n",
       "      <th>0</th>\n",
       "      <td>CHARTOWO</td>\n",
       "      <td>1</td>\n",
       "      <td>1</td>\n",
       "    </tr>\n",
       "    <tr>\n",
       "      <th>1</th>\n",
       "      <td>DĘBIEC</td>\n",
       "      <td>1</td>\n",
       "      <td>23</td>\n",
       "    </tr>\n",
       "    <tr>\n",
       "      <th>2</th>\n",
       "      <td>GOLĘCIN</td>\n",
       "      <td>1</td>\n",
       "      <td>10</td>\n",
       "    </tr>\n",
       "    <tr>\n",
       "      <th>3</th>\n",
       "      <td>GÓRCZYN</td>\n",
       "      <td>1</td>\n",
       "      <td>10</td>\n",
       "    </tr>\n",
       "    <tr>\n",
       "      <th>4</th>\n",
       "      <td>GŁOWIENIEC</td>\n",
       "      <td>1</td>\n",
       "      <td>7</td>\n",
       "    </tr>\n",
       "  </tbody>\n",
       "</table>\n",
       "</div>"
      ],
      "text/plain": [
       "        Obręb  A  Liczba A\n",
       "0    CHARTOWO  1         1\n",
       "1      DĘBIEC  1        23\n",
       "2     GOLĘCIN  1        10\n",
       "3     GÓRCZYN  1        10\n",
       "4  GŁOWIENIEC  1         7"
      ]
     },
     "execution_count": 86,
     "metadata": {},
     "output_type": "execute_result"
    }
   ],
   "source": [
    "A.head()"
   ]
  },
  {
   "cell_type": "code",
   "execution_count": 87,
   "metadata": {},
   "outputs": [],
   "source": [
    "# merging df 'A', 'B' and 'C' by district (obręb). Not every district occurs in every df, that's why I merge by outer\n",
    "merged=A.merge(B, on='Obręb', how='outer').merge(C, on='Obręb', how='outer')"
   ]
  },
  {
   "cell_type": "code",
   "execution_count": 88,
   "metadata": {},
   "outputs": [
    {
     "data": {
      "text/html": [
       "<div>\n",
       "<style scoped>\n",
       "    .dataframe tbody tr th:only-of-type {\n",
       "        vertical-align: middle;\n",
       "    }\n",
       "\n",
       "    .dataframe tbody tr th {\n",
       "        vertical-align: top;\n",
       "    }\n",
       "\n",
       "    .dataframe thead th {\n",
       "        text-align: right;\n",
       "    }\n",
       "</style>\n",
       "<table border=\"1\" class=\"dataframe\">\n",
       "  <thead>\n",
       "    <tr style=\"text-align: right;\">\n",
       "      <th></th>\n",
       "      <th>Obręb</th>\n",
       "      <th>A</th>\n",
       "      <th>Liczba A</th>\n",
       "      <th>B</th>\n",
       "      <th>Liczba B</th>\n",
       "      <th>C</th>\n",
       "      <th>Liczba C</th>\n",
       "    </tr>\n",
       "  </thead>\n",
       "  <tbody>\n",
       "    <tr>\n",
       "      <th>0</th>\n",
       "      <td>CHARTOWO</td>\n",
       "      <td>1.0</td>\n",
       "      <td>1.0</td>\n",
       "      <td>1.0</td>\n",
       "      <td>31.0</td>\n",
       "      <td>NaN</td>\n",
       "      <td>NaN</td>\n",
       "    </tr>\n",
       "    <tr>\n",
       "      <th>1</th>\n",
       "      <td>DĘBIEC</td>\n",
       "      <td>1.0</td>\n",
       "      <td>23.0</td>\n",
       "      <td>1.0</td>\n",
       "      <td>65.0</td>\n",
       "      <td>1.0</td>\n",
       "      <td>4.0</td>\n",
       "    </tr>\n",
       "    <tr>\n",
       "      <th>2</th>\n",
       "      <td>GOLĘCIN</td>\n",
       "      <td>1.0</td>\n",
       "      <td>10.0</td>\n",
       "      <td>1.0</td>\n",
       "      <td>44.0</td>\n",
       "      <td>1.0</td>\n",
       "      <td>16.0</td>\n",
       "    </tr>\n",
       "    <tr>\n",
       "      <th>3</th>\n",
       "      <td>GÓRCZYN</td>\n",
       "      <td>1.0</td>\n",
       "      <td>10.0</td>\n",
       "      <td>1.0</td>\n",
       "      <td>76.0</td>\n",
       "      <td>1.0</td>\n",
       "      <td>22.0</td>\n",
       "    </tr>\n",
       "    <tr>\n",
       "      <th>4</th>\n",
       "      <td>GŁOWIENIEC</td>\n",
       "      <td>1.0</td>\n",
       "      <td>7.0</td>\n",
       "      <td>1.0</td>\n",
       "      <td>1.0</td>\n",
       "      <td>NaN</td>\n",
       "      <td>NaN</td>\n",
       "    </tr>\n",
       "  </tbody>\n",
       "</table>\n",
       "</div>"
      ],
      "text/plain": [
       "        Obręb    A  Liczba A    B  Liczba B    C  Liczba C\n",
       "0    CHARTOWO  1.0       1.0  1.0      31.0  NaN       NaN\n",
       "1      DĘBIEC  1.0      23.0  1.0      65.0  1.0       4.0\n",
       "2     GOLĘCIN  1.0      10.0  1.0      44.0  1.0      16.0\n",
       "3     GÓRCZYN  1.0      10.0  1.0      76.0  1.0      22.0\n",
       "4  GŁOWIENIEC  1.0       7.0  1.0       1.0  NaN       NaN"
      ]
     },
     "execution_count": 88,
     "metadata": {},
     "output_type": "execute_result"
    }
   ],
   "source": [
    "merged.head()"
   ]
  },
  {
   "cell_type": "code",
   "execution_count": 89,
   "metadata": {},
   "outputs": [],
   "source": [
    "# changing Nan values to 0\n",
    "merged.fillna(0, inplace=True)"
   ]
  },
  {
   "cell_type": "code",
   "execution_count": 90,
   "metadata": {},
   "outputs": [
    {
     "data": {
      "text/html": [
       "<div>\n",
       "<style scoped>\n",
       "    .dataframe tbody tr th:only-of-type {\n",
       "        vertical-align: middle;\n",
       "    }\n",
       "\n",
       "    .dataframe tbody tr th {\n",
       "        vertical-align: top;\n",
       "    }\n",
       "\n",
       "    .dataframe thead th {\n",
       "        text-align: right;\n",
       "    }\n",
       "</style>\n",
       "<table border=\"1\" class=\"dataframe\">\n",
       "  <thead>\n",
       "    <tr style=\"text-align: right;\">\n",
       "      <th></th>\n",
       "      <th>Obręb</th>\n",
       "      <th>A</th>\n",
       "      <th>Liczba A</th>\n",
       "      <th>B</th>\n",
       "      <th>Liczba B</th>\n",
       "      <th>C</th>\n",
       "      <th>Liczba C</th>\n",
       "    </tr>\n",
       "  </thead>\n",
       "  <tbody>\n",
       "    <tr>\n",
       "      <th>0</th>\n",
       "      <td>CHARTOWO</td>\n",
       "      <td>1.0</td>\n",
       "      <td>1.0</td>\n",
       "      <td>1.0</td>\n",
       "      <td>31.0</td>\n",
       "      <td>0.0</td>\n",
       "      <td>0.0</td>\n",
       "    </tr>\n",
       "    <tr>\n",
       "      <th>1</th>\n",
       "      <td>DĘBIEC</td>\n",
       "      <td>1.0</td>\n",
       "      <td>23.0</td>\n",
       "      <td>1.0</td>\n",
       "      <td>65.0</td>\n",
       "      <td>1.0</td>\n",
       "      <td>4.0</td>\n",
       "    </tr>\n",
       "    <tr>\n",
       "      <th>2</th>\n",
       "      <td>GOLĘCIN</td>\n",
       "      <td>1.0</td>\n",
       "      <td>10.0</td>\n",
       "      <td>1.0</td>\n",
       "      <td>44.0</td>\n",
       "      <td>1.0</td>\n",
       "      <td>16.0</td>\n",
       "    </tr>\n",
       "    <tr>\n",
       "      <th>3</th>\n",
       "      <td>GÓRCZYN</td>\n",
       "      <td>1.0</td>\n",
       "      <td>10.0</td>\n",
       "      <td>1.0</td>\n",
       "      <td>76.0</td>\n",
       "      <td>1.0</td>\n",
       "      <td>22.0</td>\n",
       "    </tr>\n",
       "    <tr>\n",
       "      <th>4</th>\n",
       "      <td>GŁOWIENIEC</td>\n",
       "      <td>1.0</td>\n",
       "      <td>7.0</td>\n",
       "      <td>1.0</td>\n",
       "      <td>1.0</td>\n",
       "      <td>0.0</td>\n",
       "      <td>0.0</td>\n",
       "    </tr>\n",
       "  </tbody>\n",
       "</table>\n",
       "</div>"
      ],
      "text/plain": [
       "        Obręb    A  Liczba A    B  Liczba B    C  Liczba C\n",
       "0    CHARTOWO  1.0       1.0  1.0      31.0  0.0       0.0\n",
       "1      DĘBIEC  1.0      23.0  1.0      65.0  1.0       4.0\n",
       "2     GOLĘCIN  1.0      10.0  1.0      44.0  1.0      16.0\n",
       "3     GÓRCZYN  1.0      10.0  1.0      76.0  1.0      22.0\n",
       "4  GŁOWIENIEC  1.0       7.0  1.0       1.0  0.0       0.0"
      ]
     },
     "execution_count": 90,
     "metadata": {},
     "output_type": "execute_result"
    }
   ],
   "source": [
    "merged.head()"
   ]
  },
  {
   "cell_type": "code",
   "execution_count": 92,
   "metadata": {},
   "outputs": [],
   "source": [
    "columns=merged[['Liczba A', 'Liczba B', 'Liczba C']]"
   ]
  },
  {
   "cell_type": "code",
   "execution_count": 94,
   "metadata": {},
   "outputs": [
    {
     "data": {
      "text/html": [
       "<div>\n",
       "<style scoped>\n",
       "    .dataframe tbody tr th:only-of-type {\n",
       "        vertical-align: middle;\n",
       "    }\n",
       "\n",
       "    .dataframe tbody tr th {\n",
       "        vertical-align: top;\n",
       "    }\n",
       "\n",
       "    .dataframe thead th {\n",
       "        text-align: right;\n",
       "    }\n",
       "</style>\n",
       "<table border=\"1\" class=\"dataframe\">\n",
       "  <thead>\n",
       "    <tr style=\"text-align: right;\">\n",
       "      <th></th>\n",
       "      <th>Liczba A</th>\n",
       "      <th>Liczba B</th>\n",
       "      <th>Liczba C</th>\n",
       "    </tr>\n",
       "  </thead>\n",
       "  <tbody>\n",
       "    <tr>\n",
       "      <th>0</th>\n",
       "      <td>1.0</td>\n",
       "      <td>31.0</td>\n",
       "      <td>0.0</td>\n",
       "    </tr>\n",
       "    <tr>\n",
       "      <th>1</th>\n",
       "      <td>23.0</td>\n",
       "      <td>65.0</td>\n",
       "      <td>4.0</td>\n",
       "    </tr>\n",
       "    <tr>\n",
       "      <th>2</th>\n",
       "      <td>10.0</td>\n",
       "      <td>44.0</td>\n",
       "      <td>16.0</td>\n",
       "    </tr>\n",
       "    <tr>\n",
       "      <th>3</th>\n",
       "      <td>10.0</td>\n",
       "      <td>76.0</td>\n",
       "      <td>22.0</td>\n",
       "    </tr>\n",
       "    <tr>\n",
       "      <th>4</th>\n",
       "      <td>7.0</td>\n",
       "      <td>1.0</td>\n",
       "      <td>0.0</td>\n",
       "    </tr>\n",
       "  </tbody>\n",
       "</table>\n",
       "</div>"
      ],
      "text/plain": [
       "   Liczba A  Liczba B  Liczba C\n",
       "0       1.0      31.0       0.0\n",
       "1      23.0      65.0       4.0\n",
       "2      10.0      44.0      16.0\n",
       "3      10.0      76.0      22.0\n",
       "4       7.0       1.0       0.0"
      ]
     },
     "execution_count": 94,
     "metadata": {},
     "output_type": "execute_result"
    }
   ],
   "source": [
    "columns.head()"
   ]
  },
  {
   "cell_type": "code",
   "execution_count": 95,
   "metadata": {},
   "outputs": [
    {
     "data": {
      "text/plain": [
       "'file:///home/kinga/python/Wizaulizacje-Udemy/temp-plot.html'"
      ]
     },
     "execution_count": 95,
     "metadata": {},
     "output_type": "execute_result"
    }
   ],
   "source": [
    "# stacked bar chart on df 'merged'\n",
    "data=[]\n",
    "for column in columns:\n",
    "    trace=go.Bar(x=merged['Obręb'],\n",
    "                y=merged[column],\n",
    "                name=column)\n",
    "    data.append(trace)\n",
    "\n",
    "layout=go.Layout(title='prices', barmode='stack')\n",
    "fig=go.Figure(data=data, layout=layout)\n",
    "pyo.plot(fig)"
   ]
  },
  {
   "cell_type": "code",
   "execution_count": null,
   "metadata": {},
   "outputs": [],
   "source": []
  },
  {
   "cell_type": "markdown",
   "metadata": {},
   "source": [
    "#### Excercise\n",
    "- Objective: Create a stacked bar chart from the file ../data/mocksurvey.csv. \n",
    "- Note that questions appear in the index (and should be used for the x-axis), while responses appear as column labels.  - Extra Credit: make a horizontal bar chart!"
   ]
  },
  {
   "cell_type": "code",
   "execution_count": 97,
   "metadata": {},
   "outputs": [],
   "source": [
    "mocksurvey=pd.read_csv(r'/home/kinga/python/Wizaulizacje-Udemy/Plotly-Dashboards-with-Dash-master/Data/mocksurvey.csv')"
   ]
  },
  {
   "cell_type": "code",
   "execution_count": 100,
   "metadata": {},
   "outputs": [
    {
     "data": {
      "text/html": [
       "<div>\n",
       "<style scoped>\n",
       "    .dataframe tbody tr th:only-of-type {\n",
       "        vertical-align: middle;\n",
       "    }\n",
       "\n",
       "    .dataframe tbody tr th {\n",
       "        vertical-align: top;\n",
       "    }\n",
       "\n",
       "    .dataframe thead th {\n",
       "        text-align: right;\n",
       "    }\n",
       "</style>\n",
       "<table border=\"1\" class=\"dataframe\">\n",
       "  <thead>\n",
       "    <tr style=\"text-align: right;\">\n",
       "      <th></th>\n",
       "      <th>Question</th>\n",
       "      <th>Strongly Agree</th>\n",
       "      <th>Somewhat Agree</th>\n",
       "      <th>Neutral</th>\n",
       "      <th>Somewhat Disagree</th>\n",
       "      <th>Strongly Disagree</th>\n",
       "    </tr>\n",
       "  </thead>\n",
       "  <tbody>\n",
       "    <tr>\n",
       "      <th>0</th>\n",
       "      <td>Question 1</td>\n",
       "      <td>0.45</td>\n",
       "      <td>0.25</td>\n",
       "      <td>0.10</td>\n",
       "      <td>0.12</td>\n",
       "      <td>0.08</td>\n",
       "    </tr>\n",
       "    <tr>\n",
       "      <th>1</th>\n",
       "      <td>Question 2</td>\n",
       "      <td>0.12</td>\n",
       "      <td>0.07</td>\n",
       "      <td>0.48</td>\n",
       "      <td>0.18</td>\n",
       "      <td>0.15</td>\n",
       "    </tr>\n",
       "    <tr>\n",
       "      <th>2</th>\n",
       "      <td>Question 3</td>\n",
       "      <td>0.05</td>\n",
       "      <td>0.22</td>\n",
       "      <td>0.19</td>\n",
       "      <td>0.23</td>\n",
       "      <td>0.31</td>\n",
       "    </tr>\n",
       "  </tbody>\n",
       "</table>\n",
       "</div>"
      ],
      "text/plain": [
       "     Question  Strongly Agree  Somewhat Agree  Neutral  Somewhat Disagree  \\\n",
       "0  Question 1            0.45            0.25     0.10               0.12   \n",
       "1  Question 2            0.12            0.07     0.48               0.18   \n",
       "2  Question 3            0.05            0.22     0.19               0.23   \n",
       "\n",
       "   Strongly Disagree  \n",
       "0               0.08  \n",
       "1               0.15  \n",
       "2               0.31  "
      ]
     },
     "execution_count": 100,
     "metadata": {},
     "output_type": "execute_result"
    }
   ],
   "source": [
    "mocksurvey"
   ]
  },
  {
   "cell_type": "code",
   "execution_count": 101,
   "metadata": {},
   "outputs": [],
   "source": [
    "# changing first column name \n",
    "mocksurvey.columns=['Question', 'Strongly Agree', 'Somewhat Agree', 'Neutral', 'Somewhat Disagree','Strongly Disagree']"
   ]
  },
  {
   "cell_type": "code",
   "execution_count": 102,
   "metadata": {},
   "outputs": [
    {
     "data": {
      "text/html": [
       "<div>\n",
       "<style scoped>\n",
       "    .dataframe tbody tr th:only-of-type {\n",
       "        vertical-align: middle;\n",
       "    }\n",
       "\n",
       "    .dataframe tbody tr th {\n",
       "        vertical-align: top;\n",
       "    }\n",
       "\n",
       "    .dataframe thead th {\n",
       "        text-align: right;\n",
       "    }\n",
       "</style>\n",
       "<table border=\"1\" class=\"dataframe\">\n",
       "  <thead>\n",
       "    <tr style=\"text-align: right;\">\n",
       "      <th></th>\n",
       "      <th>Question</th>\n",
       "      <th>Strongly Agree</th>\n",
       "      <th>Somewhat Agree</th>\n",
       "      <th>Neutral</th>\n",
       "      <th>Somewhat Disagree</th>\n",
       "      <th>Strongly Disagree</th>\n",
       "    </tr>\n",
       "  </thead>\n",
       "  <tbody>\n",
       "    <tr>\n",
       "      <th>0</th>\n",
       "      <td>Question 1</td>\n",
       "      <td>0.45</td>\n",
       "      <td>0.25</td>\n",
       "      <td>0.10</td>\n",
       "      <td>0.12</td>\n",
       "      <td>0.08</td>\n",
       "    </tr>\n",
       "    <tr>\n",
       "      <th>1</th>\n",
       "      <td>Question 2</td>\n",
       "      <td>0.12</td>\n",
       "      <td>0.07</td>\n",
       "      <td>0.48</td>\n",
       "      <td>0.18</td>\n",
       "      <td>0.15</td>\n",
       "    </tr>\n",
       "    <tr>\n",
       "      <th>2</th>\n",
       "      <td>Question 3</td>\n",
       "      <td>0.05</td>\n",
       "      <td>0.22</td>\n",
       "      <td>0.19</td>\n",
       "      <td>0.23</td>\n",
       "      <td>0.31</td>\n",
       "    </tr>\n",
       "  </tbody>\n",
       "</table>\n",
       "</div>"
      ],
      "text/plain": [
       "     Question  Strongly Agree  Somewhat Agree  Neutral  Somewhat Disagree  \\\n",
       "0  Question 1            0.45            0.25     0.10               0.12   \n",
       "1  Question 2            0.12            0.07     0.48               0.18   \n",
       "2  Question 3            0.05            0.22     0.19               0.23   \n",
       "\n",
       "   Strongly Disagree  \n",
       "0               0.08  \n",
       "1               0.15  \n",
       "2               0.31  "
      ]
     },
     "execution_count": 102,
     "metadata": {},
     "output_type": "execute_result"
    }
   ],
   "source": [
    "mocksurvey"
   ]
  },
  {
   "cell_type": "code",
   "execution_count": 103,
   "metadata": {},
   "outputs": [
    {
     "data": {
      "text/plain": [
       "'file:///home/kinga/python/Wizaulizacje-Udemy/temp-plot.html'"
      ]
     },
     "execution_count": 103,
     "metadata": {},
     "output_type": "execute_result"
    }
   ],
   "source": [
    "# stacked bar chart \n",
    "import plotly.offline as pyo\n",
    "import plotly.graph_objs as go\n",
    "\n",
    "trace1=go.Bar(y=mocksurvey['Strongly Agree'],\n",
    "             x=mocksurvey['Question'],\n",
    "            name='Strongly Agree',\n",
    "             marker={'color':'red'})\n",
    "\n",
    "trace2=go.Bar(y=mocksurvey['Somewhat Agree'],\n",
    "             x=mocksurvey['Question'],\n",
    "            name='Somewhat Agree',\n",
    "             marker={'color':'yellow'})\n",
    "\n",
    "trace3=go.Bar(y=mocksurvey['Neutral'],\n",
    "             x=mocksurvey['Question'],\n",
    "            name='Neutral',\n",
    "             marker={'color':'blue'})\n",
    "\n",
    "trace4=go.Bar(y=mocksurvey['Somewhat Disagree'],\n",
    "             x=mocksurvey['Question'],\n",
    "            name='Somewhat Disagree',\n",
    "             marker={'color':'green'})\n",
    "\n",
    "trace5=go.Bar(y=mocksurvey['Strongly Disagree'],\n",
    "             x=mocksurvey['Question'],\n",
    "            name='Strongly Disagree',\n",
    "             marker={'color':'black'})\n",
    "\n",
    "data=[trace1, trace2, trace3, trace4, trace5]\n",
    "layout=go.Layout(title='Questions', barmode='stack')\n",
    "fig=go.Figure(data=data, layout=layout)\n",
    "pyo.plot(fig)"
   ]
  },
  {
   "cell_type": "code",
   "execution_count": 104,
   "metadata": {},
   "outputs": [
    {
     "data": {
      "text/plain": [
       "'file:///home/kinga/python/Wizaulizacje-Udemy/temp-plot.html'"
      ]
     },
     "execution_count": 104,
     "metadata": {},
     "output_type": "execute_result"
    }
   ],
   "source": [
    "# the same as above but horisontal\n",
    "import plotly.offline as pyo\n",
    "import plotly.graph_objs as go\n",
    "\n",
    "trace1=go.Bar(x=mocksurvey['Strongly Agree'],\n",
    "             y=mocksurvey['Question'],\n",
    "            name='Strongly Agree',\n",
    "             marker={'color':'red'},\n",
    "             orientation='h') # horisontal orientation\n",
    "\n",
    "trace2=go.Bar(x=mocksurvey['Somewhat Agree'],\n",
    "             y=mocksurvey['Question'],\n",
    "            name='Somewhat Agree',\n",
    "             marker={'color':'yellow'},\n",
    "             orientation='h')\n",
    "\n",
    "trace3=go.Bar(x=mocksurvey['Neutral'],\n",
    "             y=mocksurvey['Question'],\n",
    "            name='Neutral',\n",
    "             marker={'color':'blue'},\n",
    "             orientation='h')\n",
    "\n",
    "trace4=go.Bar(x=mocksurvey['Somewhat Disagree'],\n",
    "             y=mocksurvey['Question'],\n",
    "            name='Somewhat Disagree',\n",
    "             marker={'color':'green'},\n",
    "             orientation='h')\n",
    "\n",
    "trace5=go.Bar(x=mocksurvey['Strongly Disagree'],\n",
    "             y=mocksurvey['Question'],\n",
    "            name='Strongly Disagree',\n",
    "             marker={'color':'black'},\n",
    "             orientation='h')  \n",
    "\n",
    "data=[trace1, trace2, trace3, trace4, trace5]\n",
    "layout=go.Layout(title='Questions', barmode='stack')\n",
    "fig=go.Figure(data=data, layout=layout)\n",
    "pyo.plot(fig)"
   ]
  },
  {
   "cell_type": "code",
   "execution_count": null,
   "metadata": {},
   "outputs": [],
   "source": [
    "# the same stacked bar as above but shorter version - there is no need to call each answer separately"
   ]
  },
  {
   "cell_type": "code",
   "execution_count": 105,
   "metadata": {},
   "outputs": [],
   "source": [
    "opinions=mocksurvey.columns[1:]"
   ]
  },
  {
   "cell_type": "code",
   "execution_count": 106,
   "metadata": {},
   "outputs": [
    {
     "data": {
      "text/plain": [
       "Index(['Strongly Agree', 'Somewhat Agree', 'Neutral', 'Somewhat Disagree',\n",
       "       'Strongly Disagree'],\n",
       "      dtype='object')"
      ]
     },
     "execution_count": 106,
     "metadata": {},
     "output_type": "execute_result"
    }
   ],
   "source": [
    "opinions"
   ]
  },
  {
   "cell_type": "code",
   "execution_count": 107,
   "metadata": {},
   "outputs": [
    {
     "data": {
      "text/plain": [
       "'file:///home/kinga/python/Wizaulizacje-Udemy/temp-plot.html'"
      ]
     },
     "execution_count": 107,
     "metadata": {},
     "output_type": "execute_result"
    }
   ],
   "source": [
    "data=[]\n",
    "for opinion in opinions:\n",
    "    trace=go.Bar(x=mocksurvey[opinion],\n",
    "             y=mocksurvey['Question'],\n",
    "                orientation='h',\n",
    "                name=opinion)\n",
    "        \n",
    "    data.append(trace)\n",
    "\n",
    "layout=go.Layout(title='Questions', barmode='stack', hovermode='closest')\n",
    "fig=go.Figure(data=data, layout=layout)\n",
    "pyo.plot(fig)"
   ]
  },
  {
   "cell_type": "code",
   "execution_count": null,
   "metadata": {},
   "outputs": [],
   "source": []
  },
  {
   "cell_type": "markdown",
   "metadata": {},
   "source": [
    "## 3. Bubble chart - shows the dependence of 3 features"
   ]
  },
  {
   "cell_type": "code",
   "execution_count": 108,
   "metadata": {},
   "outputs": [],
   "source": [
    "import pandas as pd\n",
    "df=pd.read_csv(r'/home/kinga/python/Wizaulizacje-Udemy/Plotly-Dashboards-with-Dash-master/Data/mpg.csv')"
   ]
  },
  {
   "cell_type": "code",
   "execution_count": 109,
   "metadata": {},
   "outputs": [
    {
     "data": {
      "text/html": [
       "<div>\n",
       "<style scoped>\n",
       "    .dataframe tbody tr th:only-of-type {\n",
       "        vertical-align: middle;\n",
       "    }\n",
       "\n",
       "    .dataframe tbody tr th {\n",
       "        vertical-align: top;\n",
       "    }\n",
       "\n",
       "    .dataframe thead th {\n",
       "        text-align: right;\n",
       "    }\n",
       "</style>\n",
       "<table border=\"1\" class=\"dataframe\">\n",
       "  <thead>\n",
       "    <tr style=\"text-align: right;\">\n",
       "      <th></th>\n",
       "      <th>mpg</th>\n",
       "      <th>cylinders</th>\n",
       "      <th>displacement</th>\n",
       "      <th>horsepower</th>\n",
       "      <th>weight</th>\n",
       "      <th>acceleration</th>\n",
       "      <th>model_year</th>\n",
       "      <th>origin</th>\n",
       "      <th>name</th>\n",
       "    </tr>\n",
       "  </thead>\n",
       "  <tbody>\n",
       "    <tr>\n",
       "      <th>0</th>\n",
       "      <td>18.0</td>\n",
       "      <td>8</td>\n",
       "      <td>307.0</td>\n",
       "      <td>130</td>\n",
       "      <td>3504</td>\n",
       "      <td>12.0</td>\n",
       "      <td>70</td>\n",
       "      <td>1</td>\n",
       "      <td>chevrolet chevelle malibu</td>\n",
       "    </tr>\n",
       "    <tr>\n",
       "      <th>1</th>\n",
       "      <td>15.0</td>\n",
       "      <td>8</td>\n",
       "      <td>350.0</td>\n",
       "      <td>165</td>\n",
       "      <td>3693</td>\n",
       "      <td>11.5</td>\n",
       "      <td>70</td>\n",
       "      <td>1</td>\n",
       "      <td>buick skylark 320</td>\n",
       "    </tr>\n",
       "    <tr>\n",
       "      <th>2</th>\n",
       "      <td>18.0</td>\n",
       "      <td>8</td>\n",
       "      <td>318.0</td>\n",
       "      <td>150</td>\n",
       "      <td>3436</td>\n",
       "      <td>11.0</td>\n",
       "      <td>70</td>\n",
       "      <td>1</td>\n",
       "      <td>plymouth satellite</td>\n",
       "    </tr>\n",
       "    <tr>\n",
       "      <th>3</th>\n",
       "      <td>16.0</td>\n",
       "      <td>8</td>\n",
       "      <td>304.0</td>\n",
       "      <td>150</td>\n",
       "      <td>3433</td>\n",
       "      <td>12.0</td>\n",
       "      <td>70</td>\n",
       "      <td>1</td>\n",
       "      <td>amc rebel sst</td>\n",
       "    </tr>\n",
       "    <tr>\n",
       "      <th>4</th>\n",
       "      <td>17.0</td>\n",
       "      <td>8</td>\n",
       "      <td>302.0</td>\n",
       "      <td>140</td>\n",
       "      <td>3449</td>\n",
       "      <td>10.5</td>\n",
       "      <td>70</td>\n",
       "      <td>1</td>\n",
       "      <td>ford torino</td>\n",
       "    </tr>\n",
       "  </tbody>\n",
       "</table>\n",
       "</div>"
      ],
      "text/plain": [
       "    mpg  cylinders  displacement horsepower  weight  acceleration  model_year  \\\n",
       "0  18.0          8         307.0        130    3504          12.0          70   \n",
       "1  15.0          8         350.0        165    3693          11.5          70   \n",
       "2  18.0          8         318.0        150    3436          11.0          70   \n",
       "3  16.0          8         304.0        150    3433          12.0          70   \n",
       "4  17.0          8         302.0        140    3449          10.5          70   \n",
       "\n",
       "   origin                       name  \n",
       "0       1  chevrolet chevelle malibu  \n",
       "1       1          buick skylark 320  \n",
       "2       1         plymouth satellite  \n",
       "3       1              amc rebel sst  \n",
       "4       1                ford torino  "
      ]
     },
     "execution_count": 109,
     "metadata": {},
     "output_type": "execute_result"
    }
   ],
   "source": [
    "df.head()"
   ]
  },
  {
   "cell_type": "code",
   "execution_count": 110,
   "metadata": {},
   "outputs": [
    {
     "data": {
      "text/plain": [
       "'file:///home/kinga/python/Wizaulizacje-Udemy/temp-plot.html'"
      ]
     },
     "execution_count": 110,
     "metadata": {},
     "output_type": "execute_result"
    }
   ],
   "source": [
    "import plotly.offline as pyo\n",
    "import plotly.graph_objs as go\n",
    "\n",
    "data=[go.Scatter(x=df['horsepower'],\n",
    "                y=df['weight'],\n",
    "                text= df['name'], # what to display when you hover over\n",
    "                mode='markers',\n",
    "                marker={'size': 2* df['acceleration'], # that what is shown as bubbles. 2* -increasing bubble's size\n",
    "                        'color':df['acceleration'],\n",
    "                        'showscale':True })] # color scale next to the chart\n",
    "      \n",
    "layout=go.Layout(title='cars',hovermode='closest')\n",
    "fig=go.Figure(data=data, layout=layout)\n",
    "pyo.plot(fig)"
   ]
  },
  {
   "cell_type": "markdown",
   "metadata": {},
   "source": [
    "## 4. Box plot - quartiles"
   ]
  },
  {
   "cell_type": "code",
   "execution_count": 111,
   "metadata": {},
   "outputs": [],
   "source": [
    "import pandas as pd"
   ]
  },
  {
   "cell_type": "code",
   "execution_count": 112,
   "metadata": {},
   "outputs": [],
   "source": [
    "variable=[5, 15, 16, 20, 21, 25, 26, 27, 30, 30, 31, 32, 32, 34, 35, 38, 38, 41, 43, 66]"
   ]
  },
  {
   "cell_type": "code",
   "execution_count": 114,
   "metadata": {},
   "outputs": [],
   "source": [
    "data=pd.DataFrame(data=variable,columns=['oceny'] )"
   ]
  },
  {
   "cell_type": "code",
   "execution_count": 116,
   "metadata": {},
   "outputs": [
    {
     "data": {
      "text/html": [
       "<div>\n",
       "<style scoped>\n",
       "    .dataframe tbody tr th:only-of-type {\n",
       "        vertical-align: middle;\n",
       "    }\n",
       "\n",
       "    .dataframe tbody tr th {\n",
       "        vertical-align: top;\n",
       "    }\n",
       "\n",
       "    .dataframe thead th {\n",
       "        text-align: right;\n",
       "    }\n",
       "</style>\n",
       "<table border=\"1\" class=\"dataframe\">\n",
       "  <thead>\n",
       "    <tr style=\"text-align: right;\">\n",
       "      <th></th>\n",
       "      <th>oceny</th>\n",
       "    </tr>\n",
       "  </thead>\n",
       "  <tbody>\n",
       "    <tr>\n",
       "      <th>count</th>\n",
       "      <td>20.000000</td>\n",
       "    </tr>\n",
       "    <tr>\n",
       "      <th>mean</th>\n",
       "      <td>30.250000</td>\n",
       "    </tr>\n",
       "    <tr>\n",
       "      <th>std</th>\n",
       "      <td>12.648591</td>\n",
       "    </tr>\n",
       "    <tr>\n",
       "      <th>min</th>\n",
       "      <td>5.000000</td>\n",
       "    </tr>\n",
       "    <tr>\n",
       "      <th>25%</th>\n",
       "      <td>24.000000</td>\n",
       "    </tr>\n",
       "    <tr>\n",
       "      <th>50%</th>\n",
       "      <td>30.500000</td>\n",
       "    </tr>\n",
       "    <tr>\n",
       "      <th>75%</th>\n",
       "      <td>35.750000</td>\n",
       "    </tr>\n",
       "    <tr>\n",
       "      <th>max</th>\n",
       "      <td>66.000000</td>\n",
       "    </tr>\n",
       "  </tbody>\n",
       "</table>\n",
       "</div>"
      ],
      "text/plain": [
       "           oceny\n",
       "count  20.000000\n",
       "mean   30.250000\n",
       "std    12.648591\n",
       "min     5.000000\n",
       "25%    24.000000\n",
       "50%    30.500000\n",
       "75%    35.750000\n",
       "max    66.000000"
      ]
     },
     "execution_count": 116,
     "metadata": {},
     "output_type": "execute_result"
    }
   ],
   "source": [
    "data.describe()"
   ]
  },
  {
   "cell_type": "code",
   "execution_count": 117,
   "metadata": {},
   "outputs": [
    {
     "data": {
      "text/plain": [
       "'file:///home/kinga/python/Wizaulizacje-Udemy/temp-plot.html'"
      ]
     },
     "execution_count": 117,
     "metadata": {},
     "output_type": "execute_result"
    }
   ],
   "source": [
    "import plotly.offline as pyo\n",
    "import plotly.graph_objs as go\n",
    "\n",
    "data=[go.Box(y=data['oceny'], \n",
    "    boxpoints='all',# displays only points that are in the set, if I enter boxpoints = 'outliers', it will only show outliers\n",
    "    pointpos=-2, # I determine where the points are to be located: 0-center, positive-right side, negative-left\n",
    "    jitter=1)] # I determine how much points are to be scattered (along the x-axis)\n",
    "     \n",
    "\n",
    "pyo.plot(data)"
   ]
  },
  {
   "cell_type": "markdown",
   "metadata": {},
   "source": [
    "#### Excersise\n",
    "- Objective: Make a DataFrame using the Abalone dataset (../data/abalone.csv).\n",
    "- Take two independent random samples of different sizes from the 'rings' field.\n",
    "- HINT: np.random.choice(df['rings'],10,replace=False) takes 10 random values\n",
    "- Use box plots to show that the samples do derive from the same population.\n"
   ]
  },
  {
   "cell_type": "code",
   "execution_count": 118,
   "metadata": {},
   "outputs": [],
   "source": [
    "import pandas as pd\n",
    "import numpy as np"
   ]
  },
  {
   "cell_type": "code",
   "execution_count": 119,
   "metadata": {},
   "outputs": [],
   "source": [
    "df=pd.read_csv(r'/home/kinga/python/Wizaulizacje-Udemy/Plotly-Dashboards-with-Dash-master/Data/abalone.csv')"
   ]
  },
  {
   "cell_type": "code",
   "execution_count": 120,
   "metadata": {},
   "outputs": [
    {
     "data": {
      "text/html": [
       "<div>\n",
       "<style scoped>\n",
       "    .dataframe tbody tr th:only-of-type {\n",
       "        vertical-align: middle;\n",
       "    }\n",
       "\n",
       "    .dataframe tbody tr th {\n",
       "        vertical-align: top;\n",
       "    }\n",
       "\n",
       "    .dataframe thead th {\n",
       "        text-align: right;\n",
       "    }\n",
       "</style>\n",
       "<table border=\"1\" class=\"dataframe\">\n",
       "  <thead>\n",
       "    <tr style=\"text-align: right;\">\n",
       "      <th></th>\n",
       "      <th>sex</th>\n",
       "      <th>length</th>\n",
       "      <th>diameter</th>\n",
       "      <th>height</th>\n",
       "      <th>whole_weight</th>\n",
       "      <th>shucked_weight</th>\n",
       "      <th>viscera_weight</th>\n",
       "      <th>shell_weight</th>\n",
       "      <th>rings</th>\n",
       "    </tr>\n",
       "  </thead>\n",
       "  <tbody>\n",
       "    <tr>\n",
       "      <th>0</th>\n",
       "      <td>M</td>\n",
       "      <td>0.455</td>\n",
       "      <td>0.365</td>\n",
       "      <td>0.095</td>\n",
       "      <td>0.5140</td>\n",
       "      <td>0.2245</td>\n",
       "      <td>0.1010</td>\n",
       "      <td>0.150</td>\n",
       "      <td>15</td>\n",
       "    </tr>\n",
       "    <tr>\n",
       "      <th>1</th>\n",
       "      <td>M</td>\n",
       "      <td>0.350</td>\n",
       "      <td>0.265</td>\n",
       "      <td>0.090</td>\n",
       "      <td>0.2255</td>\n",
       "      <td>0.0995</td>\n",
       "      <td>0.0485</td>\n",
       "      <td>0.070</td>\n",
       "      <td>7</td>\n",
       "    </tr>\n",
       "    <tr>\n",
       "      <th>2</th>\n",
       "      <td>F</td>\n",
       "      <td>0.530</td>\n",
       "      <td>0.420</td>\n",
       "      <td>0.135</td>\n",
       "      <td>0.6770</td>\n",
       "      <td>0.2565</td>\n",
       "      <td>0.1415</td>\n",
       "      <td>0.210</td>\n",
       "      <td>9</td>\n",
       "    </tr>\n",
       "    <tr>\n",
       "      <th>3</th>\n",
       "      <td>M</td>\n",
       "      <td>0.440</td>\n",
       "      <td>0.365</td>\n",
       "      <td>0.125</td>\n",
       "      <td>0.5160</td>\n",
       "      <td>0.2155</td>\n",
       "      <td>0.1140</td>\n",
       "      <td>0.155</td>\n",
       "      <td>10</td>\n",
       "    </tr>\n",
       "    <tr>\n",
       "      <th>4</th>\n",
       "      <td>I</td>\n",
       "      <td>0.330</td>\n",
       "      <td>0.255</td>\n",
       "      <td>0.080</td>\n",
       "      <td>0.2050</td>\n",
       "      <td>0.0895</td>\n",
       "      <td>0.0395</td>\n",
       "      <td>0.055</td>\n",
       "      <td>7</td>\n",
       "    </tr>\n",
       "  </tbody>\n",
       "</table>\n",
       "</div>"
      ],
      "text/plain": [
       "  sex  length  diameter  height  whole_weight  shucked_weight  viscera_weight  \\\n",
       "0   M   0.455     0.365   0.095        0.5140          0.2245          0.1010   \n",
       "1   M   0.350     0.265   0.090        0.2255          0.0995          0.0485   \n",
       "2   F   0.530     0.420   0.135        0.6770          0.2565          0.1415   \n",
       "3   M   0.440     0.365   0.125        0.5160          0.2155          0.1140   \n",
       "4   I   0.330     0.255   0.080        0.2050          0.0895          0.0395   \n",
       "\n",
       "   shell_weight  rings  \n",
       "0         0.150     15  \n",
       "1         0.070      7  \n",
       "2         0.210      9  \n",
       "3         0.155     10  \n",
       "4         0.055      7  "
      ]
     },
     "execution_count": 120,
     "metadata": {},
     "output_type": "execute_result"
    }
   ],
   "source": [
    "df.head()"
   ]
  },
  {
   "cell_type": "code",
   "execution_count": 121,
   "metadata": {},
   "outputs": [],
   "source": [
    "sample1=np.random.choice(df['rings'], 15, replace=False)\n",
    "sample2=np.random.choice(df['rings'], 40, replace=False)"
   ]
  },
  {
   "cell_type": "code",
   "execution_count": 122,
   "metadata": {},
   "outputs": [
    {
     "data": {
      "text/plain": [
       "array([13, 10, 15,  8,  8, 10,  6,  9,  5,  6,  8,  8, 15, 11,  6])"
      ]
     },
     "execution_count": 122,
     "metadata": {},
     "output_type": "execute_result"
    }
   ],
   "source": [
    "sample1"
   ]
  },
  {
   "cell_type": "code",
   "execution_count": 123,
   "metadata": {},
   "outputs": [
    {
     "data": {
      "text/plain": [
       "array([10,  9, 14, 11, 14,  5,  9, 11,  7, 11,  7, 18, 10, 13, 12, 10, 13,\n",
       "        9,  9,  7,  4, 11,  7,  8, 21,  7,  7,  8, 11,  6, 10,  9, 11,  9,\n",
       "       10, 17, 10, 10, 10, 10])"
      ]
     },
     "execution_count": 123,
     "metadata": {},
     "output_type": "execute_result"
    }
   ],
   "source": [
    "sample2"
   ]
  },
  {
   "cell_type": "code",
   "execution_count": 124,
   "metadata": {},
   "outputs": [
    {
     "data": {
      "text/plain": [
       "'file:///home/kinga/python/Wizaulizacje-Udemy/temp-plot.html'"
      ]
     },
     "execution_count": 124,
     "metadata": {},
     "output_type": "execute_result"
    }
   ],
   "source": [
    "import plotly.offline as pyo\n",
    "import plotly.graph_objs as go\n",
    "\n",
    "data=[go.Box(y=sample1, name='A', boxpoints='all', jitter=0),\n",
    "     go.Box (y=sample2, name='B', boxpoints='outliers', jitter=0)]\n",
    "\n",
    "layout=go.Layout(title='Comparison of two samples')\n",
    "fig=go.Figure(data=data, layout=layout)\n",
    "pyo.plot(fig)"
   ]
  },
  {
   "cell_type": "markdown",
   "metadata": {},
   "source": [
    "## 5. Histogram"
   ]
  },
  {
   "cell_type": "code",
   "execution_count": 125,
   "metadata": {},
   "outputs": [],
   "source": [
    "import pandas as pd\n",
    "import numpy as np\n",
    "import plotly.offline as pyo\n",
    "import plotly.graph_objs as go"
   ]
  },
  {
   "cell_type": "code",
   "execution_count": 126,
   "metadata": {},
   "outputs": [],
   "source": [
    "df=pd.read_csv(r'/home/kinga/python/Wizaulizacje-Udemy/Plotly-Dashboards-with-Dash-master/Data/abalone.csv')"
   ]
  },
  {
   "cell_type": "code",
   "execution_count": 127,
   "metadata": {},
   "outputs": [
    {
     "data": {
      "text/plain": [
       "'file:///home/kinga/python/Wizaulizacje-Udemy/temp-plot.html'"
      ]
     },
     "execution_count": 127,
     "metadata": {},
     "output_type": "execute_result"
    }
   ],
   "source": [
    "data=[go.Histogram(x=df['height'],xbins={'size':0.15} )]\n",
    "\n",
    "fig=go.Figure(data=data)\n",
    "pyo.plot(fig)"
   ]
  },
  {
   "cell_type": "code",
   "execution_count": 128,
   "metadata": {},
   "outputs": [
    {
     "data": {
      "text/plain": [
       "'file:///home/kinga/python/Wizaulizacje-Udemy/temp-plot.html'"
      ]
     },
     "execution_count": 128,
     "metadata": {},
     "output_type": "execute_result"
    }
   ],
   "source": [
    "data1=[go.Histogram(x=df['rings'], xbins={'size':3,'start':2, 'end':20 })] # size-bin's interval\n",
    "       \n",
    "layout=go.Layout(title='Rings')\n",
    "fig=go.Figure(data=data1, layout=layout)\n",
    "pyo.plot(fig)"
   ]
  },
  {
   "cell_type": "markdown",
   "metadata": {},
   "source": [
    "#### excercise - apartments in Międzyzdroje- number of transactions depending on price "
   ]
  },
  {
   "cell_type": "code",
   "execution_count": 129,
   "metadata": {},
   "outputs": [],
   "source": [
    "df=pd.read_excel(r'/home/kinga/python/Wizaulizacje-Udemy/Miedzyzdroje.xlsx')"
   ]
  },
  {
   "cell_type": "code",
   "execution_count": 130,
   "metadata": {},
   "outputs": [
    {
     "data": {
      "text/plain": [
       "Index(['Adres', 'Rynek', 'Powierzchnia (m2)', 'Cena (zł)', 'Cena (zł/m2)',\n",
       "       'Forma własności', 'Liczba_pokoi', 'Pietro', 'Rodzaj zabudowy',\n",
       "       'Stan wykończenia', 'Opis'],\n",
       "      dtype='object')"
      ]
     },
     "execution_count": 130,
     "metadata": {},
     "output_type": "execute_result"
    }
   ],
   "source": [
    "df.columns"
   ]
  },
  {
   "cell_type": "code",
   "execution_count": 131,
   "metadata": {},
   "outputs": [
    {
     "data": {
      "text/plain": [
       "'file:///home/kinga/python/Wizaulizacje-Udemy/Miedzyzdroje.html'"
      ]
     },
     "execution_count": 131,
     "metadata": {},
     "output_type": "execute_result"
    }
   ],
   "source": [
    "data=[go.Histogram(x=df['Cena (zł/m2)'],xbins={'size':2000} )]\n",
    "\n",
    "layout=go.Layout(title='Liczba transakcji w określonych przedziałach cenowych',\n",
    "                xaxis={'title': 'przedział cenowy (zł/m2)'}, # słownik \n",
    "                 yaxis={'title':'liczba transakcji'},# słownik)\n",
    "                hovermode ='closest') \n",
    "\n",
    "fig=go.Figure(data=data, layout=layout)\n",
    "pyo.plot(fig, filename='Miedzyzdroje.html')"
   ]
  },
  {
   "cell_type": "code",
   "execution_count": null,
   "metadata": {},
   "outputs": [],
   "source": []
  },
  {
   "cell_type": "markdown",
   "metadata": {},
   "source": [
    "## 6. Distplots"
   ]
  },
  {
   "cell_type": "code",
   "execution_count": 132,
   "metadata": {},
   "outputs": [],
   "source": [
    "import plotly.offline as pyo\n",
    "import plotly.figure_factory as ff\n",
    "import pandas as pd"
   ]
  },
  {
   "cell_type": "code",
   "execution_count": 133,
   "metadata": {},
   "outputs": [],
   "source": [
    "transactions=pd.read_excel(r'/home/kinga/python/baza_bez_outliers.xlsx')"
   ]
  },
  {
   "cell_type": "code",
   "execution_count": 134,
   "metadata": {},
   "outputs": [
    {
     "data": {
      "text/plain": [
       "Index(['Unnamed: 0', 'index', 'Adres', 'Cena', 'Cena_lokalu', 'Cena_zł/m2',\n",
       "       'Data_transakcji', 'Forma obrotu', 'Funkcja dominująca',\n",
       "       'Funkcja podstawowa', 'Identyfikator', 'Ilość_izb', 'Kondygnacja',\n",
       "       'Liczba i rodzaj pomieszczeń przynależnych', 'Nr zmiany', 'Numer KW',\n",
       "       'Numer transakcji/wyceny', 'Obręb', 'Opis', 'Opis nieruchomości',\n",
       "       'Podstawa prawna', 'Pole powierzchni pomieszczeń przynależnych',\n",
       "       'powierzchnia_lokalu', 'Rodzaj nieruchomości', 'Rodzaj obciążenia',\n",
       "       'Rodzaj prawa objętego transakcją', 'Rodzaj zapisu', 'repertorium',\n",
       "       'Udział w prawie będący przedmiotem transakcji',\n",
       "       'Uzbrojenie istniejące', 'Uzbrojenie możliwe do podłączenia',\n",
       "       'Współrzędne geometryczne środka budynku', 'miasto', 'adres_miasto',\n",
       "       'ulica', 'numer_mieszkania', 'wspolrzedne', 'dlugosc', 'szerokosc'],\n",
       "      dtype='object')"
      ]
     },
     "execution_count": 134,
     "metadata": {},
     "output_type": "execute_result"
    }
   ],
   "source": [
    "transactions.columns"
   ]
  },
  {
   "cell_type": "code",
   "execution_count": 135,
   "metadata": {},
   "outputs": [
    {
     "data": {
      "text/plain": [
       "'file:///home/kinga/python/Wizaulizacje-Udemy/temp-plot.html'"
      ]
     },
     "execution_count": 135,
     "metadata": {},
     "output_type": "execute_result"
    }
   ],
   "source": [
    "hist_data=[transactions['Cena_zł/m2']]\n",
    "\n",
    "group_labels=['transactions']\n",
    "fig=ff.create_distplot(hist_data, group_labels, bin_size=500)\n",
    "pyo.plot(fig)"
   ]
  },
  {
   "cell_type": "markdown",
   "metadata": {},
   "source": [
    "#### excercise"
   ]
  },
  {
   "cell_type": "code",
   "execution_count": 136,
   "metadata": {},
   "outputs": [],
   "source": [
    "# Objective: Using the iris dataset, develop a Distplot that compares the petal lengths of each class.\n",
    "# File: '../data/iris.csv'\n",
    "# Fields: 'sepal_length','sepal_width','petal_length','petal_width','class'\n",
    "# Classes: 'Iris-setosa','Iris-versicolor','Iris-virginica'\n",
    "iris=pd.read_csv('/home/kinga/python/Wizaulizacje-Udemy/Plotly-Dashboards-with-Dash-master/Data/iris.csv')"
   ]
  },
  {
   "cell_type": "code",
   "execution_count": 137,
   "metadata": {},
   "outputs": [
    {
     "data": {
      "text/html": [
       "<div>\n",
       "<style scoped>\n",
       "    .dataframe tbody tr th:only-of-type {\n",
       "        vertical-align: middle;\n",
       "    }\n",
       "\n",
       "    .dataframe tbody tr th {\n",
       "        vertical-align: top;\n",
       "    }\n",
       "\n",
       "    .dataframe thead th {\n",
       "        text-align: right;\n",
       "    }\n",
       "</style>\n",
       "<table border=\"1\" class=\"dataframe\">\n",
       "  <thead>\n",
       "    <tr style=\"text-align: right;\">\n",
       "      <th></th>\n",
       "      <th>sepal_length</th>\n",
       "      <th>sepal_width</th>\n",
       "      <th>petal_length</th>\n",
       "      <th>petal_width</th>\n",
       "      <th>class</th>\n",
       "    </tr>\n",
       "  </thead>\n",
       "  <tbody>\n",
       "    <tr>\n",
       "      <th>0</th>\n",
       "      <td>5.1</td>\n",
       "      <td>3.5</td>\n",
       "      <td>1.4</td>\n",
       "      <td>0.2</td>\n",
       "      <td>Iris-setosa</td>\n",
       "    </tr>\n",
       "    <tr>\n",
       "      <th>1</th>\n",
       "      <td>4.9</td>\n",
       "      <td>3.0</td>\n",
       "      <td>1.4</td>\n",
       "      <td>0.2</td>\n",
       "      <td>Iris-setosa</td>\n",
       "    </tr>\n",
       "    <tr>\n",
       "      <th>2</th>\n",
       "      <td>4.7</td>\n",
       "      <td>3.2</td>\n",
       "      <td>1.3</td>\n",
       "      <td>0.2</td>\n",
       "      <td>Iris-setosa</td>\n",
       "    </tr>\n",
       "    <tr>\n",
       "      <th>3</th>\n",
       "      <td>4.6</td>\n",
       "      <td>3.1</td>\n",
       "      <td>1.5</td>\n",
       "      <td>0.2</td>\n",
       "      <td>Iris-setosa</td>\n",
       "    </tr>\n",
       "    <tr>\n",
       "      <th>4</th>\n",
       "      <td>5.0</td>\n",
       "      <td>3.6</td>\n",
       "      <td>1.4</td>\n",
       "      <td>0.2</td>\n",
       "      <td>Iris-setosa</td>\n",
       "    </tr>\n",
       "  </tbody>\n",
       "</table>\n",
       "</div>"
      ],
      "text/plain": [
       "   sepal_length  sepal_width  petal_length  petal_width        class\n",
       "0           5.1          3.5           1.4          0.2  Iris-setosa\n",
       "1           4.9          3.0           1.4          0.2  Iris-setosa\n",
       "2           4.7          3.2           1.3          0.2  Iris-setosa\n",
       "3           4.6          3.1           1.5          0.2  Iris-setosa\n",
       "4           5.0          3.6           1.4          0.2  Iris-setosa"
      ]
     },
     "execution_count": 137,
     "metadata": {},
     "output_type": "execute_result"
    }
   ],
   "source": [
    "iris.head()"
   ]
  },
  {
   "cell_type": "code",
   "execution_count": 138,
   "metadata": {},
   "outputs": [
    {
     "data": {
      "text/plain": [
       "'file:///home/kinga/python/Wizaulizacje-Udemy/temp-plot.html'"
      ]
     },
     "execution_count": 138,
     "metadata": {},
     "output_type": "execute_result"
    }
   ],
   "source": [
    "iris_setosa=iris[iris['class']=='Iris-setosa']['petal_length']\n",
    "iris_versicolor=iris[iris['class']=='Iris-versicolor']['petal_length']\n",
    "iris_virginica=iris[iris['class']=='Iris-virginica']['petal_length']\n",
    "\n",
    "hist_data=[iris_setosa,iris_versicolor,iris_virginica]\n",
    "group_labels=['iris_setosa', 'iris_versicolor','iris_virginica' ]\n",
    "fig=ff.create_distplot(hist_data, group_labels)\n",
    "pyo.plot(fig)"
   ]
  },
  {
   "cell_type": "code",
   "execution_count": null,
   "metadata": {},
   "outputs": [],
   "source": []
  },
  {
   "cell_type": "markdown",
   "metadata": {},
   "source": [
    "## 7.  Heatmap"
   ]
  },
  {
   "cell_type": "code",
   "execution_count": 139,
   "metadata": {},
   "outputs": [],
   "source": [
    "import pandas as pd\n",
    "import plotly.offline as pyo\n",
    "import plotly.graph_objs as go"
   ]
  },
  {
   "cell_type": "code",
   "execution_count": 140,
   "metadata": {},
   "outputs": [],
   "source": [
    "temperature=pd.read_csv('/home/kinga/python/Wizaulizacje-Udemy/Plotly-Dashboards-with-Dash-master/Data/2010SantaBarbaraCA.csv')"
   ]
  },
  {
   "cell_type": "code",
   "execution_count": 141,
   "metadata": {},
   "outputs": [
    {
     "data": {
      "text/html": [
       "<div>\n",
       "<style scoped>\n",
       "    .dataframe tbody tr th:only-of-type {\n",
       "        vertical-align: middle;\n",
       "    }\n",
       "\n",
       "    .dataframe tbody tr th {\n",
       "        vertical-align: top;\n",
       "    }\n",
       "\n",
       "    .dataframe thead th {\n",
       "        text-align: right;\n",
       "    }\n",
       "</style>\n",
       "<table border=\"1\" class=\"dataframe\">\n",
       "  <thead>\n",
       "    <tr style=\"text-align: right;\">\n",
       "      <th></th>\n",
       "      <th>LST_DATE</th>\n",
       "      <th>DAY</th>\n",
       "      <th>LST_TIME</th>\n",
       "      <th>T_HR_AVG</th>\n",
       "    </tr>\n",
       "  </thead>\n",
       "  <tbody>\n",
       "    <tr>\n",
       "      <th>0</th>\n",
       "      <td>20100601</td>\n",
       "      <td>TUESDAY</td>\n",
       "      <td>0:00</td>\n",
       "      <td>12.7</td>\n",
       "    </tr>\n",
       "    <tr>\n",
       "      <th>1</th>\n",
       "      <td>20100601</td>\n",
       "      <td>TUESDAY</td>\n",
       "      <td>1:00</td>\n",
       "      <td>12.7</td>\n",
       "    </tr>\n",
       "    <tr>\n",
       "      <th>2</th>\n",
       "      <td>20100601</td>\n",
       "      <td>TUESDAY</td>\n",
       "      <td>2:00</td>\n",
       "      <td>12.3</td>\n",
       "    </tr>\n",
       "    <tr>\n",
       "      <th>3</th>\n",
       "      <td>20100601</td>\n",
       "      <td>TUESDAY</td>\n",
       "      <td>3:00</td>\n",
       "      <td>12.5</td>\n",
       "    </tr>\n",
       "    <tr>\n",
       "      <th>4</th>\n",
       "      <td>20100601</td>\n",
       "      <td>TUESDAY</td>\n",
       "      <td>4:00</td>\n",
       "      <td>12.7</td>\n",
       "    </tr>\n",
       "  </tbody>\n",
       "</table>\n",
       "</div>"
      ],
      "text/plain": [
       "   LST_DATE      DAY LST_TIME  T_HR_AVG\n",
       "0  20100601  TUESDAY     0:00      12.7\n",
       "1  20100601  TUESDAY     1:00      12.7\n",
       "2  20100601  TUESDAY     2:00      12.3\n",
       "3  20100601  TUESDAY     3:00      12.5\n",
       "4  20100601  TUESDAY     4:00      12.7"
      ]
     },
     "execution_count": 141,
     "metadata": {},
     "output_type": "execute_result"
    }
   ],
   "source": [
    "temperature.head()"
   ]
  },
  {
   "cell_type": "code",
   "execution_count": 142,
   "metadata": {},
   "outputs": [
    {
     "data": {
      "text/plain": [
       "'file:///home/kinga/python/Wizaulizacje-Udemy/temp-plot.html'"
      ]
     },
     "execution_count": 142,
     "metadata": {},
     "output_type": "execute_result"
    }
   ],
   "source": [
    "data=[go.Heatmap(y=temperature['LST_TIME'],\n",
    "                x=temperature['DAY'],\n",
    "                z=temperature['T_HR_AVG'].values.tolist(),# z doesn't accept columns-ypu have to take values to list\n",
    "                colorscale='Jet')] \n",
    "\n",
    "layout=go.Layout(title='Average temperature')\n",
    "fig=go.Figure(data=data, layout=layout)\n",
    "pyo.plot(fig)"
   ]
  },
  {
   "cell_type": "markdown",
   "metadata": {},
   "source": [
    "#### excercise"
   ]
  },
  {
   "cell_type": "code",
   "execution_count": 143,
   "metadata": {},
   "outputs": [],
   "source": [
    "# Objective: Using the \"flights\" dataset available from the data folder as flights.csv\n",
    "# create a heatmap with the following parameters:\n",
    "# x-axis=\"year\"\n",
    "# y-axis=\"month\"\n",
    "# z-axis(color)=\"passengers\""
   ]
  },
  {
   "cell_type": "code",
   "execution_count": 144,
   "metadata": {},
   "outputs": [],
   "source": [
    "flights=pd.read_csv('/home/kinga/python/Wizaulizacje-Udemy/Plotly-Dashboards-with-Dash-master/Data/flights.csv')"
   ]
  },
  {
   "cell_type": "code",
   "execution_count": 145,
   "metadata": {},
   "outputs": [
    {
     "data": {
      "text/html": [
       "<div>\n",
       "<style scoped>\n",
       "    .dataframe tbody tr th:only-of-type {\n",
       "        vertical-align: middle;\n",
       "    }\n",
       "\n",
       "    .dataframe tbody tr th {\n",
       "        vertical-align: top;\n",
       "    }\n",
       "\n",
       "    .dataframe thead th {\n",
       "        text-align: right;\n",
       "    }\n",
       "</style>\n",
       "<table border=\"1\" class=\"dataframe\">\n",
       "  <thead>\n",
       "    <tr style=\"text-align: right;\">\n",
       "      <th></th>\n",
       "      <th>year</th>\n",
       "      <th>month</th>\n",
       "      <th>passengers</th>\n",
       "    </tr>\n",
       "  </thead>\n",
       "  <tbody>\n",
       "    <tr>\n",
       "      <th>0</th>\n",
       "      <td>1949</td>\n",
       "      <td>January</td>\n",
       "      <td>112</td>\n",
       "    </tr>\n",
       "    <tr>\n",
       "      <th>1</th>\n",
       "      <td>1949</td>\n",
       "      <td>February</td>\n",
       "      <td>118</td>\n",
       "    </tr>\n",
       "    <tr>\n",
       "      <th>2</th>\n",
       "      <td>1949</td>\n",
       "      <td>March</td>\n",
       "      <td>132</td>\n",
       "    </tr>\n",
       "    <tr>\n",
       "      <th>3</th>\n",
       "      <td>1949</td>\n",
       "      <td>April</td>\n",
       "      <td>129</td>\n",
       "    </tr>\n",
       "    <tr>\n",
       "      <th>4</th>\n",
       "      <td>1949</td>\n",
       "      <td>May</td>\n",
       "      <td>121</td>\n",
       "    </tr>\n",
       "  </tbody>\n",
       "</table>\n",
       "</div>"
      ],
      "text/plain": [
       "   year     month  passengers\n",
       "0  1949   January         112\n",
       "1  1949  February         118\n",
       "2  1949     March         132\n",
       "3  1949     April         129\n",
       "4  1949       May         121"
      ]
     },
     "execution_count": 145,
     "metadata": {},
     "output_type": "execute_result"
    }
   ],
   "source": [
    "flights.head()"
   ]
  },
  {
   "cell_type": "code",
   "execution_count": 146,
   "metadata": {},
   "outputs": [
    {
     "data": {
      "text/plain": [
       "'file:///home/kinga/python/Wizaulizacje-Udemy/temp-plot.html'"
      ]
     },
     "execution_count": 146,
     "metadata": {},
     "output_type": "execute_result"
    }
   ],
   "source": [
    "import plotly.offline as pyo\n",
    "import plotly.graph_objs as go\n",
    "\n",
    "data=[go.Heatmap(x=flights['year'],\n",
    "                  y=flights['month'],\n",
    "                  z=flights['passengers'].values.tolist())]\n",
    "\n",
    "layout=go.Layout(title='Passengers per month')\n",
    "fig=go.Figure(data=data, layout=layout)\n",
    "pyo.plot(fig)"
   ]
  },
  {
   "cell_type": "code",
   "execution_count": null,
   "metadata": {},
   "outputs": [],
   "source": []
  },
  {
   "cell_type": "markdown",
   "metadata": {},
   "source": [
    "## 8. Dash"
   ]
  },
  {
   "cell_type": "code",
   "execution_count": 147,
   "metadata": {},
   "outputs": [],
   "source": [
    "import dash\n",
    "import dash_core_components as dcc\n",
    "import dash_html_components as html"
   ]
  },
  {
   "cell_type": "code",
   "execution_count": 148,
   "metadata": {},
   "outputs": [
    {
     "name": "stderr",
     "output_type": "stream",
     "text": [
      " * Running on http://127.0.0.1:8050/ (Press CTRL+C to quit)\n",
      "127.0.0.1 - - [27/Feb/2019 22:15:10] \"GET / HTTP/1.1\" 200 -\n",
      "127.0.0.1 - - [27/Feb/2019 22:15:12] \"GET /_favicon.ico HTTP/1.1\" 200 -\n",
      "127.0.0.1 - - [27/Feb/2019 22:15:12] \"GET /_dash-layout HTTP/1.1\" 200 -\n",
      "127.0.0.1 - - [27/Feb/2019 22:15:12] \"GET /_dash-dependencies HTTP/1.1\" 200 -\n"
     ]
    }
   ],
   "source": [
    "app = dash.Dash()\n",
    "\n",
    "app.layout=html.Div(children=[\n",
    "    html.H1('Hello Dash'), # main header\n",
    "    html.Div('My first web dashboard with Python'), # subtitle\n",
    "                dcc.Graph(id='example',\n",
    "                 figure={'data':[\n",
    "                 {'x':[1,2,3], 'y':[4,1,2], 'type': 'bar', 'name':'SF'},\n",
    "                 {'x':[1,2,3], 'y':[2,4,5], 'type': 'bar', 'name':'NYC'}],\n",
    "                'layout': {'title': 'Bar plot'}}) ]) # plot's title \n",
    "\n",
    "\n",
    "if __name__=='__main__':\n",
    "    app.run_server()"
   ]
  },
  {
   "cell_type": "code",
   "execution_count": 149,
   "metadata": {},
   "outputs": [
    {
     "name": "stdout",
     "output_type": "stream",
     "text": [
      "Overwriting server.py\n"
     ]
    }
   ],
   "source": [
    "%%writefile server.py\n",
    "# the same as above but with styles\n",
    "import dash\n",
    "import dash_core_components as dcc\n",
    "import dash_html_components as html\n",
    "app = dash.Dash()\n",
    "\n",
    "colors={'background': 'green', 'font': 'yellow'}\n",
    "\n",
    "app.layout=html.Div(children=[ # Div is a list html.Div(children=[ .... ])\n",
    "    html.H1('Hello Dash', # main header\n",
    "            style={'textAlign':'center', 'color':colors['font']}), # H1's style \n",
    "    \n",
    "    html.Div('My first web dashboard with Python',\n",
    "             style={'textAlign':'center', 'color':'red'} ), # subtitle's style\n",
    "                \n",
    "    dcc.Graph(id='example',\n",
    "                 figure={'data':[\n",
    "                 {'x':[1,2,3], 'y':[4,1,2],\\\n",
    "                              'type': 'bar',\\\n",
    "                              'name':'SF'},\n",
    "                 {'x':[1,2,3], 'y':[2,4,5], 'type': 'bar', 'name':'NYC'}],\n",
    "                'layout': {'title': 'Bar plot',# plot's title \n",
    "                          'plot_bgcolor':colors['background'], # plot's style \n",
    "                          'paper_bgcolor':'black',\n",
    "                          'font':colors['font']}}) ],\n",
    "                        \n",
    "    style={'color':colors['font'], 'backgroundColor':colors['background']}) # whole layout style\n",
    "\n",
    "\n",
    "if __name__=='__main__':\n",
    "    app.run_server(host='192.168.0.103')"
   ]
  },
  {
   "cell_type": "code",
   "execution_count": 150,
   "metadata": {},
   "outputs": [
    {
     "name": "stderr",
     "output_type": "stream",
     "text": [
      " * Running on http://127.0.0.1:8050/ (Press CTRL+C to quit)\n",
      "127.0.0.1 - - [27/Feb/2019 22:16:09] \"GET / HTTP/1.1\" 200 -\n",
      "127.0.0.1 - - [27/Feb/2019 22:16:11] \"GET /_dash-layout HTTP/1.1\" 200 -\n",
      "127.0.0.1 - - [27/Feb/2019 22:16:11] \"GET /_dash-dependencies HTTP/1.1\" 200 -\n"
     ]
    }
   ],
   "source": [
    "\n",
    "import dash\n",
    "import dash_core_components as dcc\n",
    "import dash_html_components as html\n",
    "\n",
    "app = dash.Dash()\n",
    "\n",
    "app.layout = html.Div(children=[\n",
    "    html.H1(children='Hello Dash'),\n",
    "    html.Div(children='Dash: A web application framework for Python.'),\n",
    "\n",
    "    dcc.Graph(\n",
    "        id='example-graph',\n",
    "        figure={\n",
    "            'data': [\n",
    "                {'x': [1, 2, 3], 'y': [4, 1, 2], 'type': 'bar', 'name': 'SF'},\n",
    "                {'x': [1, 2, 3], 'y': [2, 4, 5], 'type': 'bar', 'name': u'Montréal'},\n",
    "            ],\n",
    "            'layout': {\n",
    "                'title': 'Dash Data Visualization'\n",
    "            }\n",
    "        }\n",
    "    )\n",
    "])\n",
    "\n",
    "if __name__ == '__main__':\n",
    "    app.run_server()"
   ]
  },
  {
   "cell_type": "markdown",
   "metadata": {},
   "source": [
    "###  Dash  with plotly "
   ]
  },
  {
   "cell_type": "code",
   "execution_count": 151,
   "metadata": {},
   "outputs": [],
   "source": [
    "import dash\n",
    "import dash_core_components as dcc\n",
    "import dash_html_components as html\n",
    "import pandas as pd\n",
    "import plotly.offline as pyo\n",
    "import plotly.graph_objs as go"
   ]
  },
  {
   "cell_type": "code",
   "execution_count": 152,
   "metadata": {},
   "outputs": [],
   "source": [
    "transactions=pd.read_excel(r'/home/kinga/python/baza_bez_outliers.xlsx')"
   ]
  },
  {
   "cell_type": "code",
   "execution_count": 153,
   "metadata": {},
   "outputs": [
    {
     "data": {
      "text/plain": [
       "Index(['Unnamed: 0', 'index', 'Adres', 'Cena', 'Cena_lokalu', 'Cena_zł/m2',\n",
       "       'Data_transakcji', 'Forma obrotu', 'Funkcja dominująca',\n",
       "       'Funkcja podstawowa', 'Identyfikator', 'Ilość_izb', 'Kondygnacja',\n",
       "       'Liczba i rodzaj pomieszczeń przynależnych', 'Nr zmiany', 'Numer KW',\n",
       "       'Numer transakcji/wyceny', 'Obręb', 'Opis', 'Opis nieruchomości',\n",
       "       'Podstawa prawna', 'Pole powierzchni pomieszczeń przynależnych',\n",
       "       'powierzchnia_lokalu', 'Rodzaj nieruchomości', 'Rodzaj obciążenia',\n",
       "       'Rodzaj prawa objętego transakcją', 'Rodzaj zapisu', 'repertorium',\n",
       "       'Udział w prawie będący przedmiotem transakcji',\n",
       "       'Uzbrojenie istniejące', 'Uzbrojenie możliwe do podłączenia',\n",
       "       'Współrzędne geometryczne środka budynku', 'miasto', 'adres_miasto',\n",
       "       'ulica', 'numer_mieszkania', 'wspolrzedne', 'dlugosc', 'szerokosc'],\n",
       "      dtype='object')"
      ]
     },
     "execution_count": 153,
     "metadata": {},
     "output_type": "execute_result"
    }
   ],
   "source": [
    "transactions.columns"
   ]
  },
  {
   "cell_type": "code",
   "execution_count": 154,
   "metadata": {},
   "outputs": [
    {
     "name": "stderr",
     "output_type": "stream",
     "text": [
      " * Running on http://127.0.0.1:8050/ (Press CTRL+C to quit)\n",
      "127.0.0.1 - - [27/Feb/2019 22:17:05] \"GET / HTTP/1.1\" 200 -\n",
      "127.0.0.1 - - [27/Feb/2019 22:17:05] \"GET /_favicon.ico HTTP/1.1\" 200 -\n",
      "127.0.0.1 - - [27/Feb/2019 22:17:06] \"GET /_dash-layout HTTP/1.1\" 200 -\n",
      "127.0.0.1 - - [27/Feb/2019 22:17:06] \"GET /_dash-dependencies HTTP/1.1\" 200 -\n"
     ]
    }
   ],
   "source": [
    "data=go.Scatter(x=transactions['powierzchnia_lokalu'].values.tolist(),\n",
    "                y=transactions['Cena_zł/m2'].values.tolist(),\n",
    "                mode='markers',\n",
    "                marker={'symbol':'pentagon'})\n",
    "layout=go.Layout(title= 'dependence of price on the surface')\n",
    "\n",
    "app=dash.Dash()\n",
    "app.layout=html.Div(children=[\n",
    "    html.H1('Prices of properties', style={'color':'blue', 'textAlign':'center'}),\n",
    "         \n",
    "           \n",
    "    dcc.Graph(id='scatter',\n",
    "             figure={\n",
    "                 'data':[data],\n",
    "                 'layout': layout})\n",
    "    \n",
    "])\n",
    "if __name__=='__main__':\n",
    "    app.run_server()"
   ]
  },
  {
   "cell_type": "code",
   "execution_count": 155,
   "metadata": {},
   "outputs": [
    {
     "name": "stderr",
     "output_type": "stream",
     "text": [
      " * Running on http://127.0.0.1:8050/ (Press CTRL+C to quit)\n",
      "127.0.0.1 - - [27/Feb/2019 22:17:32] \"GET / HTTP/1.1\" 200 -\n",
      "127.0.0.1 - - [27/Feb/2019 22:17:32] \"GET /_favicon.ico HTTP/1.1\" 200 -\n",
      "127.0.0.1 - - [27/Feb/2019 22:17:33] \"GET /_dash-layout HTTP/1.1\" 200 -\n",
      "127.0.0.1 - - [27/Feb/2019 22:17:33] \"GET /_dash-dependencies HTTP/1.1\" 200 -\n"
     ]
    }
   ],
   "source": [
    "import dash\n",
    "import dash_core_components as dcc\n",
    "import dash_html_components as html\n",
    "import plotly.graph_objs as go\n",
    "import numpy as np\n",
    "\n",
    "app = dash.Dash()\n",
    "\n",
    "np.random.seed(42)\n",
    "random_x = np.random.randint(1,101,100)\n",
    "random_y = np.random.randint(1,101,100)\n",
    "\n",
    "app.layout = html.Div([\n",
    "    dcc.Graph(\n",
    "        id='scatter3',\n",
    "        figure={\n",
    "            'data': [\n",
    "                go.Scatter(\n",
    "                    x = random_x,\n",
    "                    y = random_y,\n",
    "                    mode = 'markers',\n",
    "                    marker = {\n",
    "                        'size': 12,\n",
    "                        'color': 'rgb(51,204,153)',\n",
    "                        'symbol': 'pentagon',\n",
    "                        'line': {'width': 2}\n",
    "                        }\n",
    "                )\n",
    "            ],\n",
    "            'layout': go.Layout(\n",
    "                title = 'Random Data Scatterplot',\n",
    "                xaxis = {'title': 'Some random x-values'},\n",
    "                yaxis = {'title': 'Some random y-values'},\n",
    "                hovermode='closest'\n",
    "            )\n",
    "        }\n",
    "    )\n",
    "])\n",
    "\n",
    "if __name__ == '__main__':\n",
    "    app.run_server()"
   ]
  },
  {
   "cell_type": "code",
   "execution_count": null,
   "metadata": {},
   "outputs": [],
   "source": []
  }
 ],
 "metadata": {
  "kernelspec": {
   "display_name": "Python 3",
   "language": "python",
   "name": "python3"
  },
  "language_info": {
   "codemirror_mode": {
    "name": "ipython",
    "version": 3
   },
   "file_extension": ".py",
   "mimetype": "text/x-python",
   "name": "python",
   "nbconvert_exporter": "python",
   "pygments_lexer": "ipython3",
   "version": "3.6.8"
  }
 },
 "nbformat": 4,
 "nbformat_minor": 2
}
