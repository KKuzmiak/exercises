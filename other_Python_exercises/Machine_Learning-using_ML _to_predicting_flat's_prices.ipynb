{
 "cells": [
  {
   "cell_type": "code",
   "execution_count": 24,
   "metadata": {},
   "outputs": [],
   "source": [
    "# importing the libraries\n",
    "import numpy as np\n",
    "import pandas as pd\n",
    "import matplotlib.pyplot as plt\n"
   ]
  },
  {
   "cell_type": "code",
   "execution_count": 146,
   "metadata": {},
   "outputs": [],
   "source": [
    "# importing te data\n",
    "data=pd.read_excel('/home/kinga/python/Machine_Learning/transakcje_mieszkania.xlsx')"
   ]
  },
  {
   "cell_type": "markdown",
   "metadata": {},
   "source": [
    "# 1. Data preprocessing"
   ]
  },
  {
   "cell_type": "markdown",
   "metadata": {},
   "source": [
    "### 1.1. Clearing data, getting rid of unwanted data"
   ]
  },
  {
   "cell_type": "code",
   "execution_count": 147,
   "metadata": {
    "scrolled": true
   },
   "outputs": [
    {
     "data": {
      "text/plain": [
       "Index(['Unnamed: 0', 'index', 'Adres', 'Cena', 'Cena_lokalu', 'Cena_zł/m2',\n",
       "       'Data_transakcji', 'Forma obrotu', 'Funkcja dominująca',\n",
       "       'Funkcja podstawowa', 'Identyfikator', 'Ilość_izb', 'Kondygnacja',\n",
       "       'Liczba i rodzaj pomieszczeń przynależnych',\n",
       "       'Pomieszczenia przynależne', 'Nr zmiany', 'Numer KW',\n",
       "       'Numer transakcji/wyceny', 'Obręb', 'Opis', 'Opis nieruchomości',\n",
       "       'Podstawa prawna', 'Pole powierzchni pomieszczeń przynależnych',\n",
       "       'powierzchnia_lokalu', 'Rodzaj nieruchomości', 'Rodzaj obciążenia',\n",
       "       'Rodzaj prawa objętego transakcją', 'Rodzaj zapisu', 'repertorium',\n",
       "       'Udział w prawie będący przedmiotem transakcji',\n",
       "       'Uzbrojenie istniejące', 'Uzbrojenie możliwe do podłączenia',\n",
       "       'Współrzędne geometryczne środka budynku', 'miasto', 'adres_miasto',\n",
       "       'ulica', 'numer_mieszkania', 'wspolrzedne', 'dlugosc', 'szerokosc'],\n",
       "      dtype='object')"
      ]
     },
     "execution_count": 147,
     "metadata": {},
     "output_type": "execute_result"
    }
   ],
   "source": [
    "data.columns"
   ]
  },
  {
   "cell_type": "code",
   "execution_count": 148,
   "metadata": {},
   "outputs": [],
   "source": [
    "# choosing columns that I'll need for further analysys\n",
    "data=data[['Cena_zł/m2','Data_transakcji', 'Ilość_izb', 'Kondygnacja',\n",
    "       'Pomieszczenia przynależne', 'Pole powierzchni pomieszczeń przynależnych','Obręb',\n",
    "       'powierzchnia_lokalu',\n",
    "       'Udział w prawie będący przedmiotem transakcji', 'miasto',\n",
    "       'ulica', 'wspolrzedne', 'dlugosc', 'szerokosc', 'Opis', 'Opis nieruchomości', 'Podstawa prawna']]"
   ]
  },
  {
   "cell_type": "code",
   "execution_count": 149,
   "metadata": {},
   "outputs": [
    {
     "data": {
      "text/html": [
       "<div>\n",
       "<style scoped>\n",
       "    .dataframe tbody tr th:only-of-type {\n",
       "        vertical-align: middle;\n",
       "    }\n",
       "\n",
       "    .dataframe tbody tr th {\n",
       "        vertical-align: top;\n",
       "    }\n",
       "\n",
       "    .dataframe thead th {\n",
       "        text-align: right;\n",
       "    }\n",
       "</style>\n",
       "<table border=\"1\" class=\"dataframe\">\n",
       "  <thead>\n",
       "    <tr style=\"text-align: right;\">\n",
       "      <th></th>\n",
       "      <th>Cena_zł/m2</th>\n",
       "      <th>Data_transakcji</th>\n",
       "      <th>Ilość_izb</th>\n",
       "      <th>Kondygnacja</th>\n",
       "      <th>Pomieszczenia przynależne</th>\n",
       "      <th>Pole powierzchni pomieszczeń przynależnych</th>\n",
       "      <th>Obręb</th>\n",
       "      <th>powierzchnia_lokalu</th>\n",
       "      <th>Udział w prawie będący przedmiotem transakcji</th>\n",
       "      <th>miasto</th>\n",
       "      <th>ulica</th>\n",
       "      <th>wspolrzedne</th>\n",
       "      <th>dlugosc</th>\n",
       "      <th>szerokosc</th>\n",
       "      <th>Opis</th>\n",
       "      <th>Opis nieruchomości</th>\n",
       "      <th>Podstawa prawna</th>\n",
       "    </tr>\n",
       "  </thead>\n",
       "  <tbody>\n",
       "    <tr>\n",
       "      <th>358</th>\n",
       "      <td>5109.38</td>\n",
       "      <td>25.11.2015</td>\n",
       "      <td>5.0</td>\n",
       "      <td>NaN</td>\n",
       "      <td>piwnica</td>\n",
       "      <td>8.3</td>\n",
       "      <td>CHARTOWO</td>\n",
       "      <td>64.0</td>\n",
       "      <td>1/10</td>\n",
       "      <td>Poznań</td>\n",
       "      <td>ul. Bliźniąt 3</td>\n",
       "      <td>52.3936962, 16.982495</td>\n",
       "      <td>52.393696</td>\n",
       "      <td>16.982495</td>\n",
       "      <td>NaN</td>\n",
       "      <td>NaN</td>\n",
       "      <td>Umowa (Akt notarialny)</td>\n",
       "    </tr>\n",
       "    <tr>\n",
       "      <th>482</th>\n",
       "      <td>5714.29</td>\n",
       "      <td>04.11.2015</td>\n",
       "      <td>3.0</td>\n",
       "      <td>8.0</td>\n",
       "      <td>piwnica</td>\n",
       "      <td>1.7</td>\n",
       "      <td>CHARTOWO</td>\n",
       "      <td>45.5</td>\n",
       "      <td>1/1</td>\n",
       "      <td>Poznań</td>\n",
       "      <td>os. Tysiąclecia 14</td>\n",
       "      <td>52.39263235, 16.9757012886888</td>\n",
       "      <td>52.392632</td>\n",
       "      <td>16.975701</td>\n",
       "      <td>NaN</td>\n",
       "      <td>NaN</td>\n",
       "      <td>Umowa (Akt notarialny)</td>\n",
       "    </tr>\n",
       "    <tr>\n",
       "      <th>541</th>\n",
       "      <td>4796.88</td>\n",
       "      <td>28.10.2015</td>\n",
       "      <td>5.0</td>\n",
       "      <td>1.0</td>\n",
       "      <td>piwnica</td>\n",
       "      <td>5.2</td>\n",
       "      <td>CHARTOWO</td>\n",
       "      <td>64.0</td>\n",
       "      <td>1/1</td>\n",
       "      <td>Poznań</td>\n",
       "      <td>ul. Bliźniąt 3</td>\n",
       "      <td>52.3936962, 16.982495</td>\n",
       "      <td>52.393696</td>\n",
       "      <td>16.982495</td>\n",
       "      <td>NaN</td>\n",
       "      <td>NaN</td>\n",
       "      <td>Umowa (Akt notarialny)</td>\n",
       "    </tr>\n",
       "    <tr>\n",
       "      <th>721</th>\n",
       "      <td>4960.25</td>\n",
       "      <td>05.10.2015</td>\n",
       "      <td>4.0</td>\n",
       "      <td>7.0</td>\n",
       "      <td>brak</td>\n",
       "      <td>0.0</td>\n",
       "      <td>CHARTOWO</td>\n",
       "      <td>62.9</td>\n",
       "      <td>1/1</td>\n",
       "      <td>Poznań</td>\n",
       "      <td>os. Rusa 126</td>\n",
       "      <td>52.3892672, 16.9854845226663</td>\n",
       "      <td>52.389267</td>\n",
       "      <td>16.985485</td>\n",
       "      <td>NaN</td>\n",
       "      <td>NaN</td>\n",
       "      <td>Umowa (Akt notarialny)</td>\n",
       "    </tr>\n",
       "    <tr>\n",
       "      <th>742</th>\n",
       "      <td>3797.47</td>\n",
       "      <td>01.10.2015</td>\n",
       "      <td>4.0</td>\n",
       "      <td>6.0</td>\n",
       "      <td>piwnica</td>\n",
       "      <td>2.2</td>\n",
       "      <td>CHARTOWO</td>\n",
       "      <td>79.0</td>\n",
       "      <td>4/15</td>\n",
       "      <td>Poznań</td>\n",
       "      <td>os. Tysiąclecia 70</td>\n",
       "      <td>52.39263235, 16.9757012886888</td>\n",
       "      <td>52.392632</td>\n",
       "      <td>16.975701</td>\n",
       "      <td>NaN</td>\n",
       "      <td>NaN</td>\n",
       "      <td>Umowa (Akt notarialny)</td>\n",
       "    </tr>\n",
       "  </tbody>\n",
       "</table>\n",
       "</div>"
      ],
      "text/plain": [
       "     Cena_zł/m2 Data_transakcji  Ilość_izb  Kondygnacja  \\\n",
       "358     5109.38      25.11.2015        5.0          NaN   \n",
       "482     5714.29      04.11.2015        3.0          8.0   \n",
       "541     4796.88      28.10.2015        5.0          1.0   \n",
       "721     4960.25      05.10.2015        4.0          7.0   \n",
       "742     3797.47      01.10.2015        4.0          6.0   \n",
       "\n",
       "    Pomieszczenia przynależne  Pole powierzchni pomieszczeń przynależnych  \\\n",
       "358                   piwnica                                         8.3   \n",
       "482                   piwnica                                         1.7   \n",
       "541                   piwnica                                         5.2   \n",
       "721                      brak                                         0.0   \n",
       "742                   piwnica                                         2.2   \n",
       "\n",
       "        Obręb  powierzchnia_lokalu  \\\n",
       "358  CHARTOWO                 64.0   \n",
       "482  CHARTOWO                 45.5   \n",
       "541  CHARTOWO                 64.0   \n",
       "721  CHARTOWO                 62.9   \n",
       "742  CHARTOWO                 79.0   \n",
       "\n",
       "    Udział w prawie będący przedmiotem transakcji  miasto               ulica  \\\n",
       "358                                          1/10  Poznań      ul. Bliźniąt 3   \n",
       "482                                           1/1  Poznań  os. Tysiąclecia 14   \n",
       "541                                           1/1  Poznań      ul. Bliźniąt 3   \n",
       "721                                           1/1  Poznań        os. Rusa 126   \n",
       "742                                          4/15  Poznań  os. Tysiąclecia 70   \n",
       "\n",
       "                       wspolrzedne    dlugosc  szerokosc Opis  \\\n",
       "358          52.3936962, 16.982495  52.393696  16.982495  NaN   \n",
       "482  52.39263235, 16.9757012886888  52.392632  16.975701  NaN   \n",
       "541          52.3936962, 16.982495  52.393696  16.982495  NaN   \n",
       "721   52.3892672, 16.9854845226663  52.389267  16.985485  NaN   \n",
       "742  52.39263235, 16.9757012886888  52.392632  16.975701  NaN   \n",
       "\n",
       "    Opis nieruchomości         Podstawa prawna  \n",
       "358                NaN  Umowa (Akt notarialny)  \n",
       "482                NaN  Umowa (Akt notarialny)  \n",
       "541                NaN  Umowa (Akt notarialny)  \n",
       "721                NaN  Umowa (Akt notarialny)  \n",
       "742                NaN  Umowa (Akt notarialny)  "
      ]
     },
     "execution_count": 149,
     "metadata": {},
     "output_type": "execute_result"
    }
   ],
   "source": [
    "data.head()"
   ]
  },
  {
   "cell_type": "code",
   "execution_count": 150,
   "metadata": {
    "scrolled": true
   },
   "outputs": [
    {
     "data": {
      "text/plain": [
       "array([nan, 'do remontu', 'do kapitalnego remontu',\n",
       "       'Lokal do generalnego remontu', 'Lokal do kapitalnego remontu',\n",
       "       'lokal do kapitalnego remontu', 'BD, lokal do remontu',\n",
       "       'do generalnego remontu',\n",
       "       '136536zł stanowi wynagrodzenie spółki zbywajacej za',\n",
       "       'lokal do generalnego remontu', 'lokal do remontu',\n",
       "       'Lokal do remontu.'], dtype=object)"
      ]
     },
     "execution_count": 150,
     "metadata": {},
     "output_type": "execute_result"
    }
   ],
   "source": [
    "# some data has a description so I check what the description is\n",
    "# I don't want in my data flats that are to renovation co later on I will remove them\n",
    "data['Opis'].unique()"
   ]
  },
  {
   "cell_type": "code",
   "execution_count": 151,
   "metadata": {},
   "outputs": [
    {
     "data": {
      "text/plain": [
       "array([nan, 'Lokal do kapitalnego remontu.',\n",
       "       'lokal do kapitalnego remontu',\n",
       "       'Lokal przeznaczony do kapitalnego remontu', 'Lokal do remontu.',\n",
       "       'do remontu', 'Lokal do remontu',\n",
       "       'brak możliwości dopisania ceny 333412.20', 'lokal do remontu.',\n",
       "       'wartość po zakończeniu remontu 649699.00', 'Do remontu.',\n",
       "       'Lokal w oficynie kamienicy.', 'cena 275418.00', 'zabytek',\n",
       "       'wymaga remontu', 'do kapitalnego remontu',\n",
       "       'Lokal w stanie deweloperskim', 'poddasze',\n",
       "       'Lokal przeznaczony do remontu',\n",
       "       'Cena 80000,00 dotyczy tylko udziału 4/12. Udział 1/12 dotyczy',\n",
       "       'lokal do remontu'], dtype=object)"
      ]
     },
     "execution_count": 151,
     "metadata": {},
     "output_type": "execute_result"
    }
   ],
   "source": [
    "data['Opis nieruchomości'].unique()"
   ]
  },
  {
   "cell_type": "code",
   "execution_count": 152,
   "metadata": {},
   "outputs": [
    {
     "data": {
      "text/plain": [
       "array(['1/10', '1/1', '4/15', '1/2', '9/10', '3/6', '2/12', '1/4', '1/3',\n",
       "       '1/12', '/', '3/4', '1433/5000', '5/100', '1/8', '99/100',\n",
       "       '120/300', '7300/21024', '1/6', '50/100', '4/12', '56/100', '6/8',\n",
       "       '4/10', '2/5', '43/100', '2/10'], dtype=object)"
      ]
     },
     "execution_count": 152,
     "metadata": {},
     "output_type": "execute_result"
    }
   ],
   "source": [
    "# I check whether the entire property was the subject of the purchase or just a share in the property. \n",
    "# I'm interested only in transaction marked as share '1/1'\n",
    "data['Udział w prawie będący przedmiotem transakcji'].unique()"
   ]
  },
  {
   "cell_type": "code",
   "execution_count": 153,
   "metadata": {},
   "outputs": [
    {
     "data": {
      "text/plain": [
       "array(['Umowa (Akt notarialny)', 'Orzeczenie sądu, postanowienie, wyrok',\n",
       "       '(n) Orzeczenie sądu (postanowienie,wyrok)',\n",
       "       'Zawiadomienie z wydziału KW sądu rejonowego',\n",
       "       'Akt własności ziemi', 'Inny dokument'], dtype=object)"
      ]
     },
     "execution_count": 153,
     "metadata": {},
     "output_type": "execute_result"
    }
   ],
   "source": [
    "# checking basis of purchase. I want't only 'Umowa (Akt notarialny)'\n",
    "data['Podstawa prawna'].unique()"
   ]
  },
  {
   "cell_type": "code",
   "execution_count": 154,
   "metadata": {},
   "outputs": [],
   "source": [
    "# Now I select data to meet specific conditions:\n",
    "# 1.remove flats which need renovation\n",
    "# 2.select 'Udział w prawie będący przedmiotem transakcji' = 1/1\n",
    "# 3.select 'Podstawa prawna'= 'Umowa (Akt notarialny)''\n",
    "data=data.loc[(~data['Opis nieruchomości'].str.contains('remont', na=False)) &\n",
    "         (~data['Opis'].str.contains('remont', na=False)) &\n",
    "         (data['Podstawa prawna']=='Umowa (Akt notarialny)') &  \n",
    "         (data['Udział w prawie będący przedmiotem transakcji'] =='1/1')]"
   ]
  },
  {
   "cell_type": "code",
   "execution_count": 155,
   "metadata": {
    "scrolled": true
   },
   "outputs": [
    {
     "data": {
      "text/html": [
       "<div>\n",
       "<style scoped>\n",
       "    .dataframe tbody tr th:only-of-type {\n",
       "        vertical-align: middle;\n",
       "    }\n",
       "\n",
       "    .dataframe tbody tr th {\n",
       "        vertical-align: top;\n",
       "    }\n",
       "\n",
       "    .dataframe thead th {\n",
       "        text-align: right;\n",
       "    }\n",
       "</style>\n",
       "<table border=\"1\" class=\"dataframe\">\n",
       "  <thead>\n",
       "    <tr style=\"text-align: right;\">\n",
       "      <th></th>\n",
       "      <th>Cena_zł/m2</th>\n",
       "      <th>Ilość_izb</th>\n",
       "      <th>Kondygnacja</th>\n",
       "      <th>Pole powierzchni pomieszczeń przynależnych</th>\n",
       "      <th>powierzchnia_lokalu</th>\n",
       "      <th>dlugosc</th>\n",
       "      <th>szerokosc</th>\n",
       "    </tr>\n",
       "  </thead>\n",
       "  <tbody>\n",
       "    <tr>\n",
       "      <th>count</th>\n",
       "      <td>2375.000000</td>\n",
       "      <td>2369.000000</td>\n",
       "      <td>2031.000000</td>\n",
       "      <td>2375.000000</td>\n",
       "      <td>2375.000000</td>\n",
       "      <td>2375.000000</td>\n",
       "      <td>2375.000000</td>\n",
       "    </tr>\n",
       "    <tr>\n",
       "      <th>mean</th>\n",
       "      <td>5200.680775</td>\n",
       "      <td>2.975939</td>\n",
       "      <td>3.023880</td>\n",
       "      <td>2.072488</td>\n",
       "      <td>52.772307</td>\n",
       "      <td>52.407843</td>\n",
       "      <td>16.928503</td>\n",
       "    </tr>\n",
       "    <tr>\n",
       "      <th>std</th>\n",
       "      <td>1118.296166</td>\n",
       "      <td>1.025772</td>\n",
       "      <td>2.648458</td>\n",
       "      <td>4.964128</td>\n",
       "      <td>21.275253</td>\n",
       "      <td>0.061629</td>\n",
       "      <td>0.306132</td>\n",
       "    </tr>\n",
       "    <tr>\n",
       "      <th>min</th>\n",
       "      <td>1572.420000</td>\n",
       "      <td>1.000000</td>\n",
       "      <td>-1.000000</td>\n",
       "      <td>0.000000</td>\n",
       "      <td>11.700000</td>\n",
       "      <td>51.675340</td>\n",
       "      <td>14.538036</td>\n",
       "    </tr>\n",
       "    <tr>\n",
       "      <th>25%</th>\n",
       "      <td>4490.605000</td>\n",
       "      <td>2.000000</td>\n",
       "      <td>1.000000</td>\n",
       "      <td>0.000000</td>\n",
       "      <td>38.095000</td>\n",
       "      <td>52.390093</td>\n",
       "      <td>16.894920</td>\n",
       "    </tr>\n",
       "    <tr>\n",
       "      <th>50%</th>\n",
       "      <td>5095.140000</td>\n",
       "      <td>3.000000</td>\n",
       "      <td>2.000000</td>\n",
       "      <td>0.000000</td>\n",
       "      <td>48.700000</td>\n",
       "      <td>52.404103</td>\n",
       "      <td>16.914878</td>\n",
       "    </tr>\n",
       "    <tr>\n",
       "      <th>75%</th>\n",
       "      <td>5916.780000</td>\n",
       "      <td>4.000000</td>\n",
       "      <td>4.000000</td>\n",
       "      <td>2.620000</td>\n",
       "      <td>62.195000</td>\n",
       "      <td>52.426153</td>\n",
       "      <td>16.940154</td>\n",
       "    </tr>\n",
       "    <tr>\n",
       "      <th>max</th>\n",
       "      <td>9288.300000</td>\n",
       "      <td>8.000000</td>\n",
       "      <td>16.000000</td>\n",
       "      <td>110.200000</td>\n",
       "      <td>246.860000</td>\n",
       "      <td>53.441572</td>\n",
       "      <td>22.309110</td>\n",
       "    </tr>\n",
       "  </tbody>\n",
       "</table>\n",
       "</div>"
      ],
      "text/plain": [
       "        Cena_zł/m2    Ilość_izb  Kondygnacja  \\\n",
       "count  2375.000000  2369.000000  2031.000000   \n",
       "mean   5200.680775     2.975939     3.023880   \n",
       "std    1118.296166     1.025772     2.648458   \n",
       "min    1572.420000     1.000000    -1.000000   \n",
       "25%    4490.605000     2.000000     1.000000   \n",
       "50%    5095.140000     3.000000     2.000000   \n",
       "75%    5916.780000     4.000000     4.000000   \n",
       "max    9288.300000     8.000000    16.000000   \n",
       "\n",
       "       Pole powierzchni pomieszczeń przynależnych  powierzchnia_lokalu  \\\n",
       "count                                 2375.000000          2375.000000   \n",
       "mean                                     2.072488            52.772307   \n",
       "std                                      4.964128            21.275253   \n",
       "min                                      0.000000            11.700000   \n",
       "25%                                      0.000000            38.095000   \n",
       "50%                                      0.000000            48.700000   \n",
       "75%                                      2.620000            62.195000   \n",
       "max                                    110.200000           246.860000   \n",
       "\n",
       "           dlugosc    szerokosc  \n",
       "count  2375.000000  2375.000000  \n",
       "mean     52.407843    16.928503  \n",
       "std       0.061629     0.306132  \n",
       "min      51.675340    14.538036  \n",
       "25%      52.390093    16.894920  \n",
       "50%      52.404103    16.914878  \n",
       "75%      52.426153    16.940154  \n",
       "max      53.441572    22.309110  "
      ]
     },
     "execution_count": 155,
     "metadata": {},
     "output_type": "execute_result"
    }
   ],
   "source": [
    "data.describe()"
   ]
  },
  {
   "cell_type": "code",
   "execution_count": 156,
   "metadata": {},
   "outputs": [
    {
     "data": {
      "text/plain": [
       "'file:///home/kinga/python/Machine_Learning/temp-plot.html'"
      ]
     },
     "execution_count": 156,
     "metadata": {},
     "output_type": "execute_result"
    }
   ],
   "source": [
    "# checking on the box plot if there are outliers\n",
    "import plotly.offline as pyo\n",
    "import plotly.graph_objs as go\n",
    "\n",
    "visualisation=[go.Box(y=data['Cena_zł/m2'], boxpoints='outliers', jitter=0)]\n",
    "\n",
    "layout=go.Layout(title='Cena_zł/m2')\n",
    "fig=go.Figure(data=visualisation, layout=layout)\n",
    "pyo.plot(fig)"
   ]
  },
  {
   "cell_type": "code",
   "execution_count": 157,
   "metadata": {},
   "outputs": [],
   "source": [
    "# according to the box plot, there are outliers- lower fence is 2358zł/m2 and the upper fence is 8036 zł/m2\n",
    "# removing outliers\n",
    "data=data.loc[(data['Cena_zł/m2']>=2358) & (data['Cena_zł/m2']<=8036)]"
   ]
  },
  {
   "cell_type": "code",
   "execution_count": 158,
   "metadata": {},
   "outputs": [
    {
     "data": {
      "text/html": [
       "<div>\n",
       "<style scoped>\n",
       "    .dataframe tbody tr th:only-of-type {\n",
       "        vertical-align: middle;\n",
       "    }\n",
       "\n",
       "    .dataframe tbody tr th {\n",
       "        vertical-align: top;\n",
       "    }\n",
       "\n",
       "    .dataframe thead th {\n",
       "        text-align: right;\n",
       "    }\n",
       "</style>\n",
       "<table border=\"1\" class=\"dataframe\">\n",
       "  <thead>\n",
       "    <tr style=\"text-align: right;\">\n",
       "      <th></th>\n",
       "      <th>Cena_zł/m2</th>\n",
       "      <th>Ilość_izb</th>\n",
       "      <th>Kondygnacja</th>\n",
       "      <th>Pole powierzchni pomieszczeń przynależnych</th>\n",
       "      <th>powierzchnia_lokalu</th>\n",
       "      <th>dlugosc</th>\n",
       "      <th>szerokosc</th>\n",
       "    </tr>\n",
       "  </thead>\n",
       "  <tbody>\n",
       "    <tr>\n",
       "      <th>count</th>\n",
       "      <td>2342.000000</td>\n",
       "      <td>2336.000000</td>\n",
       "      <td>2001.000000</td>\n",
       "      <td>2342.000000</td>\n",
       "      <td>2342.000000</td>\n",
       "      <td>2342.000000</td>\n",
       "      <td>2342.000000</td>\n",
       "    </tr>\n",
       "    <tr>\n",
       "      <th>mean</th>\n",
       "      <td>5181.333535</td>\n",
       "      <td>2.984589</td>\n",
       "      <td>3.019240</td>\n",
       "      <td>2.036789</td>\n",
       "      <td>52.784620</td>\n",
       "      <td>52.407859</td>\n",
       "      <td>16.928370</td>\n",
       "    </tr>\n",
       "    <tr>\n",
       "      <th>std</th>\n",
       "      <td>1057.539595</td>\n",
       "      <td>1.023377</td>\n",
       "      <td>2.662284</td>\n",
       "      <td>4.930162</td>\n",
       "      <td>21.139863</td>\n",
       "      <td>0.062056</td>\n",
       "      <td>0.308262</td>\n",
       "    </tr>\n",
       "    <tr>\n",
       "      <th>min</th>\n",
       "      <td>2403.320000</td>\n",
       "      <td>1.000000</td>\n",
       "      <td>-1.000000</td>\n",
       "      <td>0.000000</td>\n",
       "      <td>11.700000</td>\n",
       "      <td>51.675340</td>\n",
       "      <td>14.538036</td>\n",
       "    </tr>\n",
       "    <tr>\n",
       "      <th>25%</th>\n",
       "      <td>4491.192500</td>\n",
       "      <td>2.000000</td>\n",
       "      <td>1.000000</td>\n",
       "      <td>0.000000</td>\n",
       "      <td>38.100000</td>\n",
       "      <td>52.390093</td>\n",
       "      <td>16.894244</td>\n",
       "    </tr>\n",
       "    <tr>\n",
       "      <th>50%</th>\n",
       "      <td>5089.435000</td>\n",
       "      <td>3.000000</td>\n",
       "      <td>2.000000</td>\n",
       "      <td>0.000000</td>\n",
       "      <td>48.700000</td>\n",
       "      <td>52.404103</td>\n",
       "      <td>16.914652</td>\n",
       "    </tr>\n",
       "    <tr>\n",
       "      <th>75%</th>\n",
       "      <td>5896.335000</td>\n",
       "      <td>4.000000</td>\n",
       "      <td>4.000000</td>\n",
       "      <td>2.600000</td>\n",
       "      <td>62.167500</td>\n",
       "      <td>52.427278</td>\n",
       "      <td>16.940066</td>\n",
       "    </tr>\n",
       "    <tr>\n",
       "      <th>max</th>\n",
       "      <td>8034.030000</td>\n",
       "      <td>8.000000</td>\n",
       "      <td>16.000000</td>\n",
       "      <td>110.200000</td>\n",
       "      <td>246.860000</td>\n",
       "      <td>53.441572</td>\n",
       "      <td>22.309110</td>\n",
       "    </tr>\n",
       "  </tbody>\n",
       "</table>\n",
       "</div>"
      ],
      "text/plain": [
       "        Cena_zł/m2    Ilość_izb  Kondygnacja  \\\n",
       "count  2342.000000  2336.000000  2001.000000   \n",
       "mean   5181.333535     2.984589     3.019240   \n",
       "std    1057.539595     1.023377     2.662284   \n",
       "min    2403.320000     1.000000    -1.000000   \n",
       "25%    4491.192500     2.000000     1.000000   \n",
       "50%    5089.435000     3.000000     2.000000   \n",
       "75%    5896.335000     4.000000     4.000000   \n",
       "max    8034.030000     8.000000    16.000000   \n",
       "\n",
       "       Pole powierzchni pomieszczeń przynależnych  powierzchnia_lokalu  \\\n",
       "count                                 2342.000000          2342.000000   \n",
       "mean                                     2.036789            52.784620   \n",
       "std                                      4.930162            21.139863   \n",
       "min                                      0.000000            11.700000   \n",
       "25%                                      0.000000            38.100000   \n",
       "50%                                      0.000000            48.700000   \n",
       "75%                                      2.600000            62.167500   \n",
       "max                                    110.200000           246.860000   \n",
       "\n",
       "           dlugosc    szerokosc  \n",
       "count  2342.000000  2342.000000  \n",
       "mean     52.407859    16.928370  \n",
       "std       0.062056     0.308262  \n",
       "min      51.675340    14.538036  \n",
       "25%      52.390093    16.894244  \n",
       "50%      52.404103    16.914652  \n",
       "75%      52.427278    16.940066  \n",
       "max      53.441572    22.309110  "
      ]
     },
     "execution_count": 158,
     "metadata": {},
     "output_type": "execute_result"
    }
   ],
   "source": [
    "data.describe()"
   ]
  },
  {
   "cell_type": "markdown",
   "metadata": {},
   "source": [
    "### 1.1 Taking care of missing data"
   ]
  },
  {
   "cell_type": "code",
   "execution_count": 162,
   "metadata": {},
   "outputs": [],
   "source": [
    "from sklearn.preprocessing import Imputer"
   ]
  },
  {
   "cell_type": "code",
   "execution_count": 166,
   "metadata": {},
   "outputs": [],
   "source": [
    "# there are missing values in column 'Kondygnacja'. I will replace NaN with mean value from this column\n",
    "imputer=Imputer(missing_values='NaN', strategy='mean', axis=0)\n",
    "imputer=imputer.fit(data[['Kondygnacja']]) # \n",
    "data.iloc[:,3:4]=imputer.transform(data.iloc[:,3:4]) \n"
   ]
  },
  {
   "cell_type": "code",
   "execution_count": 168,
   "metadata": {},
   "outputs": [],
   "source": [
    "# saving file with data\n",
    "data.to_csv('/home/kinga/python/Machine_Learning/cleared_data(flats).csv')"
   ]
  },
  {
   "cell_type": "markdown",
   "metadata": {},
   "source": [
    "### Encoding categorical values"
   ]
  },
  {
   "cell_type": "code",
   "execution_count": 51,
   "metadata": {},
   "outputs": [],
   "source": [
    "from sklearn.preprocessing import LabelEncoder, OneHotEncoder"
   ]
  },
  {
   "cell_type": "code",
   "execution_count": 52,
   "metadata": {},
   "outputs": [
    {
     "name": "stderr",
     "output_type": "stream",
     "text": [
      "/home/kinga/anaconda3/lib/python3.6/site-packages/pandas/core/indexing.py:543: SettingWithCopyWarning: \n",
      "A value is trying to be set on a copy of a slice from a DataFrame.\n",
      "Try using .loc[row_indexer,col_indexer] = value instead\n",
      "\n",
      "See the caveats in the documentation: http://pandas.pydata.org/pandas-docs/stable/indexing.html#indexing-view-versus-copy\n",
      "  self.obj[item] = s\n"
     ]
    }
   ],
   "source": [
    "labelencoder_X=LabelEncoder() # object of class LabelEncoder\n",
    "X.iloc[:,0]=labelencoder_X.fit_transform(X.iloc[:, 0]) #returns first column of X encoded- \n",
    "#it means that if I select first columns I will not have countries' names but numbers \n",
    "# there is a problem with this method, because ML equation will compare those values and this is not true that \n",
    "# if France has number 0, it is lower that Spain with number 2\n",
    "# To prevent from this, we are going to use OneHotEncoder\n",
    "onehotencoder=OneHotEncoder(categorical_features=[0]) #categorical_features=0 -nummber of columns with categorical val\n",
    "X=onehotencoder.fit_transform(X).toarray() # we don't have to put column number because we specified it above"
   ]
  },
  {
   "cell_type": "code",
   "execution_count": 53,
   "metadata": {},
   "outputs": [
    {
     "data": {
      "text/plain": [
       "array([[1.00000000e+00, 0.00000000e+00, 0.00000000e+00, 4.40000000e+01,\n",
       "        7.20000000e+04],\n",
       "       [0.00000000e+00, 0.00000000e+00, 1.00000000e+00, 2.70000000e+01,\n",
       "        4.80000000e+04],\n",
       "       [0.00000000e+00, 1.00000000e+00, 0.00000000e+00, 3.00000000e+01,\n",
       "        5.40000000e+04],\n",
       "       [0.00000000e+00, 0.00000000e+00, 1.00000000e+00, 3.80000000e+01,\n",
       "        6.10000000e+04],\n",
       "       [0.00000000e+00, 1.00000000e+00, 0.00000000e+00, 4.00000000e+01,\n",
       "        6.37777778e+04],\n",
       "       [1.00000000e+00, 0.00000000e+00, 0.00000000e+00, 3.50000000e+01,\n",
       "        5.80000000e+04],\n",
       "       [0.00000000e+00, 0.00000000e+00, 1.00000000e+00, 3.87777778e+01,\n",
       "        5.20000000e+04],\n",
       "       [1.00000000e+00, 0.00000000e+00, 0.00000000e+00, 4.80000000e+01,\n",
       "        7.90000000e+04],\n",
       "       [0.00000000e+00, 1.00000000e+00, 0.00000000e+00, 5.00000000e+01,\n",
       "        8.30000000e+04],\n",
       "       [1.00000000e+00, 0.00000000e+00, 0.00000000e+00, 3.70000000e+01,\n",
       "        6.70000000e+04]])"
      ]
     },
     "execution_count": 53,
     "metadata": {},
     "output_type": "execute_result"
    }
   ],
   "source": [
    "X"
   ]
  },
  {
   "cell_type": "code",
   "execution_count": 56,
   "metadata": {},
   "outputs": [
    {
     "data": {
      "text/plain": [
       "array([0, 1, 0, 0, 1, 1, 0, 1, 0, 1])"
      ]
     },
     "execution_count": 56,
     "metadata": {},
     "output_type": "execute_result"
    }
   ],
   "source": [
    "# enoding prediction target y\n",
    "labelencoder_y=LabelEncoder() # object of class LabelEncoder\n",
    "y=labelencoder_y.fit_transform(y)\n",
    "y"
   ]
  },
  {
   "cell_type": "markdown",
   "metadata": {},
   "source": [
    "### Features scaling"
   ]
  },
  {
   "cell_type": "code",
   "execution_count": 66,
   "metadata": {},
   "outputs": [],
   "source": [
    "from sklearn.preprocessing import StandardScaler"
   ]
  },
  {
   "cell_type": "code",
   "execution_count": 69,
   "metadata": {},
   "outputs": [],
   "source": [
    "sc_X=StandardScaler()\n",
    "X_train=sc_X.fit_transform(X_train) # fit the object to training set and then transform it\n",
    "X_test=sc_X.transform(X_test) #we don't need to to fit it "
   ]
  },
  {
   "cell_type": "code",
   "execution_count": 71,
   "metadata": {},
   "outputs": [
    {
     "data": {
      "text/plain": [
       "array([0, 0])"
      ]
     },
     "execution_count": 71,
     "metadata": {},
     "output_type": "execute_result"
    }
   ],
   "source": [
    "y_test"
   ]
  },
  {
   "cell_type": "code",
   "execution_count": 74,
   "metadata": {},
   "outputs": [],
   "source": [
    "features=pd.DataFrame(X_train)"
   ]
  },
  {
   "cell_type": "code",
   "execution_count": 75,
   "metadata": {},
   "outputs": [
    {
     "data": {
      "text/html": [
       "<div>\n",
       "<style scoped>\n",
       "    .dataframe tbody tr th:only-of-type {\n",
       "        vertical-align: middle;\n",
       "    }\n",
       "\n",
       "    .dataframe tbody tr th {\n",
       "        vertical-align: top;\n",
       "    }\n",
       "\n",
       "    .dataframe thead th {\n",
       "        text-align: right;\n",
       "    }\n",
       "</style>\n",
       "<table border=\"1\" class=\"dataframe\">\n",
       "  <thead>\n",
       "    <tr style=\"text-align: right;\">\n",
       "      <th></th>\n",
       "      <th>0</th>\n",
       "      <th>1</th>\n",
       "      <th>2</th>\n",
       "      <th>3</th>\n",
       "      <th>4</th>\n",
       "    </tr>\n",
       "  </thead>\n",
       "  <tbody>\n",
       "    <tr>\n",
       "      <th>0</th>\n",
       "      <td>-1.0</td>\n",
       "      <td>2.645751</td>\n",
       "      <td>-0.774597</td>\n",
       "      <td>0.263068</td>\n",
       "      <td>0.123815</td>\n",
       "    </tr>\n",
       "    <tr>\n",
       "      <th>1</th>\n",
       "      <td>1.0</td>\n",
       "      <td>-0.377964</td>\n",
       "      <td>-0.774597</td>\n",
       "      <td>-0.253501</td>\n",
       "      <td>0.461756</td>\n",
       "    </tr>\n",
       "    <tr>\n",
       "      <th>2</th>\n",
       "      <td>-1.0</td>\n",
       "      <td>-0.377964</td>\n",
       "      <td>1.290994</td>\n",
       "      <td>-1.975398</td>\n",
       "      <td>-1.530933</td>\n",
       "    </tr>\n",
       "    <tr>\n",
       "      <th>3</th>\n",
       "      <td>-1.0</td>\n",
       "      <td>-0.377964</td>\n",
       "      <td>1.290994</td>\n",
       "      <td>0.052614</td>\n",
       "      <td>-1.111420</td>\n",
       "    </tr>\n",
       "    <tr>\n",
       "      <th>4</th>\n",
       "      <td>1.0</td>\n",
       "      <td>-0.377964</td>\n",
       "      <td>-0.774597</td>\n",
       "      <td>1.640585</td>\n",
       "      <td>1.720297</td>\n",
       "    </tr>\n",
       "    <tr>\n",
       "      <th>5</th>\n",
       "      <td>-1.0</td>\n",
       "      <td>-0.377964</td>\n",
       "      <td>1.290994</td>\n",
       "      <td>-0.081312</td>\n",
       "      <td>-0.167514</td>\n",
       "    </tr>\n",
       "    <tr>\n",
       "      <th>6</th>\n",
       "      <td>1.0</td>\n",
       "      <td>-0.377964</td>\n",
       "      <td>-0.774597</td>\n",
       "      <td>0.951826</td>\n",
       "      <td>0.986148</td>\n",
       "    </tr>\n",
       "    <tr>\n",
       "      <th>7</th>\n",
       "      <td>1.0</td>\n",
       "      <td>-0.377964</td>\n",
       "      <td>-0.774597</td>\n",
       "      <td>-0.597881</td>\n",
       "      <td>-0.482149</td>\n",
       "    </tr>\n",
       "  </tbody>\n",
       "</table>\n",
       "</div>"
      ],
      "text/plain": [
       "     0         1         2         3         4\n",
       "0 -1.0  2.645751 -0.774597  0.263068  0.123815\n",
       "1  1.0 -0.377964 -0.774597 -0.253501  0.461756\n",
       "2 -1.0 -0.377964  1.290994 -1.975398 -1.530933\n",
       "3 -1.0 -0.377964  1.290994  0.052614 -1.111420\n",
       "4  1.0 -0.377964 -0.774597  1.640585  1.720297\n",
       "5 -1.0 -0.377964  1.290994 -0.081312 -0.167514\n",
       "6  1.0 -0.377964 -0.774597  0.951826  0.986148\n",
       "7  1.0 -0.377964 -0.774597 -0.597881 -0.482149"
      ]
     },
     "execution_count": 75,
     "metadata": {},
     "output_type": "execute_result"
    }
   ],
   "source": [
    "features"
   ]
  },
  {
   "cell_type": "markdown",
   "metadata": {},
   "source": [
    "# 2. Simple Linear Regression\n",
    "- in this exercise I will predict apartment's prices depending od their surface"
   ]
  },
  {
   "cell_type": "code",
   "execution_count": 305,
   "metadata": {},
   "outputs": [],
   "source": [
    "data=pd.read_csv('/home/kinga/python/Machine_Learning/cleared_data(flats).csv')"
   ]
  },
  {
   "cell_type": "code",
   "execution_count": 306,
   "metadata": {},
   "outputs": [
    {
     "data": {
      "text/html": [
       "<div>\n",
       "<style scoped>\n",
       "    .dataframe tbody tr th:only-of-type {\n",
       "        vertical-align: middle;\n",
       "    }\n",
       "\n",
       "    .dataframe tbody tr th {\n",
       "        vertical-align: top;\n",
       "    }\n",
       "\n",
       "    .dataframe thead th {\n",
       "        text-align: right;\n",
       "    }\n",
       "</style>\n",
       "<table border=\"1\" class=\"dataframe\">\n",
       "  <thead>\n",
       "    <tr style=\"text-align: right;\">\n",
       "      <th></th>\n",
       "      <th>Unnamed: 0</th>\n",
       "      <th>Cena_zł/m2</th>\n",
       "      <th>Data_transakcji</th>\n",
       "      <th>Ilość_izb</th>\n",
       "      <th>Kondygnacja</th>\n",
       "      <th>Pomieszczenia przynależne</th>\n",
       "      <th>Pole powierzchni pomieszczeń przynależnych</th>\n",
       "      <th>Obręb</th>\n",
       "      <th>powierzchnia_lokalu</th>\n",
       "      <th>Udział w prawie będący przedmiotem transakcji</th>\n",
       "      <th>miasto</th>\n",
       "      <th>ulica</th>\n",
       "      <th>wspolrzedne</th>\n",
       "      <th>dlugosc</th>\n",
       "      <th>szerokosc</th>\n",
       "      <th>Opis</th>\n",
       "      <th>Opis nieruchomości</th>\n",
       "      <th>Podstawa prawna</th>\n",
       "    </tr>\n",
       "  </thead>\n",
       "  <tbody>\n",
       "    <tr>\n",
       "      <th>0</th>\n",
       "      <td>482</td>\n",
       "      <td>5714.29</td>\n",
       "      <td>04.11.2015</td>\n",
       "      <td>3.0</td>\n",
       "      <td>8.0</td>\n",
       "      <td>piwnica</td>\n",
       "      <td>1.7</td>\n",
       "      <td>CHARTOWO</td>\n",
       "      <td>45.5</td>\n",
       "      <td>1/1</td>\n",
       "      <td>Poznań</td>\n",
       "      <td>os. Tysiąclecia 14</td>\n",
       "      <td>52.39263235, 16.9757012886888</td>\n",
       "      <td>52.392632</td>\n",
       "      <td>16.975701</td>\n",
       "      <td>NaN</td>\n",
       "      <td>NaN</td>\n",
       "      <td>Umowa (Akt notarialny)</td>\n",
       "    </tr>\n",
       "    <tr>\n",
       "      <th>1</th>\n",
       "      <td>541</td>\n",
       "      <td>4796.88</td>\n",
       "      <td>28.10.2015</td>\n",
       "      <td>5.0</td>\n",
       "      <td>1.0</td>\n",
       "      <td>piwnica</td>\n",
       "      <td>5.2</td>\n",
       "      <td>CHARTOWO</td>\n",
       "      <td>64.0</td>\n",
       "      <td>1/1</td>\n",
       "      <td>Poznań</td>\n",
       "      <td>ul. Bliźniąt 3</td>\n",
       "      <td>52.3936962, 16.982495</td>\n",
       "      <td>52.393696</td>\n",
       "      <td>16.982495</td>\n",
       "      <td>NaN</td>\n",
       "      <td>NaN</td>\n",
       "      <td>Umowa (Akt notarialny)</td>\n",
       "    </tr>\n",
       "    <tr>\n",
       "      <th>2</th>\n",
       "      <td>721</td>\n",
       "      <td>4960.25</td>\n",
       "      <td>05.10.2015</td>\n",
       "      <td>4.0</td>\n",
       "      <td>7.0</td>\n",
       "      <td>brak</td>\n",
       "      <td>0.0</td>\n",
       "      <td>CHARTOWO</td>\n",
       "      <td>62.9</td>\n",
       "      <td>1/1</td>\n",
       "      <td>Poznań</td>\n",
       "      <td>os. Rusa 126</td>\n",
       "      <td>52.3892672, 16.9854845226663</td>\n",
       "      <td>52.389267</td>\n",
       "      <td>16.985485</td>\n",
       "      <td>NaN</td>\n",
       "      <td>NaN</td>\n",
       "      <td>Umowa (Akt notarialny)</td>\n",
       "    </tr>\n",
       "  </tbody>\n",
       "</table>\n",
       "</div>"
      ],
      "text/plain": [
       "   Unnamed: 0  Cena_zł/m2 Data_transakcji  Ilość_izb  Kondygnacja  \\\n",
       "0         482     5714.29      04.11.2015        3.0          8.0   \n",
       "1         541     4796.88      28.10.2015        5.0          1.0   \n",
       "2         721     4960.25      05.10.2015        4.0          7.0   \n",
       "\n",
       "  Pomieszczenia przynależne  Pole powierzchni pomieszczeń przynależnych  \\\n",
       "0                   piwnica                                         1.7   \n",
       "1                   piwnica                                         5.2   \n",
       "2                      brak                                         0.0   \n",
       "\n",
       "      Obręb  powierzchnia_lokalu  \\\n",
       "0  CHARTOWO                 45.5   \n",
       "1  CHARTOWO                 64.0   \n",
       "2  CHARTOWO                 62.9   \n",
       "\n",
       "  Udział w prawie będący przedmiotem transakcji  miasto               ulica  \\\n",
       "0                                           1/1  Poznań  os. Tysiąclecia 14   \n",
       "1                                           1/1  Poznań      ul. Bliźniąt 3   \n",
       "2                                           1/1  Poznań        os. Rusa 126   \n",
       "\n",
       "                     wspolrzedne    dlugosc  szerokosc Opis  \\\n",
       "0  52.39263235, 16.9757012886888  52.392632  16.975701  NaN   \n",
       "1          52.3936962, 16.982495  52.393696  16.982495  NaN   \n",
       "2   52.3892672, 16.9854845226663  52.389267  16.985485  NaN   \n",
       "\n",
       "  Opis nieruchomości         Podstawa prawna  \n",
       "0                NaN  Umowa (Akt notarialny)  \n",
       "1                NaN  Umowa (Akt notarialny)  \n",
       "2                NaN  Umowa (Akt notarialny)  "
      ]
     },
     "execution_count": 306,
     "metadata": {},
     "output_type": "execute_result"
    }
   ],
   "source": [
    "data.head(3)"
   ]
  },
  {
   "cell_type": "code",
   "execution_count": 307,
   "metadata": {},
   "outputs": [
    {
     "data": {
      "text/plain": [
       "1"
      ]
     },
     "execution_count": 307,
     "metadata": {},
     "output_type": "execute_result"
    }
   ],
   "source": [
    "#checking the index number of column 'Cena_zł/m2'\n",
    "data.columns.tolist().index('Cena_zł/m2')"
   ]
  },
  {
   "cell_type": "code",
   "execution_count": 308,
   "metadata": {},
   "outputs": [
    {
     "data": {
      "text/plain": [
       "8"
      ]
     },
     "execution_count": 308,
     "metadata": {},
     "output_type": "execute_result"
    }
   ],
   "source": [
    "#checking the index number of column 'Cena_zł/m2'\n",
    "data.columns.tolist().index('powierzchnia_lokalu')"
   ]
  },
  {
   "cell_type": "code",
   "execution_count": 309,
   "metadata": {},
   "outputs": [],
   "source": [
    "#features\n",
    "X=data.iloc[:,8]\n",
    "\n",
    "#target \n",
    "y=data.iloc[:,1]"
   ]
  },
  {
   "cell_type": "code",
   "execution_count": 312,
   "metadata": {},
   "outputs": [],
   "source": [
    "# splitting dataset into training set and test set\n",
    "from sklearn.model_selection import train_test_split\n",
    "X_train, X_test, y_train, y_test = train_test_split(X, y, random_state = 0)\n",
    "X_train = X_train.values.reshape(-1,1)\n"
   ]
  },
  {
   "cell_type": "code",
   "execution_count": 318,
   "metadata": {},
   "outputs": [],
   "source": [
    "# in linear regression we don't need to take care of data scaling. This model will do it for us"
   ]
  },
  {
   "cell_type": "code",
   "execution_count": 319,
   "metadata": {},
   "outputs": [
    {
     "data": {
      "text/plain": [
       "LinearRegression(copy_X=True, fit_intercept=True, n_jobs=1, normalize=False)"
      ]
     },
     "execution_count": 319,
     "metadata": {},
     "output_type": "execute_result"
    }
   ],
   "source": [
    "# fitting simple linear regression to the training set\n",
    "from sklearn.linear_model import LinearRegression\n",
    "regressor=LinearRegression()\n",
    "regressor.fit(X_train, y_train)"
   ]
  },
  {
   "cell_type": "code",
   "execution_count": 320,
   "metadata": {},
   "outputs": [],
   "source": [
    "# predicting the test set results\n",
    "X_test= X_test.values.reshape(-1,1)\n",
    "y_pred_simple_lin_reg=regressor.predict(X_test) "
   ]
  },
  {
   "cell_type": "code",
   "execution_count": 321,
   "metadata": {
    "scrolled": true
   },
   "outputs": [
    {
     "data": {
      "image/png": "[encoded data removed]",
      "text/plain": [
       "<Figure size 1224x360 with 2 Axes>"
      ]
     },
     "metadata": {},
     "output_type": "display_data"
    }
   ],
   "source": [
    "plt.figure(figsize=(17,5))\n",
    "plt.subplots_adjust(wspace=0.2) # space between plots\n",
    "\n",
    "# visualising the training test results\n",
    "plt.subplot(1, 2, 1)\n",
    "plt.scatter(X_train, y_train, color='red')\n",
    "plt.plot(X_train, regressor.predict(X_train), color='blue')\n",
    "plt.title('Price dependence on the surface (training set)')\n",
    "plt.xlabel('Surface')\n",
    "plt.ylabel('Price')\n",
    "\n",
    "# visualising the test set results\n",
    "plt.subplot(1, 2, 2)\n",
    "plt.scatter(X_test, y_test, color='red')\n",
    "plt.plot(X_train, regressor.predict(X_train), color='blue') # trend line is the same as above because I want to see\n",
    "#how far are predicted values from trend line\n",
    "plt.title('Price dependence on the surface (test set)')\n",
    "plt.xlabel('Surface')\n",
    "plt.ylabel('Price')\n",
    "\n",
    "\n",
    "plt.show()"
   ]
  },
  {
   "cell_type": "code",
   "execution_count": 322,
   "metadata": {},
   "outputs": [],
   "source": [
    "# The above graphs show that there is a correlation between surface and price (the higher surface, the lower price), \n",
    "# but there are also other factors that infulence the price for egg. location, standard etc. That's why predictions \n",
    "# are not very accurate"
   ]
  },
  {
   "cell_type": "markdown",
   "metadata": {},
   "source": [
    "# 3. Multiple Linear Regression\n",
    "- in this exercise I will predict prices of apartments using Multiple Linear Regression"
   ]
  },
  {
   "cell_type": "code",
   "execution_count": 1,
   "metadata": {},
   "outputs": [],
   "source": [
    "import pandas as pd \n",
    "data=pd.read_csv('/home/kinga/python/Machine_Learning/cleared_data(flats).csv')"
   ]
  },
  {
   "cell_type": "code",
   "execution_count": 2,
   "metadata": {},
   "outputs": [
    {
     "data": {
      "text/plain": [
       "Index(['Unnamed: 0', 'Cena_zł/m2', 'Data_transakcji', 'Ilość_izb',\n",
       "       'Kondygnacja', 'Pomieszczenia przynależne',\n",
       "       'Pole powierzchni pomieszczeń przynależnych', 'Obręb',\n",
       "       'powierzchnia_lokalu', 'Udział w prawie będący przedmiotem transakcji',\n",
       "       'miasto', 'ulica', 'wspolrzedne', 'dlugosc', 'szerokosc', 'Opis',\n",
       "       'Opis nieruchomości', 'Podstawa prawna'],\n",
       "      dtype='object')"
      ]
     },
     "execution_count": 2,
     "metadata": {},
     "output_type": "execute_result"
    }
   ],
   "source": [
    "data.columns"
   ]
  },
  {
   "cell_type": "code",
   "execution_count": 325,
   "metadata": {
    "scrolled": true
   },
   "outputs": [],
   "source": [
    "# Features\n",
    "X=data[['Obręb','powierzchnia_lokalu', 'Kondygnacja']]\n",
    "# Predicting target\n",
    "y=data['Cena_zł/m2']"
   ]
  },
  {
   "cell_type": "code",
   "execution_count": 326,
   "metadata": {
    "scrolled": false
   },
   "outputs": [
    {
     "name": "stderr",
     "output_type": "stream",
     "text": [
      "/home/kinga/anaconda3/lib/python3.6/site-packages/pandas/core/indexing.py:543: SettingWithCopyWarning:\n",
      "\n",
      "\n",
      "A value is trying to be set on a copy of a slice from a DataFrame.\n",
      "Try using .loc[row_indexer,col_indexer] = value instead\n",
      "\n",
      "See the caveats in the documentation: http://pandas.pydata.org/pandas-docs/stable/indexing.html#indexing-view-versus-copy\n",
      "\n"
     ]
    }
   ],
   "source": [
    "from sklearn.preprocessing import LabelEncoder, OneHotEncoder\n",
    "labelencoder_X=LabelEncoder()# object of class LabelEncoder\n",
    "X.iloc[:,0]=labelencoder_X.fit_transform(X.iloc[:,0]) #returns first column of X encoded- \n",
    "#it means that if I select first columns I will not have districts' names but numbers \n",
    "# there is a problem with this method, because ML equation will compare those values \n",
    "# To prevent from this, we are going to use OneHotEncoder\n",
    "onehotencoder=OneHotEncoder(categorical_features=[0]) #making Dummy Variables to column 'Obręb'\n",
    "X=onehotencoder.fit_transform(X).toarray() # don't have to put column number because they were specified above"
   ]
  },
  {
   "cell_type": "markdown",
   "metadata": {},
   "source": [
    "#### Predicting prices with Backward Elimination"
   ]
  },
  {
   "cell_type": "code",
   "execution_count": 327,
   "metadata": {},
   "outputs": [],
   "source": [
    "# Backward elimination\n",
    "import statsmodels.formula.api as sm\n",
    "# appending a column with constant value\n",
    "X=np.append(arr=np.ones((2342, 1)).astype(int), values=X, axis=1) # 2342 rows, 1 column"
   ]
  },
  {
   "cell_type": "code",
   "execution_count": 328,
   "metadata": {},
   "outputs": [],
   "source": [
    "# atomatic Bacward Elimination ()\n",
    "import statsmodels.formula.api as sm\n",
    "def backwardElimination(x, sl):\n",
    "    \"\"\"\n",
    "    authors: Kirill Eremenko, Hadelin de Ponteves\n",
    "    \"\"\"\n",
    "    numVars = len(x[0])\n",
    "    for i in range(0, numVars):\n",
    "        regressor_OLS = sm.OLS(y, x).fit()\n",
    "        maxVar = float(max(regressor_OLS.pvalues))\n",
    "        if maxVar > sl:\n",
    "            for j in range(0, numVars - i):\n",
    "                if (regressor_OLS.pvalues[j].astype(float) == maxVar):\n",
    "                    x = np.delete(x, j, 1)\n",
    "    regressor_OLS.summary()\n",
    "    return x"
   ]
  },
  {
   "cell_type": "code",
   "execution_count": 329,
   "metadata": {},
   "outputs": [],
   "source": [
    "SL = 0.05\n",
    "X_opt = X[:,[0,1,2,3,4,5,6,7,8,9,10,11,12,13,14,15,16,17,18,19,20,21,22,23,24,25,26,27,28,29,30]] \n",
    "X_Modeled = backwardElimination(X_opt, SL)"
   ]
  },
  {
   "cell_type": "code",
   "execution_count": 330,
   "metadata": {},
   "outputs": [],
   "source": [
    "# predicting prices after  Backward Elimination\n",
    "from sklearn.model_selection import train_test_split\n",
    "X_train, X_test, y_train, y_test =train_test_split(X_Modeled, y,random_state=0 )\n",
    "\n",
    "# fitting Multiple Linear Regression to te training set\n",
    "from sklearn.linear_model import LinearRegression\n",
    "regressor=LinearRegression()\n",
    "regressor.fit(X_train, y_train) # fitting the object to the training set\n",
    "# pricies predicted using Multiple Linear Regression with Backward Elimintion\n",
    "y_pred_multiple_BE=regressor.predict(X_test)"
   ]
  },
  {
   "cell_type": "markdown",
   "metadata": {},
   "source": [
    "#### Predicting prices without Backward Elimination"
   ]
  },
  {
   "cell_type": "code",
   "execution_count": 331,
   "metadata": {},
   "outputs": [],
   "source": [
    "# predicting prices without Backward Elimination\n",
    "from sklearn.model_selection import train_test_split\n",
    "X_train, X_test, y_train, y_test =train_test_split(X, y,random_state=0 )\n",
    "\n",
    "# fitting Multiple Linear Regression to te training set\n",
    "from sklearn.linear_model import LinearRegression\n",
    "regressor=LinearRegression()\n",
    "regressor.fit(X_train, y_train) # fitting the object to the training set\n",
    "# pricies predicted using Multiple Linear Regression without Backward Elimintion\n",
    "y_pred_multiple_without_BE=regressor.predict(X_test)"
   ]
  },
  {
   "cell_type": "code",
   "execution_count": 332,
   "metadata": {},
   "outputs": [
    {
     "data": {
      "text/plain": [
       "586"
      ]
     },
     "execution_count": 332,
     "metadata": {},
     "output_type": "execute_result"
    }
   ],
   "source": [
    "len(y_pred_multiple_without_BE)"
   ]
  },
  {
   "cell_type": "markdown",
   "metadata": {},
   "source": [
    "#### Comparison of results obtained"
   ]
  },
  {
   "cell_type": "code",
   "execution_count": 345,
   "metadata": {},
   "outputs": [],
   "source": [
    "# prices obtained with Simple Linear Regression\n",
    "prices_simple_lin_reg=pd.Series(y_pred_simple_lin_reg, name='Simple Lin.Reg')\n",
    "\n",
    "# prices obtained with  Backward Elimination (Multiple Linear Regression)\n",
    "prices_BE=pd.Series(y_pred_multiple_BE, name='Multiple Lin.Reg. with BE')\n",
    "# prices obtained without Backward Elimination ((Multiple Linear Regression))\n",
    "prices_without_BE=pd.Series(y_pred_multiple_without_BE, name='Multiple Lin.Reg. without BE' )\n",
    "\n",
    "real_prices=y_test.reset_index(drop=True).rename('Real prices')\n",
    "\n",
    "real_vs_predicted_simple=abs(round(100-prices_simple_lin_reg*100/real_prices,2)).rename('real vs predicted simple %')\n",
    "real_vs_predicted_BE=abs(round(100-prices_BE*100/real_prices,2)).rename('real vs predicted multiple BE %')\n",
    "real_vs_predicted_without_BE=abs(round(100-prices_without_BE*100/real_prices,2)).rename('real vs predicted multiple wthout BE %')"
   ]
  },
  {
   "cell_type": "code",
   "execution_count": 346,
   "metadata": {},
   "outputs": [
    {
     "data": {
      "text/html": [
       "<div>\n",
       "<style scoped>\n",
       "    .dataframe tbody tr th:only-of-type {\n",
       "        vertical-align: middle;\n",
       "    }\n",
       "\n",
       "    .dataframe tbody tr th {\n",
       "        vertical-align: top;\n",
       "    }\n",
       "\n",
       "    .dataframe thead th {\n",
       "        text-align: right;\n",
       "    }\n",
       "</style>\n",
       "<table border=\"1\" class=\"dataframe\">\n",
       "  <thead>\n",
       "    <tr style=\"text-align: right;\">\n",
       "      <th></th>\n",
       "      <th>Real prices</th>\n",
       "      <th>Simple Lin.Reg</th>\n",
       "      <th>real vs predicted simple %</th>\n",
       "      <th>Multiple Lin.Reg. with BE</th>\n",
       "      <th>real vs predicted multiple BE %</th>\n",
       "      <th>Multiple Lin.Reg. without BE</th>\n",
       "      <th>real vs predicted multiple wthout BE %</th>\n",
       "    </tr>\n",
       "  </thead>\n",
       "  <tbody>\n",
       "    <tr>\n",
       "      <th>0</th>\n",
       "      <td>4362.42</td>\n",
       "      <td>5567.040277</td>\n",
       "      <td>27.61</td>\n",
       "      <td>5398.728288</td>\n",
       "      <td>23.76</td>\n",
       "      <td>5459.573043</td>\n",
       "      <td>25.15</td>\n",
       "    </tr>\n",
       "    <tr>\n",
       "      <th>1</th>\n",
       "      <td>4725.57</td>\n",
       "      <td>5494.575884</td>\n",
       "      <td>16.27</td>\n",
       "      <td>5283.139799</td>\n",
       "      <td>11.80</td>\n",
       "      <td>5193.004225</td>\n",
       "      <td>9.89</td>\n",
       "    </tr>\n",
       "    <tr>\n",
       "      <th>2</th>\n",
       "      <td>4752.85</td>\n",
       "      <td>5180.110962</td>\n",
       "      <td>8.99</td>\n",
       "      <td>5081.568926</td>\n",
       "      <td>6.92</td>\n",
       "      <td>5212.127062</td>\n",
       "      <td>9.66</td>\n",
       "    </tr>\n",
       "    <tr>\n",
       "      <th>3</th>\n",
       "      <td>4893.48</td>\n",
       "      <td>4770.780476</td>\n",
       "      <td>2.51</td>\n",
       "      <td>5120.698147</td>\n",
       "      <td>4.64</td>\n",
       "      <td>5116.795930</td>\n",
       "      <td>4.56</td>\n",
       "    </tr>\n",
       "    <tr>\n",
       "      <th>4</th>\n",
       "      <td>6207.63</td>\n",
       "      <td>5271.752116</td>\n",
       "      <td>15.08</td>\n",
       "      <td>5135.170367</td>\n",
       "      <td>17.28</td>\n",
       "      <td>5229.628135</td>\n",
       "      <td>15.75</td>\n",
       "    </tr>\n",
       "  </tbody>\n",
       "</table>\n",
       "</div>"
      ],
      "text/plain": [
       "   Real prices  Simple Lin.Reg  real vs predicted simple %  \\\n",
       "0      4362.42     5567.040277                       27.61   \n",
       "1      4725.57     5494.575884                       16.27   \n",
       "2      4752.85     5180.110962                        8.99   \n",
       "3      4893.48     4770.780476                        2.51   \n",
       "4      6207.63     5271.752116                       15.08   \n",
       "\n",
       "   Multiple Lin.Reg. with BE  real vs predicted multiple BE %  \\\n",
       "0                5398.728288                            23.76   \n",
       "1                5283.139799                            11.80   \n",
       "2                5081.568926                             6.92   \n",
       "3                5120.698147                             4.64   \n",
       "4                5135.170367                            17.28   \n",
       "\n",
       "   Multiple Lin.Reg. without BE  real vs predicted multiple wthout BE %  \n",
       "0                   5459.573043                                   25.15  \n",
       "1                   5193.004225                                    9.89  \n",
       "2                   5212.127062                                    9.66  \n",
       "3                   5116.795930                                    4.56  \n",
       "4                   5229.628135                                   15.75  "
      ]
     },
     "execution_count": 346,
     "metadata": {},
     "output_type": "execute_result"
    }
   ],
   "source": [
    "comparison=pd.concat([real_prices, prices_simple_lin_reg, real_vs_predicted_simple,\n",
    "                      prices_BE, real_vs_predicted_BE, prices_without_BE, \n",
    "                      real_vs_predicted_without_BE], axis=1 )\n",
    "comparison.head()"
   ]
  },
  {
   "cell_type": "code",
   "execution_count": 347,
   "metadata": {
    "scrolled": true
   },
   "outputs": [
    {
     "data": {
      "text/html": [
       "<div>\n",
       "<style scoped>\n",
       "    .dataframe tbody tr th:only-of-type {\n",
       "        vertical-align: middle;\n",
       "    }\n",
       "\n",
       "    .dataframe tbody tr th {\n",
       "        vertical-align: top;\n",
       "    }\n",
       "\n",
       "    .dataframe thead th {\n",
       "        text-align: right;\n",
       "    }\n",
       "</style>\n",
       "<table border=\"1\" class=\"dataframe\">\n",
       "  <thead>\n",
       "    <tr style=\"text-align: right;\">\n",
       "      <th></th>\n",
       "      <th>Real prices</th>\n",
       "      <th>Simple Lin.Reg</th>\n",
       "      <th>real vs predicted simple %</th>\n",
       "      <th>Multiple Lin.Reg. with BE</th>\n",
       "      <th>real vs predicted multiple BE %</th>\n",
       "      <th>Multiple Lin.Reg. without BE</th>\n",
       "      <th>real vs predicted multiple wthout BE %</th>\n",
       "    </tr>\n",
       "  </thead>\n",
       "  <tbody>\n",
       "    <tr>\n",
       "      <th>count</th>\n",
       "      <td>586.000000</td>\n",
       "      <td>586.000000</td>\n",
       "      <td>586.000000</td>\n",
       "      <td>586.000000</td>\n",
       "      <td>586.000000</td>\n",
       "      <td>586.000000</td>\n",
       "      <td>586.000000</td>\n",
       "    </tr>\n",
       "    <tr>\n",
       "      <th>mean</th>\n",
       "      <td>5192.981945</td>\n",
       "      <td>5175.574082</td>\n",
       "      <td>16.313669</td>\n",
       "      <td>5189.471145</td>\n",
       "      <td>14.671126</td>\n",
       "      <td>5192.833889</td>\n",
       "      <td>14.728072</td>\n",
       "    </tr>\n",
       "    <tr>\n",
       "      <th>std</th>\n",
       "      <td>1071.161724</td>\n",
       "      <td>357.117021</td>\n",
       "      <td>15.078147</td>\n",
       "      <td>537.655801</td>\n",
       "      <td>14.322853</td>\n",
       "      <td>542.664880</td>\n",
       "      <td>14.328826</td>\n",
       "    </tr>\n",
       "    <tr>\n",
       "      <th>min</th>\n",
       "      <td>2403.320000</td>\n",
       "      <td>1883.405315</td>\n",
       "      <td>0.070000</td>\n",
       "      <td>1896.984396</td>\n",
       "      <td>0.030000</td>\n",
       "      <td>1908.003604</td>\n",
       "      <td>0.060000</td>\n",
       "    </tr>\n",
       "    <tr>\n",
       "      <th>25%</th>\n",
       "      <td>4523.975000</td>\n",
       "      <td>5005.313947</td>\n",
       "      <td>6.195000</td>\n",
       "      <td>4964.031703</td>\n",
       "      <td>5.250000</td>\n",
       "      <td>4971.574280</td>\n",
       "      <td>5.335000</td>\n",
       "    </tr>\n",
       "    <tr>\n",
       "      <th>50%</th>\n",
       "      <td>5126.245000</td>\n",
       "      <td>5242.902123</td>\n",
       "      <td>12.630000</td>\n",
       "      <td>5224.751799</td>\n",
       "      <td>11.615000</td>\n",
       "      <td>5245.608358</td>\n",
       "      <td>11.255000</td>\n",
       "    </tr>\n",
       "    <tr>\n",
       "      <th>75%</th>\n",
       "      <td>5933.110000</td>\n",
       "      <td>5426.184430</td>\n",
       "      <td>22.175000</td>\n",
       "      <td>5445.005074</td>\n",
       "      <td>19.075000</td>\n",
       "      <td>5451.204050</td>\n",
       "      <td>19.040000</td>\n",
       "    </tr>\n",
       "    <tr>\n",
       "      <th>max</th>\n",
       "      <td>8008.540000</td>\n",
       "      <td>5765.256698</td>\n",
       "      <td>120.360000</td>\n",
       "      <td>7326.171939</td>\n",
       "      <td>118.110000</td>\n",
       "      <td>7323.494847</td>\n",
       "      <td>113.940000</td>\n",
       "    </tr>\n",
       "  </tbody>\n",
       "</table>\n",
       "</div>"
      ],
      "text/plain": [
       "       Real prices  Simple Lin.Reg  real vs predicted simple %  \\\n",
       "count   586.000000      586.000000                  586.000000   \n",
       "mean   5192.981945     5175.574082                   16.313669   \n",
       "std    1071.161724      357.117021                   15.078147   \n",
       "min    2403.320000     1883.405315                    0.070000   \n",
       "25%    4523.975000     5005.313947                    6.195000   \n",
       "50%    5126.245000     5242.902123                   12.630000   \n",
       "75%    5933.110000     5426.184430                   22.175000   \n",
       "max    8008.540000     5765.256698                  120.360000   \n",
       "\n",
       "       Multiple Lin.Reg. with BE  real vs predicted multiple BE %  \\\n",
       "count                 586.000000                       586.000000   \n",
       "mean                 5189.471145                        14.671126   \n",
       "std                   537.655801                        14.322853   \n",
       "min                  1896.984396                         0.030000   \n",
       "25%                  4964.031703                         5.250000   \n",
       "50%                  5224.751799                        11.615000   \n",
       "75%                  5445.005074                        19.075000   \n",
       "max                  7326.171939                       118.110000   \n",
       "\n",
       "       Multiple Lin.Reg. without BE  real vs predicted multiple wthout BE %  \n",
       "count                    586.000000                              586.000000  \n",
       "mean                    5192.833889                               14.728072  \n",
       "std                      542.664880                               14.328826  \n",
       "min                     1908.003604                                0.060000  \n",
       "25%                     4971.574280                                5.335000  \n",
       "50%                     5245.608358                               11.255000  \n",
       "75%                     5451.204050                               19.040000  \n",
       "max                     7323.494847                              113.940000  "
      ]
     },
     "execution_count": 347,
     "metadata": {},
     "output_type": "execute_result"
    }
   ],
   "source": [
    "comparison.describe()"
   ]
  },
  {
   "cell_type": "code",
   "execution_count": 348,
   "metadata": {},
   "outputs": [
    {
     "name": "stdout",
     "output_type": "stream",
     "text": [
      "Mean absolute error Simple Linear Regression is: 795.2494382406835\n",
      "Mean absolute error with Backward Elimination is: 710.1172577494393\n",
      "Mean absolute error without Backward Elimination is: 712.0097527107214\n"
     ]
    }
   ],
   "source": [
    "# Mean Absolute Error \n",
    "from sklearn.metrics import mean_absolute_error\n",
    "print('Mean absolute error Simple Linear Regression is:', mean_absolute_error(y_test,y_pred_simple_lin_reg))\n",
    "print('Mean absolute error with Backward Elimination is:', mean_absolute_error(y_test, y_pred_multiple_BE))\n",
    "print('Mean absolute error without Backward Elimination is:', mean_absolute_error(y_test, y_pred_multiple_without_BE))"
   ]
  },
  {
   "cell_type": "markdown",
   "metadata": {},
   "source": [
    "#### Conclusions\n",
    "The results show that there is no significant difference between prices obtained using multiple linear regression\n",
    "with backward elimination and without it. Multiple linear regression gives a bit better results than \n",
    "simple linear regression. Some of predicted prices are quite accurate but some of them are far away from real prices.\n",
    "It means that models need to be improved - I hope that later on I find out how to do it. "
   ]
  },
  {
   "cell_type": "markdown",
   "metadata": {},
   "source": [
    "# 4. Polynomial Regression (non linear) vs Simple Linear Regression\n",
    "- in this exercise I will compare prices of apartments obtained using Simple Linear Regression and Polynomial Regression"
   ]
  },
  {
   "cell_type": "code",
   "execution_count": 38,
   "metadata": {},
   "outputs": [],
   "source": [
    "data=pd.read_csv('/home/kinga/python/Machine_Learning/cleared_data(flats).csv')"
   ]
  },
  {
   "cell_type": "code",
   "execution_count": 39,
   "metadata": {},
   "outputs": [],
   "source": [
    "#features\n",
    "X=data.iloc[:,8]\n",
    "\n",
    "#target \n",
    "y=data.iloc[:,1]"
   ]
  },
  {
   "cell_type": "code",
   "execution_count": null,
   "metadata": {},
   "outputs": [],
   "source": [
    "# splitting dataset into training set and test set\n",
    "from sklearn.model_selection import train_test_split\n",
    "X_train, X_test, y_train, y_test = train_test_split(X, y, random_state = 0)\n",
    "X_train = X_train.values.reshape(-1,1)"
   ]
  },
  {
   "cell_type": "code",
   "execution_count": 42,
   "metadata": {},
   "outputs": [],
   "source": [
    "# Simple Linear Regression\n",
    "# fitting simple linear regression to the training set\n",
    "from sklearn.linear_model import LinearRegression\n",
    "regressor=LinearRegression()\n",
    "regressor.fit(X_train, y_train)\n",
    "\n",
    "# predicting the test set results\n",
    "X_test= X_test.values.reshape(-1,1)\n",
    "y_pred_simple_lin_reg=regressor.predict(X_test)"
   ]
  },
  {
   "cell_type": "code",
   "execution_count": 92,
   "metadata": {},
   "outputs": [],
   "source": [
    "# Polynomial Regression\n",
    "# fitting Polynomial Regression to the dataset\n",
    "from sklearn.preprocessing import PolynomialFeatures\n",
    "poly_reg=PolynomialFeatures(degree=2)# I've checked also different degrees but 2 is the most accurate\n",
    "X_poly=poly_reg.fit_transform(X_train)\n",
    "lin_reg2=LinearRegression()\n",
    "lin_reg2.fit(X_poly, y_train)\n",
    "\n",
    "# predicting the test set results\n",
    "y_pred_polynomial=lin_reg2.predict(poly_reg.fit_transform(X_test))"
   ]
  },
  {
   "cell_type": "code",
   "execution_count": 93,
   "metadata": {},
   "outputs": [],
   "source": [
    "# Comparing the results\n",
    "\n",
    "# prices obtained with Simple Linear Regression\n",
    "prices_simple_lin_reg=pd.Series(y_pred_simple_lin_reg, name='Simple Lin.Reg')\n",
    "\n",
    "# prices obtained with Polynomial Regression\n",
    "prices_polynomial=pd.Series(y_pred_polynomial, name='Poynomial Reg.')\n",
    "\n",
    "# real prices\n",
    "real_prices=y_test.reset_index(drop=True).rename('Real prices')\n",
    "\n",
    "real_vs_predicted_simple=abs(round(100-prices_simple_lin_reg*100/real_prices,2)).rename('real vs predicted simple %')\n",
    "real_vs_predicted_polynomial=abs(round(100-prices_polynomial*100/real_prices,2)).rename('real vs predicted polynomial %')"
   ]
  },
  {
   "cell_type": "code",
   "execution_count": 94,
   "metadata": {},
   "outputs": [
    {
     "data": {
      "text/html": [
       "<div>\n",
       "<style scoped>\n",
       "    .dataframe tbody tr th:only-of-type {\n",
       "        vertical-align: middle;\n",
       "    }\n",
       "\n",
       "    .dataframe tbody tr th {\n",
       "        vertical-align: top;\n",
       "    }\n",
       "\n",
       "    .dataframe thead th {\n",
       "        text-align: right;\n",
       "    }\n",
       "</style>\n",
       "<table border=\"1\" class=\"dataframe\">\n",
       "  <thead>\n",
       "    <tr style=\"text-align: right;\">\n",
       "      <th></th>\n",
       "      <th>Real prices</th>\n",
       "      <th>Simple Lin.Reg</th>\n",
       "      <th>real vs predicted simple %</th>\n",
       "      <th>Poynomial Reg.</th>\n",
       "      <th>real vs predicted polynomial %</th>\n",
       "    </tr>\n",
       "  </thead>\n",
       "  <tbody>\n",
       "    <tr>\n",
       "      <th>count</th>\n",
       "      <td>586.000000</td>\n",
       "      <td>586.000000</td>\n",
       "      <td>586.000000</td>\n",
       "      <td>586.000000</td>\n",
       "      <td>586.000000</td>\n",
       "    </tr>\n",
       "    <tr>\n",
       "      <th>mean</th>\n",
       "      <td>5192.981945</td>\n",
       "      <td>5175.574082</td>\n",
       "      <td>16.313669</td>\n",
       "      <td>5174.742728</td>\n",
       "      <td>16.301331</td>\n",
       "    </tr>\n",
       "    <tr>\n",
       "      <th>std</th>\n",
       "      <td>1071.161724</td>\n",
       "      <td>357.117021</td>\n",
       "      <td>15.078147</td>\n",
       "      <td>361.019537</td>\n",
       "      <td>15.240149</td>\n",
       "    </tr>\n",
       "    <tr>\n",
       "      <th>min</th>\n",
       "      <td>2403.320000</td>\n",
       "      <td>1883.405315</td>\n",
       "      <td>0.070000</td>\n",
       "      <td>3905.419730</td>\n",
       "      <td>0.020000</td>\n",
       "    </tr>\n",
       "    <tr>\n",
       "      <th>25%</th>\n",
       "      <td>4523.975000</td>\n",
       "      <td>5005.313947</td>\n",
       "      <td>6.195000</td>\n",
       "      <td>4945.665595</td>\n",
       "      <td>5.932500</td>\n",
       "    </tr>\n",
       "    <tr>\n",
       "      <th>50%</th>\n",
       "      <td>5126.245000</td>\n",
       "      <td>5242.902123</td>\n",
       "      <td>12.630000</td>\n",
       "      <td>5222.884351</td>\n",
       "      <td>12.370000</td>\n",
       "    </tr>\n",
       "    <tr>\n",
       "      <th>75%</th>\n",
       "      <td>5933.110000</td>\n",
       "      <td>5426.184430</td>\n",
       "      <td>22.175000</td>\n",
       "      <td>5456.991519</td>\n",
       "      <td>22.027500</td>\n",
       "    </tr>\n",
       "    <tr>\n",
       "      <th>max</th>\n",
       "      <td>8008.540000</td>\n",
       "      <td>5765.256698</td>\n",
       "      <td>120.360000</td>\n",
       "      <td>5936.591773</td>\n",
       "      <td>120.070000</td>\n",
       "    </tr>\n",
       "  </tbody>\n",
       "</table>\n",
       "</div>"
      ],
      "text/plain": [
       "       Real prices  Simple Lin.Reg  real vs predicted simple %  \\\n",
       "count   586.000000      586.000000                  586.000000   \n",
       "mean   5192.981945     5175.574082                   16.313669   \n",
       "std    1071.161724      357.117021                   15.078147   \n",
       "min    2403.320000     1883.405315                    0.070000   \n",
       "25%    4523.975000     5005.313947                    6.195000   \n",
       "50%    5126.245000     5242.902123                   12.630000   \n",
       "75%    5933.110000     5426.184430                   22.175000   \n",
       "max    8008.540000     5765.256698                  120.360000   \n",
       "\n",
       "       Poynomial Reg.  real vs predicted polynomial %  \n",
       "count      586.000000                      586.000000  \n",
       "mean      5174.742728                       16.301331  \n",
       "std        361.019537                       15.240149  \n",
       "min       3905.419730                        0.020000  \n",
       "25%       4945.665595                        5.932500  \n",
       "50%       5222.884351                       12.370000  \n",
       "75%       5456.991519                       22.027500  \n",
       "max       5936.591773                      120.070000  "
      ]
     },
     "execution_count": 94,
     "metadata": {},
     "output_type": "execute_result"
    }
   ],
   "source": [
    "comparison1=pd.concat([real_prices, prices_simple_lin_reg, real_vs_predicted_simple,\n",
    "                      prices_polynomial, real_vs_predicted_polynomial], axis=1 )\n",
    "comparison1.describe()"
   ]
  },
  {
   "cell_type": "code",
   "execution_count": 95,
   "metadata": {},
   "outputs": [
    {
     "name": "stdout",
     "output_type": "stream",
     "text": [
      "Mean absolute error Simple Linear Regression is: 795.2494382406835\n",
      "Mean absolute error with Polynomian Regression is: 794.2763890445392\n"
     ]
    }
   ],
   "source": [
    "# Mean Absolute Error \n",
    "from sklearn.metrics import mean_absolute_error\n",
    "print('Mean absolute error Simple Linear Regression is:', mean_absolute_error(y_test,y_pred_simple_lin_reg))\n",
    "print('Mean absolute error with Polynomian Regression is:', mean_absolute_error(y_test, y_pred_polynomial))"
   ]
  },
  {
   "cell_type": "markdown",
   "metadata": {},
   "source": [
    "#### Conclusion\n",
    "As we can see above, there is no significant difference between results obtained with polynomial regression and simple linear regression"
   ]
  },
  {
   "cell_type": "markdown",
   "metadata": {},
   "source": [
    "# 4. Decision tree (non linear and non continous regression model)\n",
    "- in this exercise I will compare prices of apartments obtained using Decision Tree Model"
   ]
  },
  {
   "cell_type": "code",
   "execution_count": 121,
   "metadata": {},
   "outputs": [],
   "source": [
    "data=pd.read_csv('/home/kinga/python/Machine_Learning/cleared_data(flats).csv')"
   ]
  },
  {
   "cell_type": "code",
   "execution_count": 122,
   "metadata": {
    "scrolled": true
   },
   "outputs": [
    {
     "data": {
      "text/plain": [
       "Index(['Unnamed: 0', 'Cena_zł/m2', 'Data_transakcji', 'Ilość_izb',\n",
       "       'Kondygnacja', 'Pomieszczenia przynależne',\n",
       "       'Pole powierzchni pomieszczeń przynależnych', 'Obręb',\n",
       "       'powierzchnia_lokalu', 'Udział w prawie będący przedmiotem transakcji',\n",
       "       'miasto', 'ulica', 'wspolrzedne', 'dlugosc', 'szerokosc', 'Opis',\n",
       "       'Opis nieruchomości', 'Podstawa prawna'],\n",
       "      dtype='object')"
      ]
     },
     "execution_count": 122,
     "metadata": {},
     "output_type": "execute_result"
    }
   ],
   "source": [
    "data.columns"
   ]
  },
  {
   "cell_type": "code",
   "execution_count": 123,
   "metadata": {},
   "outputs": [],
   "source": [
    "# independent variables\n",
    "X=data[['Kondygnacja', 'Pole powierzchni pomieszczeń przynależnych', 'powierzchnia_lokalu', 'dlugosc', 'szerokosc']]\n",
    "# dependent variable\n",
    "y=data.iloc[:,1]"
   ]
  },
  {
   "cell_type": "code",
   "execution_count": 124,
   "metadata": {},
   "outputs": [],
   "source": [
    "# splitting dataset into training set and test set\n",
    "from sklearn.model_selection import train_test_split\n",
    "X_train, X_test, y_train, y_test=train_test_split(X, y, random_state=1)"
   ]
  },
  {
   "cell_type": "code",
   "execution_count": 125,
   "metadata": {},
   "outputs": [],
   "source": [
    "from sklearn.tree import DecisionTreeRegressor\n",
    "from sklearn.metrics import mean_absolute_error\n",
    "def get_mae(max_leaf_nodes, X_train, X_test, y_train, y_test):\n",
    "    \"\"\"\n",
    "    function to get Mean Absolute Error for different max_leaf_nodes\n",
    "    https://www.kaggle.com/learn/intro-to-machine-learning\n",
    "    \"\"\"\n",
    "    model = DecisionTreeRegressor(max_leaf_nodes=max_leaf_nodes, random_state=1)\n",
    "    model.fit(X_train, y_train) \n",
    "    y_pred=model.predict(X_test)\n",
    "    mae = mean_absolute_error(y_test, y_pred)\n",
    "    return(mae)"
   ]
  },
  {
   "cell_type": "code",
   "execution_count": 126,
   "metadata": {},
   "outputs": [
    {
     "name": "stdout",
     "output_type": "stream",
     "text": [
      "Max leaf nodes: 10  \t\t Mean Absolute Error:  796\n",
      "Max leaf nodes: 20  \t\t Mean Absolute Error:  767\n",
      "Max leaf nodes: 30  \t\t Mean Absolute Error:  745\n",
      "Max leaf nodes: 50  \t\t Mean Absolute Error:  747\n",
      "Max leaf nodes: 70  \t\t Mean Absolute Error:  759\n",
      "Max leaf nodes: 100  \t\t Mean Absolute Error:  771\n",
      "Max leaf nodes: 200  \t\t Mean Absolute Error:  788\n",
      "Max leaf nodes: 300  \t\t Mean Absolute Error:  835\n",
      "Max leaf nodes: 400  \t\t Mean Absolute Error:  839\n"
     ]
    }
   ],
   "source": [
    "# compare MAE with differing values of max_leaf_nodes\n",
    "for max_leaf_nodes in [10, 20,30, 50,70, 100, 200, 300, 400]:\n",
    "    my_mae = get_mae(max_leaf_nodes, X_train, X_test, y_train, y_test)\n",
    "    \n",
    "    print(\"Max leaf nodes: %d  \\t\\t Mean Absolute Error:  %d\" %(max_leaf_nodes, my_mae))"
   ]
  },
  {
   "cell_type": "code",
   "execution_count": 127,
   "metadata": {},
   "outputs": [
    {
     "name": "stdout",
     "output_type": "stream",
     "text": [
      "745.6082182689391\n"
     ]
    }
   ],
   "source": [
    "# as we can see above, the hihgest accuracy will be with max leaf nodes =30\n",
    "regressor=DecisionTreeRegressor(max_leaf_nodes=30, random_state=0)\n",
    "regressor.fit(X_train, y_train)\n",
    "\n",
    "# predicting prices\n",
    "y_pred_decision_tree=regressor.predict(X_test)\n",
    "\n",
    "print(mean_absolute_error(y_test, y_pred_decision_tree))"
   ]
  },
  {
   "cell_type": "markdown",
   "metadata": {},
   "source": [
    "# 5. Random Forest (non linear and non continous regression model)\n",
    "- in this exercise I will compare prices of apartments obtained using Random Forest Model"
   ]
  },
  {
   "cell_type": "code",
   "execution_count": 142,
   "metadata": {},
   "outputs": [],
   "source": [
    "data=pd.read_csv('/home/kinga/python/Machine_Learning/cleared_data(flats).csv')"
   ]
  },
  {
   "cell_type": "code",
   "execution_count": 143,
   "metadata": {
    "scrolled": true
   },
   "outputs": [
    {
     "data": {
      "text/plain": [
       "Index(['Unnamed: 0', 'Cena_zł/m2', 'Data_transakcji', 'Ilość_izb',\n",
       "       'Kondygnacja', 'Pomieszczenia przynależne',\n",
       "       'Pole powierzchni pomieszczeń przynależnych', 'Obręb',\n",
       "       'powierzchnia_lokalu', 'Udział w prawie będący przedmiotem transakcji',\n",
       "       'miasto', 'ulica', 'wspolrzedne', 'dlugosc', 'szerokosc', 'Opis',\n",
       "       'Opis nieruchomości', 'Podstawa prawna'],\n",
       "      dtype='object')"
      ]
     },
     "execution_count": 143,
     "metadata": {},
     "output_type": "execute_result"
    }
   ],
   "source": [
    "data.columns"
   ]
  },
  {
   "cell_type": "code",
   "execution_count": 144,
   "metadata": {},
   "outputs": [],
   "source": [
    "# independent variables\n",
    "X=data[['Kondygnacja', 'Pole powierzchni pomieszczeń przynależnych', 'powierzchnia_lokalu', 'dlugosc', 'szerokosc']]\n",
    "# dependent variable\n",
    "y=data.iloc[:,1]"
   ]
  },
  {
   "cell_type": "code",
   "execution_count": 145,
   "metadata": {},
   "outputs": [],
   "source": [
    "# splitting dataset into training set and test set\n",
    "from sklearn.model_selection import train_test_split\n",
    "X_train, X_test, y_train, y_test=train_test_split(X, y, random_state=0)"
   ]
  },
  {
   "cell_type": "code",
   "execution_count": 146,
   "metadata": {},
   "outputs": [],
   "source": [
    "from sklearn.ensemble import RandomForestRegressor\n",
    "from sklearn.metrics import mean_absolute_error\n",
    "def get_mae1(n_estimators, X_train, X_test, y_train, y_test):\n",
    "    model1 = RandomForestRegressor(n_estimators=n_estimators, random_state=0)\n",
    "    model1.fit(X_train, y_train) \n",
    "    y_pred1=model1.predict(X_test)\n",
    "    mae1 = mean_absolute_error(y_test, y_pred1)\n",
    "    return(mae1)"
   ]
  },
  {
   "cell_type": "code",
   "execution_count": 150,
   "metadata": {},
   "outputs": [
    {
     "name": "stdout",
     "output_type": "stream",
     "text": [
      "n_estimators: 10  \t\t Mean Absolute Error:  688\n",
      "n_estimators: 50  \t\t Mean Absolute Error:  653\n",
      "n_estimators: 70  \t\t Mean Absolute Error:  651\n",
      "n_estimators: 100  \t\t Mean Absolute Error:  652\n",
      "n_estimators: 120  \t\t Mean Absolute Error:  652\n",
      "n_estimators: 150  \t\t Mean Absolute Error:  652\n",
      "n_estimators: 200  \t\t Mean Absolute Error:  652\n",
      "n_estimators: 300  \t\t Mean Absolute Error:  652\n",
      "n_estimators: 400  \t\t Mean Absolute Error:  653\n"
     ]
    }
   ],
   "source": [
    "# compare MAE with differing values of max_leaf_nodes\n",
    "for n_estimators in [10, 50,70,100,120, 150, 200, 300, 400]:\n",
    "    my_mae1 = get_mae1(n_estimators, X_train, X_test, y_train, y_test)\n",
    "    \n",
    "    print(\"n_estimators: %d  \\t\\t Mean Absolute Error:  %d\" %(n_estimators, my_mae1))"
   ]
  },
  {
   "cell_type": "code",
   "execution_count": 156,
   "metadata": {},
   "outputs": [
    {
     "name": "stdout",
     "output_type": "stream",
     "text": [
      "651.9515991055466\n"
     ]
    }
   ],
   "source": [
    "# as we can see above, the hihgest accuracy will be with n_estimators =70\n",
    "regressor=RandomForestRegressor(n_estimators=70, random_state=0)\n",
    "regressor.fit(X_train, y_train)\n",
    "\n",
    "# predicting prices\n",
    "y_pred_random_forest=regressor.predict(X_test)\n",
    "print(mean_absolute_error(y_test, y_pred_random_forest))"
   ]
  },
  {
   "cell_type": "markdown",
   "metadata": {},
   "source": [
    "#### Comparing the results of Decision Tree and Random Forest Model"
   ]
  },
  {
   "cell_type": "code",
   "execution_count": 158,
   "metadata": {},
   "outputs": [],
   "source": [
    "# prices obtained with Decision Tree\n",
    "prices_decision_tree=pd.Series(y_pred_decision_tree, name='Decision Tree')\n",
    "\n",
    "# prices obtained with Random Forest\n",
    "prices_random_forest=pd.Series(y_pred_random_forest, name='Random Forest')\n",
    "\n",
    "#real prices\n",
    "real_prices=y_test.reset_index(drop=True).rename('Real prices')\n",
    "\n",
    "real_vs_decision_tree=abs(round(100-prices_decision_tree*100/real_prices,2)).rename('Real vs Decision Tree %')\n",
    "real_vs_random_forest=abs(round(100-y_pred_random_forest*100/real_prices,2)).rename('Real vs Random Forest %')"
   ]
  },
  {
   "cell_type": "code",
   "execution_count": 159,
   "metadata": {
    "scrolled": true
   },
   "outputs": [
    {
     "data": {
      "text/html": [
       "<div>\n",
       "<style scoped>\n",
       "    .dataframe tbody tr th:only-of-type {\n",
       "        vertical-align: middle;\n",
       "    }\n",
       "\n",
       "    .dataframe tbody tr th {\n",
       "        vertical-align: top;\n",
       "    }\n",
       "\n",
       "    .dataframe thead th {\n",
       "        text-align: right;\n",
       "    }\n",
       "</style>\n",
       "<table border=\"1\" class=\"dataframe\">\n",
       "  <thead>\n",
       "    <tr style=\"text-align: right;\">\n",
       "      <th></th>\n",
       "      <th>Real prices</th>\n",
       "      <th>Decision Tree</th>\n",
       "      <th>Real vs Decision Tree %</th>\n",
       "      <th>Random Forest</th>\n",
       "      <th>Real vs Random Forest %</th>\n",
       "    </tr>\n",
       "  </thead>\n",
       "  <tbody>\n",
       "    <tr>\n",
       "      <th>count</th>\n",
       "      <td>586.000000</td>\n",
       "      <td>586.000000</td>\n",
       "      <td>586.000000</td>\n",
       "      <td>586.000000</td>\n",
       "      <td>586.000000</td>\n",
       "    </tr>\n",
       "    <tr>\n",
       "      <th>mean</th>\n",
       "      <td>5192.981945</td>\n",
       "      <td>5173.276074</td>\n",
       "      <td>19.981263</td>\n",
       "      <td>5181.762179</td>\n",
       "      <td>13.490392</td>\n",
       "    </tr>\n",
       "    <tr>\n",
       "      <th>std</th>\n",
       "      <td>1071.161724</td>\n",
       "      <td>659.737913</td>\n",
       "      <td>18.491549</td>\n",
       "      <td>652.839311</td>\n",
       "      <td>14.113830</td>\n",
       "    </tr>\n",
       "    <tr>\n",
       "      <th>min</th>\n",
       "      <td>2403.320000</td>\n",
       "      <td>3581.218571</td>\n",
       "      <td>0.070000</td>\n",
       "      <td>3250.781857</td>\n",
       "      <td>0.010000</td>\n",
       "    </tr>\n",
       "    <tr>\n",
       "      <th>25%</th>\n",
       "      <td>4523.975000</td>\n",
       "      <td>4816.794048</td>\n",
       "      <td>7.072500</td>\n",
       "      <td>4776.348509</td>\n",
       "      <td>4.332500</td>\n",
       "    </tr>\n",
       "    <tr>\n",
       "      <th>50%</th>\n",
       "      <td>5126.245000</td>\n",
       "      <td>5143.755234</td>\n",
       "      <td>15.195000</td>\n",
       "      <td>5176.180250</td>\n",
       "      <td>9.160000</td>\n",
       "    </tr>\n",
       "    <tr>\n",
       "      <th>75%</th>\n",
       "      <td>5933.110000</td>\n",
       "      <td>5512.491546</td>\n",
       "      <td>26.237500</td>\n",
       "      <td>5581.959464</td>\n",
       "      <td>18.050000</td>\n",
       "    </tr>\n",
       "    <tr>\n",
       "      <th>max</th>\n",
       "      <td>8008.540000</td>\n",
       "      <td>7275.651667</td>\n",
       "      <td>150.090000</td>\n",
       "      <td>7142.383857</td>\n",
       "      <td>105.660000</td>\n",
       "    </tr>\n",
       "  </tbody>\n",
       "</table>\n",
       "</div>"
      ],
      "text/plain": [
       "       Real prices  Decision Tree  Real vs Decision Tree %  Random Forest  \\\n",
       "count   586.000000     586.000000               586.000000     586.000000   \n",
       "mean   5192.981945    5173.276074                19.981263    5181.762179   \n",
       "std    1071.161724     659.737913                18.491549     652.839311   \n",
       "min    2403.320000    3581.218571                 0.070000    3250.781857   \n",
       "25%    4523.975000    4816.794048                 7.072500    4776.348509   \n",
       "50%    5126.245000    5143.755234                15.195000    5176.180250   \n",
       "75%    5933.110000    5512.491546                26.237500    5581.959464   \n",
       "max    8008.540000    7275.651667               150.090000    7142.383857   \n",
       "\n",
       "       Real vs Random Forest %  \n",
       "count               586.000000  \n",
       "mean                 13.490392  \n",
       "std                  14.113830  \n",
       "min                   0.010000  \n",
       "25%                   4.332500  \n",
       "50%                   9.160000  \n",
       "75%                  18.050000  \n",
       "max                 105.660000  "
      ]
     },
     "execution_count": 159,
     "metadata": {},
     "output_type": "execute_result"
    }
   ],
   "source": [
    "comparison2=pd.concat([real_prices, prices_decision_tree, real_vs_decision_tree,\n",
    "                      prices_random_forest, real_vs_random_forest], axis=1 )\n",
    "comparison2.describe()"
   ]
  },
  {
   "cell_type": "code",
   "execution_count": 160,
   "metadata": {},
   "outputs": [
    {
     "data": {
      "text/html": [
       "<div>\n",
       "<style scoped>\n",
       "    .dataframe tbody tr th:only-of-type {\n",
       "        vertical-align: middle;\n",
       "    }\n",
       "\n",
       "    .dataframe tbody tr th {\n",
       "        vertical-align: top;\n",
       "    }\n",
       "\n",
       "    .dataframe thead th {\n",
       "        text-align: right;\n",
       "    }\n",
       "</style>\n",
       "<table border=\"1\" class=\"dataframe\">\n",
       "  <thead>\n",
       "    <tr style=\"text-align: right;\">\n",
       "      <th></th>\n",
       "      <th>Real prices</th>\n",
       "      <th>Decision Tree</th>\n",
       "      <th>Real vs Decision Tree %</th>\n",
       "      <th>Random Forest</th>\n",
       "      <th>Real vs Random Forest %</th>\n",
       "    </tr>\n",
       "  </thead>\n",
       "  <tbody>\n",
       "    <tr>\n",
       "      <th>0</th>\n",
       "      <td>4362.42</td>\n",
       "      <td>4816.794048</td>\n",
       "      <td>10.42</td>\n",
       "      <td>5338.216810</td>\n",
       "      <td>22.37</td>\n",
       "    </tr>\n",
       "    <tr>\n",
       "      <th>1</th>\n",
       "      <td>4725.57</td>\n",
       "      <td>7275.651667</td>\n",
       "      <td>53.96</td>\n",
       "      <td>5118.988571</td>\n",
       "      <td>8.33</td>\n",
       "    </tr>\n",
       "    <tr>\n",
       "      <th>2</th>\n",
       "      <td>4752.85</td>\n",
       "      <td>4493.118714</td>\n",
       "      <td>5.46</td>\n",
       "      <td>4646.695286</td>\n",
       "      <td>2.23</td>\n",
       "    </tr>\n",
       "    <tr>\n",
       "      <th>3</th>\n",
       "      <td>4893.48</td>\n",
       "      <td>5023.512286</td>\n",
       "      <td>2.66</td>\n",
       "      <td>4952.273286</td>\n",
       "      <td>1.20</td>\n",
       "    </tr>\n",
       "    <tr>\n",
       "      <th>4</th>\n",
       "      <td>6207.63</td>\n",
       "      <td>5023.512286</td>\n",
       "      <td>19.08</td>\n",
       "      <td>5400.179714</td>\n",
       "      <td>13.01</td>\n",
       "    </tr>\n",
       "  </tbody>\n",
       "</table>\n",
       "</div>"
      ],
      "text/plain": [
       "   Real prices  Decision Tree  Real vs Decision Tree %  Random Forest  \\\n",
       "0      4362.42    4816.794048                    10.42    5338.216810   \n",
       "1      4725.57    7275.651667                    53.96    5118.988571   \n",
       "2      4752.85    4493.118714                     5.46    4646.695286   \n",
       "3      4893.48    5023.512286                     2.66    4952.273286   \n",
       "4      6207.63    5023.512286                    19.08    5400.179714   \n",
       "\n",
       "   Real vs Random Forest %  \n",
       "0                    22.37  \n",
       "1                     8.33  \n",
       "2                     2.23  \n",
       "3                     1.20  \n",
       "4                    13.01  "
      ]
     },
     "execution_count": 160,
     "metadata": {},
     "output_type": "execute_result"
    }
   ],
   "source": [
    "comparison2.head()"
   ]
  },
  {
   "cell_type": "code",
   "execution_count": null,
   "metadata": {},
   "outputs": [],
   "source": []
  }
 ],
 "metadata": {
  "kernelspec": {
   "display_name": "Python 3",
   "language": "python",
   "name": "python3"
  },
  "language_info": {
   "codemirror_mode": {
    "name": "ipython",
    "version": 3
   },
   "file_extension": ".py",
   "mimetype": "text/x-python",
   "name": "python",
   "nbconvert_exporter": "python",
   "pygments_lexer": "ipython3",
   "version": "3.6.8"
  }
 },
 "nbformat": 4,
 "nbformat_minor": 2
}
